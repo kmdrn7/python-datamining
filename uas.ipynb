{
 "cells": [
  {
   "cell_type": "code",
   "execution_count": 188,
   "metadata": {},
   "outputs": [
    {
     "output_type": "execute_result",
     "data": {
      "text/plain": "       InvoiceNo  StockCode  Qty         InvoiceDate  CustomerID  \\\n0         537626      22725  830 2010-12-07 14:57:00       12347   \n1         537626      22729  948 2010-12-07 14:57:00       12347   \n2         537626      22195  695 2010-12-07 14:57:00       12347   \n3         542237      22725  636 2011-01-26 14:30:00       12347   \n4         542237      22729  536 2011-01-26 14:30:00       12347   \n...          ...        ...  ...                 ...         ...   \n10541     543911      21700  455 2011-02-14 12:46:00       17829   \n10542     543911      22111  578 2011-02-14 12:46:00       17829   \n10543     543911      22112  163 2011-02-14 12:46:00       17829   \n10544     564428      23296  545 2011-08-25 11:27:00       17844   \n10545     564428      23294  643 2011-08-25 11:27:00       17844   \n\n                    Country  Month  Year  \n0                   Iceland     12  2010  \n1                   Iceland     12  2010  \n2                   Iceland     12  2010  \n3                   Iceland      1  2011  \n4                   Iceland      1  2011  \n...                     ...    ...   ...  \n10541  United Arab Emirates      2  2011  \n10542  United Arab Emirates      2  2011  \n10543  United Arab Emirates      2  2011  \n10544                Canada      8  2011  \n10545                Canada      8  2011  \n\n[10546 rows x 8 columns]",
      "text/html": "<div>\n<style scoped>\n    .dataframe tbody tr th:only-of-type {\n        vertical-align: middle;\n    }\n\n    .dataframe tbody tr th {\n        vertical-align: top;\n    }\n\n    .dataframe thead th {\n        text-align: right;\n    }\n</style>\n<table border=\"1\" class=\"dataframe\">\n  <thead>\n    <tr style=\"text-align: right;\">\n      <th></th>\n      <th>InvoiceNo</th>\n      <th>StockCode</th>\n      <th>Qty</th>\n      <th>InvoiceDate</th>\n      <th>CustomerID</th>\n      <th>Country</th>\n      <th>Month</th>\n      <th>Year</th>\n    </tr>\n  </thead>\n  <tbody>\n    <tr>\n      <th>0</th>\n      <td>537626</td>\n      <td>22725</td>\n      <td>830</td>\n      <td>2010-12-07 14:57:00</td>\n      <td>12347</td>\n      <td>Iceland</td>\n      <td>12</td>\n      <td>2010</td>\n    </tr>\n    <tr>\n      <th>1</th>\n      <td>537626</td>\n      <td>22729</td>\n      <td>948</td>\n      <td>2010-12-07 14:57:00</td>\n      <td>12347</td>\n      <td>Iceland</td>\n      <td>12</td>\n      <td>2010</td>\n    </tr>\n    <tr>\n      <th>2</th>\n      <td>537626</td>\n      <td>22195</td>\n      <td>695</td>\n      <td>2010-12-07 14:57:00</td>\n      <td>12347</td>\n      <td>Iceland</td>\n      <td>12</td>\n      <td>2010</td>\n    </tr>\n    <tr>\n      <th>3</th>\n      <td>542237</td>\n      <td>22725</td>\n      <td>636</td>\n      <td>2011-01-26 14:30:00</td>\n      <td>12347</td>\n      <td>Iceland</td>\n      <td>1</td>\n      <td>2011</td>\n    </tr>\n    <tr>\n      <th>4</th>\n      <td>542237</td>\n      <td>22729</td>\n      <td>536</td>\n      <td>2011-01-26 14:30:00</td>\n      <td>12347</td>\n      <td>Iceland</td>\n      <td>1</td>\n      <td>2011</td>\n    </tr>\n    <tr>\n      <th>...</th>\n      <td>...</td>\n      <td>...</td>\n      <td>...</td>\n      <td>...</td>\n      <td>...</td>\n      <td>...</td>\n      <td>...</td>\n      <td>...</td>\n    </tr>\n    <tr>\n      <th>10541</th>\n      <td>543911</td>\n      <td>21700</td>\n      <td>455</td>\n      <td>2011-02-14 12:46:00</td>\n      <td>17829</td>\n      <td>United Arab Emirates</td>\n      <td>2</td>\n      <td>2011</td>\n    </tr>\n    <tr>\n      <th>10542</th>\n      <td>543911</td>\n      <td>22111</td>\n      <td>578</td>\n      <td>2011-02-14 12:46:00</td>\n      <td>17829</td>\n      <td>United Arab Emirates</td>\n      <td>2</td>\n      <td>2011</td>\n    </tr>\n    <tr>\n      <th>10543</th>\n      <td>543911</td>\n      <td>22112</td>\n      <td>163</td>\n      <td>2011-02-14 12:46:00</td>\n      <td>17829</td>\n      <td>United Arab Emirates</td>\n      <td>2</td>\n      <td>2011</td>\n    </tr>\n    <tr>\n      <th>10544</th>\n      <td>564428</td>\n      <td>23296</td>\n      <td>545</td>\n      <td>2011-08-25 11:27:00</td>\n      <td>17844</td>\n      <td>Canada</td>\n      <td>8</td>\n      <td>2011</td>\n    </tr>\n    <tr>\n      <th>10545</th>\n      <td>564428</td>\n      <td>23294</td>\n      <td>643</td>\n      <td>2011-08-25 11:27:00</td>\n      <td>17844</td>\n      <td>Canada</td>\n      <td>8</td>\n      <td>2011</td>\n    </tr>\n  </tbody>\n</table>\n<p>10546 rows × 8 columns</p>\n</div>"
     },
     "metadata": {},
     "execution_count": 188
    }
   ],
   "source": [
    "import pandas as pd\n",
    "import numpy as np\n",
    "\n",
    "dataset = pd.read_csv('transaction.csv')\n",
    "dataset[\"InvoiceDate\"] = pd.to_datetime(dataset[\"InvoiceDate\"])\n",
    "dataset[\"Month\"] = dataset[\"InvoiceDate\"].dt.month\n",
    "dataset[\"Year\"] = dataset[\"InvoiceDate\"].dt.year\n",
    "dataset"
   ]
  },
  {
   "cell_type": "code",
   "execution_count": 189,
   "metadata": {},
   "outputs": [
    {
     "output_type": "execute_result",
     "data": {
      "text/plain": "       InvoiceNo               Country  Month  Year\n3         542237               Iceland      1  2011\n4         542237               Iceland      1  2011\n5         542237               Iceland      1  2011\n6         542237               Iceland      1  2011\n7         542237               Iceland      1  2011\n...          ...                   ...    ...   ...\n10541     543911  United Arab Emirates      2  2011\n10542     543911  United Arab Emirates      2  2011\n10543     543911  United Arab Emirates      2  2011\n10544     564428                Canada      8  2011\n10545     564428                Canada      8  2011\n\n[10060 rows x 4 columns]",
      "text/html": "<div>\n<style scoped>\n    .dataframe tbody tr th:only-of-type {\n        vertical-align: middle;\n    }\n\n    .dataframe tbody tr th {\n        vertical-align: top;\n    }\n\n    .dataframe thead th {\n        text-align: right;\n    }\n</style>\n<table border=\"1\" class=\"dataframe\">\n  <thead>\n    <tr style=\"text-align: right;\">\n      <th></th>\n      <th>InvoiceNo</th>\n      <th>Country</th>\n      <th>Month</th>\n      <th>Year</th>\n    </tr>\n  </thead>\n  <tbody>\n    <tr>\n      <th>3</th>\n      <td>542237</td>\n      <td>Iceland</td>\n      <td>1</td>\n      <td>2011</td>\n    </tr>\n    <tr>\n      <th>4</th>\n      <td>542237</td>\n      <td>Iceland</td>\n      <td>1</td>\n      <td>2011</td>\n    </tr>\n    <tr>\n      <th>5</th>\n      <td>542237</td>\n      <td>Iceland</td>\n      <td>1</td>\n      <td>2011</td>\n    </tr>\n    <tr>\n      <th>6</th>\n      <td>542237</td>\n      <td>Iceland</td>\n      <td>1</td>\n      <td>2011</td>\n    </tr>\n    <tr>\n      <th>7</th>\n      <td>542237</td>\n      <td>Iceland</td>\n      <td>1</td>\n      <td>2011</td>\n    </tr>\n    <tr>\n      <th>...</th>\n      <td>...</td>\n      <td>...</td>\n      <td>...</td>\n      <td>...</td>\n    </tr>\n    <tr>\n      <th>10541</th>\n      <td>543911</td>\n      <td>United Arab Emirates</td>\n      <td>2</td>\n      <td>2011</td>\n    </tr>\n    <tr>\n      <th>10542</th>\n      <td>543911</td>\n      <td>United Arab Emirates</td>\n      <td>2</td>\n      <td>2011</td>\n    </tr>\n    <tr>\n      <th>10543</th>\n      <td>543911</td>\n      <td>United Arab Emirates</td>\n      <td>2</td>\n      <td>2011</td>\n    </tr>\n    <tr>\n      <th>10544</th>\n      <td>564428</td>\n      <td>Canada</td>\n      <td>8</td>\n      <td>2011</td>\n    </tr>\n    <tr>\n      <th>10545</th>\n      <td>564428</td>\n      <td>Canada</td>\n      <td>8</td>\n      <td>2011</td>\n    </tr>\n  </tbody>\n</table>\n<p>10060 rows × 4 columns</p>\n</div>"
     },
     "metadata": {},
     "execution_count": 189
    }
   ],
   "source": [
    "data = dataset[dataset[\"Year\"] == 2011][[\"InvoiceNo\",\"Country\",\"Month\",\"Year\"]]\n",
    "data"
   ]
  },
  {
   "cell_type": "code",
   "execution_count": 190,
   "metadata": {},
   "outputs": [
    {
     "output_type": "execute_result",
     "data": {
      "text/plain": "    Bulan  Perkembangan_Transaksi\n0       1                    27.0\n1       2                    19.0\n2       3                    24.5\n3       4                    21.0\n4       5                    33.5\n5       6                    28.0\n6       7                    29.0\n7       8                    26.5\n8       9                    43.0\n9      10                    47.0\n10     11                    55.0\n11     12                    15.5",
      "text/html": "<div>\n<style scoped>\n    .dataframe tbody tr th:only-of-type {\n        vertical-align: middle;\n    }\n\n    .dataframe tbody tr th {\n        vertical-align: top;\n    }\n\n    .dataframe thead th {\n        text-align: right;\n    }\n</style>\n<table border=\"1\" class=\"dataframe\">\n  <thead>\n    <tr style=\"text-align: right;\">\n      <th></th>\n      <th>Bulan</th>\n      <th>Perkembangan_Transaksi</th>\n    </tr>\n  </thead>\n  <tbody>\n    <tr>\n      <th>0</th>\n      <td>1</td>\n      <td>27.0</td>\n    </tr>\n    <tr>\n      <th>1</th>\n      <td>2</td>\n      <td>19.0</td>\n    </tr>\n    <tr>\n      <th>2</th>\n      <td>3</td>\n      <td>24.5</td>\n    </tr>\n    <tr>\n      <th>3</th>\n      <td>4</td>\n      <td>21.0</td>\n    </tr>\n    <tr>\n      <th>4</th>\n      <td>5</td>\n      <td>33.5</td>\n    </tr>\n    <tr>\n      <th>5</th>\n      <td>6</td>\n      <td>28.0</td>\n    </tr>\n    <tr>\n      <th>6</th>\n      <td>7</td>\n      <td>29.0</td>\n    </tr>\n    <tr>\n      <th>7</th>\n      <td>8</td>\n      <td>26.5</td>\n    </tr>\n    <tr>\n      <th>8</th>\n      <td>9</td>\n      <td>43.0</td>\n    </tr>\n    <tr>\n      <th>9</th>\n      <td>10</td>\n      <td>47.0</td>\n    </tr>\n    <tr>\n      <th>10</th>\n      <td>11</td>\n      <td>55.0</td>\n    </tr>\n    <tr>\n      <th>11</th>\n      <td>12</td>\n      <td>15.5</td>\n    </tr>\n  </tbody>\n</table>\n</div>"
     },
     "metadata": {},
     "execution_count": 190
    }
   ],
   "source": [
    "from sklearn.cluster import AgglomerativeClustering\n",
    "from sklearn.neighbors import NearestCentroid\n",
    "\n",
    "transaksi_tinggi = []\n",
    "nCluster = 3\n",
    "\n",
    "for idx in range(1, 13):\n",
    "    data_bulan = data[data[\"Month\"] == idx]\n",
    "    data_bulan = data_bulan.drop_duplicates(subset=\"InvoiceNo\")\n",
    "    transaksi = data_bulan.groupby([\"Country\"])[\"InvoiceNo\"].agg('count').reset_index()\n",
    "\n",
    "    X = transaksi[[\"InvoiceNo\"]]\n",
    "    cluster = AgglomerativeClustering(n_clusters=nCluster, affinity=\"euclidean\", linkage=\"average\")\n",
    "    ypred = cluster.fit_predict(X)\n",
    "    nearestCentroid = NearestCentroid()\n",
    "    nearestCentroid.fit(X, ypred)\n",
    "\n",
    "    centroids = pd.DataFrame(columns=[\"X\"], data=nearestCentroid.centroids_).sort_values(by=[\"X\"])\n",
    "    transaksi_tinggi.append([idx,centroids.iloc[nCluster-1][\"X\"]])\n",
    "\n",
    "transaksi_tinggi = pd.DataFrame(columns=[\"Bulan\",\"Perkembangan_Transaksi\"], data=transaksi_tinggi)\n",
    "transaksi_tinggi"
   ]
  },
  {
   "cell_type": "code",
   "execution_count": 191,
   "metadata": {},
   "outputs": [
    {
     "output_type": "execute_result",
     "data": {
      "text/html": "\n<div id=\"altair-viz-c180604eadae45af8ee2a8ba1eee5970\"></div>\n<script type=\"text/javascript\">\n  (function(spec, embedOpt){\n    let outputDiv = document.currentScript.previousElementSibling;\n    if (outputDiv.id !== \"altair-viz-c180604eadae45af8ee2a8ba1eee5970\") {\n      outputDiv = document.getElementById(\"altair-viz-c180604eadae45af8ee2a8ba1eee5970\");\n    }\n    const paths = {\n      \"vega\": \"https://cdn.jsdelivr.net/npm//vega@5?noext\",\n      \"vega-lib\": \"https://cdn.jsdelivr.net/npm//vega-lib?noext\",\n      \"vega-lite\": \"https://cdn.jsdelivr.net/npm//vega-lite@4.8.1?noext\",\n      \"vega-embed\": \"https://cdn.jsdelivr.net/npm//vega-embed@6?noext\",\n    };\n\n    function loadScript(lib) {\n      return new Promise(function(resolve, reject) {\n        var s = document.createElement('script');\n        s.src = paths[lib];\n        s.async = true;\n        s.onload = () => resolve(paths[lib]);\n        s.onerror = () => reject(`Error loading script: ${paths[lib]}`);\n        document.getElementsByTagName(\"head\")[0].appendChild(s);\n      });\n    }\n\n    function showError(err) {\n      outputDiv.innerHTML = `<div class=\"error\" style=\"color:red;\">${err}</div>`;\n      throw err;\n    }\n\n    function displayChart(vegaEmbed) {\n      vegaEmbed(outputDiv, spec, embedOpt)\n        .catch(err => showError(`Javascript Error: ${err.message}<br>This usually means there's a typo in your chart specification. See the javascript console for the full traceback.`));\n    }\n\n    if(typeof define === \"function\" && define.amd) {\n      requirejs.config({paths});\n      require([\"vega-embed\"], displayChart, err => showError(`Error loading script: ${err.message}`));\n    } else if (typeof vegaEmbed === \"function\") {\n      displayChart(vegaEmbed);\n    } else {\n      loadScript(\"vega\")\n        .then(() => loadScript(\"vega-lite\"))\n        .then(() => loadScript(\"vega-embed\"))\n        .catch(showError)\n        .then(() => displayChart(vegaEmbed));\n    }\n  })({\"config\": {\"view\": {\"continuousWidth\": 400, \"continuousHeight\": 300}}, \"data\": {\"name\": \"data-7c22d13203671b100aac2395b0ff77a9\"}, \"mark\": \"line\", \"encoding\": {\"x\": {\"type\": \"quantitative\", \"field\": \"Bulan\"}, \"y\": {\"type\": \"quantitative\", \"field\": \"Perkembangan_Transaksi\"}}, \"$schema\": \"https://vega.github.io/schema/vega-lite/v4.8.1.json\", \"datasets\": {\"data-7c22d13203671b100aac2395b0ff77a9\": [{\"Bulan\": 1, \"Perkembangan_Transaksi\": 27.0}, {\"Bulan\": 2, \"Perkembangan_Transaksi\": 19.0}, {\"Bulan\": 3, \"Perkembangan_Transaksi\": 24.5}, {\"Bulan\": 4, \"Perkembangan_Transaksi\": 21.0}, {\"Bulan\": 5, \"Perkembangan_Transaksi\": 33.5}, {\"Bulan\": 6, \"Perkembangan_Transaksi\": 28.0}, {\"Bulan\": 7, \"Perkembangan_Transaksi\": 29.0}, {\"Bulan\": 8, \"Perkembangan_Transaksi\": 26.5}, {\"Bulan\": 9, \"Perkembangan_Transaksi\": 43.0}, {\"Bulan\": 10, \"Perkembangan_Transaksi\": 47.0}, {\"Bulan\": 11, \"Perkembangan_Transaksi\": 55.0}, {\"Bulan\": 12, \"Perkembangan_Transaksi\": 15.5}]}}, {\"mode\": \"vega-lite\"});\n</script>",
      "text/plain": "alt.Chart(...)"
     },
     "metadata": {},
     "execution_count": 191
    }
   ],
   "source": [
    "import altair as alt\n",
    "\n",
    "alt.Chart(transaksi_tinggi).mark_line().encode(\n",
    "    x=\"Bulan:Q\", y=\"Perkembangan_Transaksi:Q\",\n",
    ")"
   ]
  },
  {
   "cell_type": "code",
   "execution_count": 192,
   "metadata": {},
   "outputs": [
    {
     "output_type": "execute_result",
     "data": {
      "text/plain": "array([[40.86363636]])"
     },
     "metadata": {},
     "execution_count": 192
    }
   ],
   "source": [
    "from sklearn.linear_model import LinearRegression\n",
    "\n",
    "X = transaksi_tinggi[\"Bulan\"].values.reshape(-1, 1)\n",
    "Y = transaksi_tinggi[\"Perkembangan_Transaksi\"].values.reshape(-1, 1)\n",
    "\n",
    "reg = LinearRegression()\n",
    "reg.fit(X, Y)\n",
    "\n",
    "ypred = reg.predict([[13]])\n",
    "ypred"
   ]
  }
 ],
 "metadata": {
  "language_info": {
   "codemirror_mode": {
    "name": "ipython",
    "version": 3
   },
   "file_extension": ".py",
   "mimetype": "text/x-python",
   "name": "python",
   "nbconvert_exporter": "python",
   "pygments_lexer": "ipython3",
   "version": "3.8.2-final"
  },
  "orig_nbformat": 2,
  "kernelspec": {
   "name": "python37364bitdataminingvenv040b2d7edb43458bb09fb3ef07d16849",
   "display_name": "Python 3.7.3 64-bit ('DataMining': venv)"
  }
 },
 "nbformat": 4,
 "nbformat_minor": 2
}