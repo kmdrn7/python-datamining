{
 "cells": [
  {
   "cell_type": "code",
   "execution_count": 156,
   "metadata": {},
   "outputs": [],
   "source": [
    "from Sastrawi.StopWordRemover.StopWordRemoverFactory import StopWordRemoverFactory, StopWordRemover, ArrayDictionary\n",
    "\n",
    "stopword_more = []\n",
    "stopword_sastrawi = StopWordRemoverFactory().get_stop_words()\n",
    "\n",
    "with open(\"textmining/stoplist.txt\", mode=\"r\", encoding=\"charmap\") as stoplist:\n",
    "    stopword_more = stoplist.read().split()\n",
    "\n",
    "stopwords = stopword_sastrawi + stopword_more\n",
    "\n",
    "dictionary = ArrayDictionary(stopwords)\n",
    "stopwordRemover = StopWordRemover(dictionary)"
   ]
  },
  {
   "cell_type": "code",
   "execution_count": 157,
   "metadata": {},
   "outputs": [],
   "source": [
    "from Sastrawi.Stemmer.StemmerFactory import StemmerFactory\n",
    "\n",
    "stemmerFactory = StemmerFactory()\n",
    "stemmer = stemmerFactory.create_stemmer()"
   ]
  },
  {
   "cell_type": "code",
   "execution_count": 158,
   "metadata": {},
   "outputs": [],
   "source": [
    "def computeTF(wordDict, bagOfWords):\n",
    "    tfDict = {}\n",
    "    bagOfWordsCount = len(bagOfWords)\n",
    "    for word, count in wordDict.items():\n",
    "        tfDict[word] = count / float(bagOfWordsCount)\n",
    "    return tfDict"
   ]
  },
  {
   "cell_type": "code",
   "execution_count": 159,
   "metadata": {},
   "outputs": [],
   "source": [
    "from Sastrawi.Stemmer.StemmerFactory import StemmerFactory\n",
    "from nltk.tokenize import word_tokenize\n",
    "import string\n",
    "import re\n",
    "\n",
    "def ClearAll(stringData):\n",
    "    ret = re.sub(r\"\\d+\", \"\", stringData).translate(str.maketrans(\"\",\"\",string.punctuation)).strip().lower()\n",
    "    ret = stemmer.stem(ret)\n",
    "    ret = set(word_tokenize(stopwordRemover.remove(ret)))\n",
    "    return ret\n",
    "\n",
    "keywords = []\n",
    "bow = set([])\n",
    "data = []\n",
    "\n",
    "for idx in range(1,51):\n",
    "    with open(\"textmining/news_dataset/data{index}.txt\".format(index=idx), mode=\"r\", encoding=\"charmap\") as news:\n",
    "        data.append(news.read())\n",
    "        keywords.append([])\n",
    "        keywords[idx-1] = ClearAll(data[idx-1])\n",
    "        bow = set(bow).union(set(keywords[idx-1]))"
   ]
  },
  {
   "cell_type": "code",
   "execution_count": 160,
   "metadata": {},
   "outputs": [],
   "source": [
    "import pandas as pd\n",
    "\n",
    "now = []\n",
    "score = []\n",
    "\n",
    "idx=0\n",
    "for kwd in keywords:\n",
    "    now.append(dict.fromkeys(bow, 0))\n",
    "    for word in keywords[idx]:\n",
    "        now[idx][word] += 1\n",
    "    scoredf = pd.DataFrame(data=computeTF(now[idx], keywords[idx]), index=[0]).transpose()\n",
    "    maxtf = float(scoredf.max()/2)\n",
    "    tmpdf = scoredf[scoredf[0] < maxtf]\n",
    "    for index,row in tmpdf.iterrows():\n",
    "        scoredf.drop(index, inplace=True)\n",
    "    score.append(scoredf.to_dict())\n",
    "    idx+=1"
   ]
  },
  {
   "cell_type": "code",
   "execution_count": 161,
   "metadata": {},
   "outputs": [
    {
     "output_type": "execute_result",
     "data": {
      "text/plain": "{'ekonomi', 'gera', 'harga', 'kembang', 'pasar', 'saham', 'tumbuh'}"
     },
     "metadata": {},
     "execution_count": 161
    }
   ],
   "source": [
    "querylist = \"pertumbuhan ekonomi, perkembangan pasar dan pergerakan harga saham\"\n",
    "querylist = ClearAll(querylist)\n",
    "querylist"
   ]
  },
  {
   "cell_type": "code",
   "execution_count": 241,
   "metadata": {},
   "outputs": [
    {
     "output_type": "execute_result",
     "data": {
      "text/plain": "    Doc  TotalScore\n47   48    0.040816\n1     2    0.030075\n41   42    0.029412\n42   43    0.026316\n7     8    0.025641\n38   39    0.024390\n48   49    0.024096\n5     6    0.023810\n4     5    0.023438\n8     9    0.022388",
      "text/html": "<div>\n<style scoped>\n    .dataframe tbody tr th:only-of-type {\n        vertical-align: middle;\n    }\n\n    .dataframe tbody tr th {\n        vertical-align: top;\n    }\n\n    .dataframe thead th {\n        text-align: right;\n    }\n</style>\n<table border=\"1\" class=\"dataframe\">\n  <thead>\n    <tr style=\"text-align: right;\">\n      <th></th>\n      <th>Doc</th>\n      <th>TotalScore</th>\n    </tr>\n  </thead>\n  <tbody>\n    <tr>\n      <th>47</th>\n      <td>48</td>\n      <td>0.040816</td>\n    </tr>\n    <tr>\n      <th>1</th>\n      <td>2</td>\n      <td>0.030075</td>\n    </tr>\n    <tr>\n      <th>41</th>\n      <td>42</td>\n      <td>0.029412</td>\n    </tr>\n    <tr>\n      <th>42</th>\n      <td>43</td>\n      <td>0.026316</td>\n    </tr>\n    <tr>\n      <th>7</th>\n      <td>8</td>\n      <td>0.025641</td>\n    </tr>\n    <tr>\n      <th>38</th>\n      <td>39</td>\n      <td>0.024390</td>\n    </tr>\n    <tr>\n      <th>48</th>\n      <td>49</td>\n      <td>0.024096</td>\n    </tr>\n    <tr>\n      <th>5</th>\n      <td>6</td>\n      <td>0.023810</td>\n    </tr>\n    <tr>\n      <th>4</th>\n      <td>5</td>\n      <td>0.023438</td>\n    </tr>\n    <tr>\n      <th>8</th>\n      <td>9</td>\n      <td>0.022388</td>\n    </tr>\n  </tbody>\n</table>\n</div>"
     },
     "metadata": {},
     "execution_count": 241
    }
   ],
   "source": [
    "rankdocs = []\n",
    "\n",
    "idx=0\n",
    "for scr in score:\n",
    "    totalScore = 0\n",
    "    for query in querylist:\n",
    "        if query in score[idx][0]:\n",
    "            totalScore += score[idx][0][query]\n",
    "    rankdocs.append({\n",
    "        \"Doc\":idx+1,\n",
    "        \"TotalScore\":totalScore\n",
    "    })\n",
    "    idx+=1\n",
    "\n",
    "ranked = pd.DataFrame(rankdocs).sort_values(\"TotalScore\", ascending=False).head(10)\n",
    "ranked"
   ]
  },
  {
   "cell_type": "code",
   "execution_count": 183,
   "metadata": {},
   "outputs": [
    {
     "output_type": "execute_result",
     "data": {
      "text/plain": "    Data Category\n0  data1  ekonomi\n1  data2  ekonomi\n2  data3  ekonomi\n3  data4  ekonomi\n4  data5  ekonomi",
      "text/html": "<div>\n<style scoped>\n    .dataframe tbody tr th:only-of-type {\n        vertical-align: middle;\n    }\n\n    .dataframe tbody tr th {\n        vertical-align: top;\n    }\n\n    .dataframe thead th {\n        text-align: right;\n    }\n</style>\n<table border=\"1\" class=\"dataframe\">\n  <thead>\n    <tr style=\"text-align: right;\">\n      <th></th>\n      <th>Data</th>\n      <th>Category</th>\n    </tr>\n  </thead>\n  <tbody>\n    <tr>\n      <th>0</th>\n      <td>data1</td>\n      <td>ekonomi</td>\n    </tr>\n    <tr>\n      <th>1</th>\n      <td>data2</td>\n      <td>ekonomi</td>\n    </tr>\n    <tr>\n      <th>2</th>\n      <td>data3</td>\n      <td>ekonomi</td>\n    </tr>\n    <tr>\n      <th>3</th>\n      <td>data4</td>\n      <td>ekonomi</td>\n    </tr>\n    <tr>\n      <th>4</th>\n      <td>data5</td>\n      <td>ekonomi</td>\n    </tr>\n  </tbody>\n</table>\n</div>"
     },
     "metadata": {},
     "execution_count": 183
    }
   ],
   "source": [
    "from sklearn.preprocessing import LabelEncoder\n",
    "\n",
    "label = pd.read_csv(\"textmining/label.csv\")\n",
    "label.head()"
   ]
  },
  {
   "cell_type": "code",
   "execution_count": 245,
   "metadata": {},
   "outputs": [
    {
     "output_type": "execute_result",
     "data": {
      "text/plain": "      Data    Category  TotalScore CategoryPredict\n47  data48  pariwisata    0.040816         ekonomi\n1    data2     ekonomi    0.030075         ekonomi\n41  data42  pariwisata    0.029412         ekonomi\n42  data43  pariwisata    0.026316         ekonomi\n7    data8     ekonomi    0.025641         ekonomi\n38  data39      ponsel    0.024390         ekonomi\n48  data49  pariwisata    0.024096         ekonomi\n5    data6     ekonomi    0.023810         ekonomi\n4    data5     ekonomi    0.023438         ekonomi\n8    data9     ekonomi    0.022388         ekonomi",
      "text/html": "<div>\n<style scoped>\n    .dataframe tbody tr th:only-of-type {\n        vertical-align: middle;\n    }\n\n    .dataframe tbody tr th {\n        vertical-align: top;\n    }\n\n    .dataframe thead th {\n        text-align: right;\n    }\n</style>\n<table border=\"1\" class=\"dataframe\">\n  <thead>\n    <tr style=\"text-align: right;\">\n      <th></th>\n      <th>Data</th>\n      <th>Category</th>\n      <th>TotalScore</th>\n      <th>CategoryPredict</th>\n    </tr>\n  </thead>\n  <tbody>\n    <tr>\n      <th>47</th>\n      <td>data48</td>\n      <td>pariwisata</td>\n      <td>0.040816</td>\n      <td>ekonomi</td>\n    </tr>\n    <tr>\n      <th>1</th>\n      <td>data2</td>\n      <td>ekonomi</td>\n      <td>0.030075</td>\n      <td>ekonomi</td>\n    </tr>\n    <tr>\n      <th>41</th>\n      <td>data42</td>\n      <td>pariwisata</td>\n      <td>0.029412</td>\n      <td>ekonomi</td>\n    </tr>\n    <tr>\n      <th>42</th>\n      <td>data43</td>\n      <td>pariwisata</td>\n      <td>0.026316</td>\n      <td>ekonomi</td>\n    </tr>\n    <tr>\n      <th>7</th>\n      <td>data8</td>\n      <td>ekonomi</td>\n      <td>0.025641</td>\n      <td>ekonomi</td>\n    </tr>\n    <tr>\n      <th>38</th>\n      <td>data39</td>\n      <td>ponsel</td>\n      <td>0.024390</td>\n      <td>ekonomi</td>\n    </tr>\n    <tr>\n      <th>48</th>\n      <td>data49</td>\n      <td>pariwisata</td>\n      <td>0.024096</td>\n      <td>ekonomi</td>\n    </tr>\n    <tr>\n      <th>5</th>\n      <td>data6</td>\n      <td>ekonomi</td>\n      <td>0.023810</td>\n      <td>ekonomi</td>\n    </tr>\n    <tr>\n      <th>4</th>\n      <td>data5</td>\n      <td>ekonomi</td>\n      <td>0.023438</td>\n      <td>ekonomi</td>\n    </tr>\n    <tr>\n      <th>8</th>\n      <td>data9</td>\n      <td>ekonomi</td>\n      <td>0.022388</td>\n      <td>ekonomi</td>\n    </tr>\n  </tbody>\n</table>\n</div>"
     },
     "metadata": {},
     "execution_count": 245
    }
   ],
   "source": [
    "ranked = pd.concat([label[[\"Data\", \"Category\"]], ranked[\"TotalScore\"]], axis=1)\n",
    "ranked = ranked.sort_values(\"TotalScore\", ascending=False).head(10)\n",
    "ranked[\"CategoryPredict\"] = \"ekonomi\"\n",
    "ranked"
   ]
  },
  {
   "cell_type": "code",
   "execution_count": 260,
   "metadata": {},
   "outputs": [
    {
     "output_type": "execute_result",
     "data": {
      "text/plain": "[0.0,\n 0.25,\n 0.1111111111111111,\n 0.0625,\n 0.16,\n 0.1111111111111111,\n 0.08163265306122448,\n 0.140625,\n 0.19753086419753085,\n 0.25]"
     },
     "metadata": {},
     "execution_count": 260
    }
   ],
   "source": [
    "from sklearn.preprocessing import LabelEncoder\n",
    "from sklearn.metrics import precision_score\n",
    "from sklearn.metrics import recall_score\n",
    "\n",
    "labelencoder = LabelEncoder()\n",
    "\n",
    "ranked[\"label_encoder\"] = labelencoder.fit_transform(ranked[\"Category\"])\n",
    "ranked[\"label_predict_encoder\"] = labelencoder.fit_transform(ranked[\"CategoryPredict\"])\n",
    "\n",
    "recall = []\n",
    "precission = []\n",
    "for rg in range(1,11):\n",
    "    precission.append(precision_score(ranked[\"label_encoder\"].head(rg), ranked[\"label_predict_encoder\"].head(rg), pos_label=0, average=\"weighted\"))\n",
    "    recall.append(recall_score(ranked[\"label_encoder\"].head(rg), ranked[\"label_predict_encoder\"].head(rg), pos_label=0, average=\"weighted\"))"
   ]
  },
  {
   "cell_type": "code",
   "execution_count": 259,
   "metadata": {},
   "outputs": [
    {
     "output_type": "execute_result",
     "data": {
      "text/plain": "     recall                                         precission\n0  0.000000  Data                    0.0\nCategory          ...\n1  0.500000  Data                    0.5\nCategory          ...\n2  0.333333  Data                    0.333333\nCategory     ...\n3  0.250000  Data                    0.25\nCategory         ...\n4  0.400000  Data                    0.4\nCategory          ...\n5  0.333333  Data                    0.333333\nCategory     ...\n6  0.285714  Data                    0.285714\nCategory     ...\n7  0.375000  Data                    0.375\nCategory        ...\n8  0.444444  Data                    0.444444\nCategory     ...\n9  0.500000  Data                    0.5\nCategory          ...",
      "text/html": "<div>\n<style scoped>\n    .dataframe tbody tr th:only-of-type {\n        vertical-align: middle;\n    }\n\n    .dataframe tbody tr th {\n        vertical-align: top;\n    }\n\n    .dataframe thead th {\n        text-align: right;\n    }\n</style>\n<table border=\"1\" class=\"dataframe\">\n  <thead>\n    <tr style=\"text-align: right;\">\n      <th></th>\n      <th>recall</th>\n      <th>precission</th>\n    </tr>\n  </thead>\n  <tbody>\n    <tr>\n      <th>0</th>\n      <td>0.000000</td>\n      <td>Data                    0.0\nCategory          ...</td>\n    </tr>\n    <tr>\n      <th>1</th>\n      <td>0.500000</td>\n      <td>Data                    0.5\nCategory          ...</td>\n    </tr>\n    <tr>\n      <th>2</th>\n      <td>0.333333</td>\n      <td>Data                    0.333333\nCategory     ...</td>\n    </tr>\n    <tr>\n      <th>3</th>\n      <td>0.250000</td>\n      <td>Data                    0.25\nCategory         ...</td>\n    </tr>\n    <tr>\n      <th>4</th>\n      <td>0.400000</td>\n      <td>Data                    0.4\nCategory          ...</td>\n    </tr>\n    <tr>\n      <th>5</th>\n      <td>0.333333</td>\n      <td>Data                    0.333333\nCategory     ...</td>\n    </tr>\n    <tr>\n      <th>6</th>\n      <td>0.285714</td>\n      <td>Data                    0.285714\nCategory     ...</td>\n    </tr>\n    <tr>\n      <th>7</th>\n      <td>0.375000</td>\n      <td>Data                    0.375\nCategory        ...</td>\n    </tr>\n    <tr>\n      <th>8</th>\n      <td>0.444444</td>\n      <td>Data                    0.444444\nCategory     ...</td>\n    </tr>\n    <tr>\n      <th>9</th>\n      <td>0.500000</td>\n      <td>Data                    0.5\nCategory          ...</td>\n    </tr>\n  </tbody>\n</table>\n</div>"
     },
     "metadata": {},
     "execution_count": 259
    }
   ],
   "source": [
    "zippedRecalPrecission = list(zip(recall, precission))\n",
    "# recal_precission = pd.DataFrame(zippedList, columns = ['recall', 'precission']).sort_values(by=\"precission\")\n",
    "recal_precission"
   ]
  },
  {
   "cell_type": "code",
   "execution_count": 250,
   "metadata": {},
   "outputs": [
    {
     "output_type": "execute_result",
     "data": {
      "text/html": "\n<div id=\"altair-viz-0e8c62f599614d63b0fd24b7af2f67fc\"></div>\n<script type=\"text/javascript\">\n  (function(spec, embedOpt){\n    let outputDiv = document.currentScript.previousElementSibling;\n    if (outputDiv.id !== \"altair-viz-0e8c62f599614d63b0fd24b7af2f67fc\") {\n      outputDiv = document.getElementById(\"altair-viz-0e8c62f599614d63b0fd24b7af2f67fc\");\n    }\n    const paths = {\n      \"vega\": \"https://cdn.jsdelivr.net/npm//vega@5?noext\",\n      \"vega-lib\": \"https://cdn.jsdelivr.net/npm//vega-lib?noext\",\n      \"vega-lite\": \"https://cdn.jsdelivr.net/npm//vega-lite@4.8.1?noext\",\n      \"vega-embed\": \"https://cdn.jsdelivr.net/npm//vega-embed@6?noext\",\n    };\n\n    function loadScript(lib) {\n      return new Promise(function(resolve, reject) {\n        var s = document.createElement('script');\n        s.src = paths[lib];\n        s.async = true;\n        s.onload = () => resolve(paths[lib]);\n        s.onerror = () => reject(`Error loading script: ${paths[lib]}`);\n        document.getElementsByTagName(\"head\")[0].appendChild(s);\n      });\n    }\n\n    function showError(err) {\n      outputDiv.innerHTML = `<div class=\"error\" style=\"color:red;\">${err}</div>`;\n      throw err;\n    }\n\n    function displayChart(vegaEmbed) {\n      vegaEmbed(outputDiv, spec, embedOpt)\n        .catch(err => showError(`Javascript Error: ${err.message}<br>This usually means there's a typo in your chart specification. See the javascript console for the full traceback.`));\n    }\n\n    if(typeof define === \"function\" && define.amd) {\n      requirejs.config({paths});\n      require([\"vega-embed\"], displayChart, err => showError(`Error loading script: ${err.message}`));\n    } else if (typeof vegaEmbed === \"function\") {\n      displayChart(vegaEmbed);\n    } else {\n      loadScript(\"vega\")\n        .then(() => loadScript(\"vega-lite\"))\n        .then(() => loadScript(\"vega-embed\"))\n        .catch(showError)\n        .then(() => displayChart(vegaEmbed));\n    }\n  })({\"config\": {\"view\": {\"continuousWidth\": 400, \"continuousHeight\": 300}}, \"data\": {\"name\": \"data-5a85b436894b668185dc571d40ebd3cd\"}, \"mark\": \"line\", \"encoding\": {\"x\": {\"type\": \"quantitative\", \"field\": \"recall\"}, \"y\": {\"type\": \"nominal\", \"field\": \"precission\"}}, \"$schema\": \"https://vega.github.io/schema/vega-lite/v4.8.1.json\", \"datasets\": {\"data-5a85b436894b668185dc571d40ebd3cd\": [{\"recall\": 0.0, \"precission\": 0.0}, {\"recall\": 0.5, \"precission\": 0.5}, {\"recall\": 0.3333333333333333, \"precission\": 0.3333333333333333}, {\"recall\": 0.25, \"precission\": 0.25}, {\"recall\": 0.4, \"precission\": 0.4}, {\"recall\": 0.3333333333333333, \"precission\": 0.3333333333333333}, {\"recall\": 0.2857142857142857, \"precission\": 0.2857142857142857}, {\"recall\": 0.375, \"precission\": 0.375}, {\"recall\": 0.4444444444444444, \"precission\": 0.4444444444444444}, {\"recall\": 0.5, \"precission\": 0.5}]}}, {\"mode\": \"vega-lite\"});\n</script>",
      "text/plain": "alt.Chart(...)"
     },
     "metadata": {},
     "execution_count": 250
    }
   ],
   "source": [
    "import altair as alt\n",
    "\n",
    "alt.Chart(visual).mark_line().encode(x='recall', y='precission')"
   ]
  },
  {
   "cell_type": "code",
   "execution_count": 238,
   "metadata": {},
   "outputs": [],
   "source": [
    "# import matplotlib.pyplot as plt\n",
    "\n",
    "# plt.plot(precission, recall)\n",
    "# plt.show"
   ]
  },
  {
   "cell_type": "code",
   "execution_count": null,
   "metadata": {},
   "outputs": [],
   "source": []
  }
 ],
 "metadata": {
  "language_info": {
   "codemirror_mode": {
    "name": "ipython",
    "version": 3
   },
   "file_extension": ".py",
   "mimetype": "text/x-python",
   "name": "python",
   "nbconvert_exporter": "python",
   "pygments_lexer": "ipython3",
   "version": "3.8.2-final"
  },
  "orig_nbformat": 2,
  "kernelspec": {
   "name": "python37364bitdataminingvenv040b2d7edb43458bb09fb3ef07d16849",
   "display_name": "Python 3.7.3 64-bit ('DataMining': venv)"
  }
 },
 "nbformat": 4,
 "nbformat_minor": 2
}