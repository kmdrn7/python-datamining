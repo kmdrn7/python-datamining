{
 "cells": [
  {
   "cell_type": "code",
   "execution_count": 2,
   "metadata": {},
   "outputs": [
    {
     "output_type": "execute_result",
     "data": {
      "text/plain": "     PassengerId  Survived  Pclass  \\\n0              1         0       3   \n1              2         1       1   \n2              3         1       3   \n3              4         1       1   \n4              5         0       3   \n..           ...       ...     ...   \n886          887         0       2   \n887          888         1       1   \n888          889         0       3   \n889          890         1       1   \n890          891         0       3   \n\n                                                  Name     Sex   Age  SibSp  \\\n0                              Braund, Mr. Owen Harris    male  22.0      1   \n1    Cumings, Mrs. John Bradley (Florence Briggs Th...  female  38.0      1   \n2                               Heikkinen, Miss. Laina  female  26.0      0   \n3         Futrelle, Mrs. Jacques Heath (Lily May Peel)  female  35.0      1   \n4                             Allen, Mr. William Henry    male  35.0      0   \n..                                                 ...     ...   ...    ...   \n886                              Montvila, Rev. Juozas    male  27.0      0   \n887                       Graham, Miss. Margaret Edith  female  19.0      0   \n888           Johnston, Miss. Catherine Helen \"Carrie\"  female   NaN      1   \n889                              Behr, Mr. Karl Howell    male  26.0      0   \n890                                Dooley, Mr. Patrick    male  32.0      0   \n\n     Parch            Ticket     Fare Cabin Embarked  \n0        0         A/5 21171   7.2500   NaN        S  \n1        0          PC 17599  71.2833   C85        C  \n2        0  STON/O2. 3101282   7.9250   NaN        S  \n3        0            113803  53.1000  C123        S  \n4        0            373450   8.0500   NaN        S  \n..     ...               ...      ...   ...      ...  \n886      0            211536  13.0000   NaN        S  \n887      0            112053  30.0000   B42        S  \n888      2        W./C. 6607  23.4500   NaN        S  \n889      0            111369  30.0000  C148        C  \n890      0            370376   7.7500   NaN        Q  \n\n[891 rows x 12 columns]",
      "text/html": "<div>\n<style scoped>\n    .dataframe tbody tr th:only-of-type {\n        vertical-align: middle;\n    }\n\n    .dataframe tbody tr th {\n        vertical-align: top;\n    }\n\n    .dataframe thead th {\n        text-align: right;\n    }\n</style>\n<table border=\"1\" class=\"dataframe\">\n  <thead>\n    <tr style=\"text-align: right;\">\n      <th></th>\n      <th>PassengerId</th>\n      <th>Survived</th>\n      <th>Pclass</th>\n      <th>Name</th>\n      <th>Sex</th>\n      <th>Age</th>\n      <th>SibSp</th>\n      <th>Parch</th>\n      <th>Ticket</th>\n      <th>Fare</th>\n      <th>Cabin</th>\n      <th>Embarked</th>\n    </tr>\n  </thead>\n  <tbody>\n    <tr>\n      <th>0</th>\n      <td>1</td>\n      <td>0</td>\n      <td>3</td>\n      <td>Braund, Mr. Owen Harris</td>\n      <td>male</td>\n      <td>22.0</td>\n      <td>1</td>\n      <td>0</td>\n      <td>A/5 21171</td>\n      <td>7.2500</td>\n      <td>NaN</td>\n      <td>S</td>\n    </tr>\n    <tr>\n      <th>1</th>\n      <td>2</td>\n      <td>1</td>\n      <td>1</td>\n      <td>Cumings, Mrs. John Bradley (Florence Briggs Th...</td>\n      <td>female</td>\n      <td>38.0</td>\n      <td>1</td>\n      <td>0</td>\n      <td>PC 17599</td>\n      <td>71.2833</td>\n      <td>C85</td>\n      <td>C</td>\n    </tr>\n    <tr>\n      <th>2</th>\n      <td>3</td>\n      <td>1</td>\n      <td>3</td>\n      <td>Heikkinen, Miss. Laina</td>\n      <td>female</td>\n      <td>26.0</td>\n      <td>0</td>\n      <td>0</td>\n      <td>STON/O2. 3101282</td>\n      <td>7.9250</td>\n      <td>NaN</td>\n      <td>S</td>\n    </tr>\n    <tr>\n      <th>3</th>\n      <td>4</td>\n      <td>1</td>\n      <td>1</td>\n      <td>Futrelle, Mrs. Jacques Heath (Lily May Peel)</td>\n      <td>female</td>\n      <td>35.0</td>\n      <td>1</td>\n      <td>0</td>\n      <td>113803</td>\n      <td>53.1000</td>\n      <td>C123</td>\n      <td>S</td>\n    </tr>\n    <tr>\n      <th>4</th>\n      <td>5</td>\n      <td>0</td>\n      <td>3</td>\n      <td>Allen, Mr. William Henry</td>\n      <td>male</td>\n      <td>35.0</td>\n      <td>0</td>\n      <td>0</td>\n      <td>373450</td>\n      <td>8.0500</td>\n      <td>NaN</td>\n      <td>S</td>\n    </tr>\n    <tr>\n      <th>...</th>\n      <td>...</td>\n      <td>...</td>\n      <td>...</td>\n      <td>...</td>\n      <td>...</td>\n      <td>...</td>\n      <td>...</td>\n      <td>...</td>\n      <td>...</td>\n      <td>...</td>\n      <td>...</td>\n      <td>...</td>\n    </tr>\n    <tr>\n      <th>886</th>\n      <td>887</td>\n      <td>0</td>\n      <td>2</td>\n      <td>Montvila, Rev. Juozas</td>\n      <td>male</td>\n      <td>27.0</td>\n      <td>0</td>\n      <td>0</td>\n      <td>211536</td>\n      <td>13.0000</td>\n      <td>NaN</td>\n      <td>S</td>\n    </tr>\n    <tr>\n      <th>887</th>\n      <td>888</td>\n      <td>1</td>\n      <td>1</td>\n      <td>Graham, Miss. Margaret Edith</td>\n      <td>female</td>\n      <td>19.0</td>\n      <td>0</td>\n      <td>0</td>\n      <td>112053</td>\n      <td>30.0000</td>\n      <td>B42</td>\n      <td>S</td>\n    </tr>\n    <tr>\n      <th>888</th>\n      <td>889</td>\n      <td>0</td>\n      <td>3</td>\n      <td>Johnston, Miss. Catherine Helen \"Carrie\"</td>\n      <td>female</td>\n      <td>NaN</td>\n      <td>1</td>\n      <td>2</td>\n      <td>W./C. 6607</td>\n      <td>23.4500</td>\n      <td>NaN</td>\n      <td>S</td>\n    </tr>\n    <tr>\n      <th>889</th>\n      <td>890</td>\n      <td>1</td>\n      <td>1</td>\n      <td>Behr, Mr. Karl Howell</td>\n      <td>male</td>\n      <td>26.0</td>\n      <td>0</td>\n      <td>0</td>\n      <td>111369</td>\n      <td>30.0000</td>\n      <td>C148</td>\n      <td>C</td>\n    </tr>\n    <tr>\n      <th>890</th>\n      <td>891</td>\n      <td>0</td>\n      <td>3</td>\n      <td>Dooley, Mr. Patrick</td>\n      <td>male</td>\n      <td>32.0</td>\n      <td>0</td>\n      <td>0</td>\n      <td>370376</td>\n      <td>7.7500</td>\n      <td>NaN</td>\n      <td>Q</td>\n    </tr>\n  </tbody>\n</table>\n<p>891 rows × 12 columns</p>\n</div>"
     },
     "metadata": {},
     "execution_count": 2
    }
   ],
   "source": [
    "import pandas as pd\n",
    "import numpy as np\n",
    "\n",
    "dataset = pd.read_csv(\"titanic.csv\")\n",
    "dataset"
   ]
  },
  {
   "cell_type": "code",
   "execution_count": 3,
   "metadata": {},
   "outputs": [
    {
     "output_type": "stream",
     "name": "stdout",
     "text": "Rows: 891\nColumns: 12\n"
    }
   ],
   "source": [
    "rows, columns = dataset.shape\n",
    "print(\"Rows: \" +  str(rows))\n",
    "print(\"Columns: \" + str(columns))"
   ]
  },
  {
   "cell_type": "code",
   "execution_count": 4,
   "metadata": {},
   "outputs": [
    {
     "output_type": "execute_result",
     "data": {
      "text/plain": "      Age     Fare\n0    22.0   7.2500\n1    38.0  71.2833\n2    26.0   7.9250\n3    35.0  53.1000\n4    35.0   8.0500\n..    ...      ...\n886  27.0  13.0000\n887  19.0  30.0000\n888   NaN  23.4500\n889  26.0  30.0000\n890  32.0   7.7500\n\n[891 rows x 2 columns]",
      "text/html": "<div>\n<style scoped>\n    .dataframe tbody tr th:only-of-type {\n        vertical-align: middle;\n    }\n\n    .dataframe tbody tr th {\n        vertical-align: top;\n    }\n\n    .dataframe thead th {\n        text-align: right;\n    }\n</style>\n<table border=\"1\" class=\"dataframe\">\n  <thead>\n    <tr style=\"text-align: right;\">\n      <th></th>\n      <th>Age</th>\n      <th>Fare</th>\n    </tr>\n  </thead>\n  <tbody>\n    <tr>\n      <th>0</th>\n      <td>22.0</td>\n      <td>7.2500</td>\n    </tr>\n    <tr>\n      <th>1</th>\n      <td>38.0</td>\n      <td>71.2833</td>\n    </tr>\n    <tr>\n      <th>2</th>\n      <td>26.0</td>\n      <td>7.9250</td>\n    </tr>\n    <tr>\n      <th>3</th>\n      <td>35.0</td>\n      <td>53.1000</td>\n    </tr>\n    <tr>\n      <th>4</th>\n      <td>35.0</td>\n      <td>8.0500</td>\n    </tr>\n    <tr>\n      <th>...</th>\n      <td>...</td>\n      <td>...</td>\n    </tr>\n    <tr>\n      <th>886</th>\n      <td>27.0</td>\n      <td>13.0000</td>\n    </tr>\n    <tr>\n      <th>887</th>\n      <td>19.0</td>\n      <td>30.0000</td>\n    </tr>\n    <tr>\n      <th>888</th>\n      <td>NaN</td>\n      <td>23.4500</td>\n    </tr>\n    <tr>\n      <th>889</th>\n      <td>26.0</td>\n      <td>30.0000</td>\n    </tr>\n    <tr>\n      <th>890</th>\n      <td>32.0</td>\n      <td>7.7500</td>\n    </tr>\n  </tbody>\n</table>\n<p>891 rows × 2 columns</p>\n</div>"
     },
     "metadata": {},
     "execution_count": 4
    }
   ],
   "source": [
    "dataset[['Age','Fare']]\n"
   ]
  },
  {
   "cell_type": "code",
   "execution_count": 5,
   "metadata": {},
   "outputs": [
    {
     "output_type": "execute_result",
     "data": {
      "text/plain": "0      0\n1      1\n2      1\n3      1\n4      0\n      ..\n886    0\n887    1\n888    0\n889    1\n890    0\nName: Survived, Length: 891, dtype: int64"
     },
     "metadata": {},
     "execution_count": 5
    }
   ],
   "source": [
    "dataset['Survived']"
   ]
  },
  {
   "cell_type": "code",
   "execution_count": 6,
   "metadata": {},
   "outputs": [
    {
     "output_type": "execute_result",
     "data": {
      "text/plain": "0      22.000000\n1      38.000000\n2      26.000000\n3      35.000000\n4      35.000000\n         ...    \n886    27.000000\n887    19.000000\n888    30.626179\n889    26.000000\n890    32.000000\nName: Age, Length: 891, dtype: float64"
     },
     "metadata": {},
     "execution_count": 6
    }
   ],
   "source": [
    "newDataset = dataset[['Age','Fare']]\n",
    "\n",
    "newDataset['Age'] = dataset['Age'].fillna(\n",
    "    dataset.groupby(['Survived'])['Age'].transform('mean')\n",
    ")\n",
    "\n",
    "newDataset['Age']"
   ]
  },
  {
   "cell_type": "code",
   "execution_count": 21,
   "metadata": {},
   "outputs": [
    {
     "output_type": "execute_result",
     "data": {
      "text/plain": "          Age      Fare\n0    0.271174  0.014151\n1    0.472229  0.139136\n2    0.321438  0.015469\n3    0.434531  0.103644\n4    0.434531  0.015713\n..        ...       ...\n886  0.334004  0.025374\n887  0.233476  0.058556\n888  0.379570  0.045771\n889  0.321438  0.058556\n890  0.396833  0.015127\n\n[891 rows x 2 columns]",
      "text/html": "<div>\n<style scoped>\n    .dataframe tbody tr th:only-of-type {\n        vertical-align: middle;\n    }\n\n    .dataframe tbody tr th {\n        vertical-align: top;\n    }\n\n    .dataframe thead th {\n        text-align: right;\n    }\n</style>\n<table border=\"1\" class=\"dataframe\">\n  <thead>\n    <tr style=\"text-align: right;\">\n      <th></th>\n      <th>Age</th>\n      <th>Fare</th>\n    </tr>\n  </thead>\n  <tbody>\n    <tr>\n      <th>0</th>\n      <td>0.271174</td>\n      <td>0.014151</td>\n    </tr>\n    <tr>\n      <th>1</th>\n      <td>0.472229</td>\n      <td>0.139136</td>\n    </tr>\n    <tr>\n      <th>2</th>\n      <td>0.321438</td>\n      <td>0.015469</td>\n    </tr>\n    <tr>\n      <th>3</th>\n      <td>0.434531</td>\n      <td>0.103644</td>\n    </tr>\n    <tr>\n      <th>4</th>\n      <td>0.434531</td>\n      <td>0.015713</td>\n    </tr>\n    <tr>\n      <th>...</th>\n      <td>...</td>\n      <td>...</td>\n    </tr>\n    <tr>\n      <th>886</th>\n      <td>0.334004</td>\n      <td>0.025374</td>\n    </tr>\n    <tr>\n      <th>887</th>\n      <td>0.233476</td>\n      <td>0.058556</td>\n    </tr>\n    <tr>\n      <th>888</th>\n      <td>0.379570</td>\n      <td>0.045771</td>\n    </tr>\n    <tr>\n      <th>889</th>\n      <td>0.321438</td>\n      <td>0.058556</td>\n    </tr>\n    <tr>\n      <th>890</th>\n      <td>0.396833</td>\n      <td>0.015127</td>\n    </tr>\n  </tbody>\n</table>\n<p>891 rows × 2 columns</p>\n</div>"
     },
     "metadata": {},
     "execution_count": 21
    }
   ],
   "source": [
    "minVal, maxVal = 0, 1\n",
    "\n",
    "dataMinMax = newDataset[['Age','Fare']]\n",
    "\n",
    "dataMinMax['Age'] = \\\n",
    "    (newDataset['Age'] - newDataset['Age'].min()) * (maxVal - minVal) \\\n",
    "    / (newDataset['Age'].max()-newDataset['Age'].min()) + minVal\n",
    "\n",
    "dataMinMax['Fare'] = \\\n",
    "    (newDataset['Fare'] - newDataset['Fare'].min()) * (maxVal - minVal) \\\n",
    "    / (newDataset['Fare'].max()-newDataset['Fare'].min())+minVal\n",
    "\n",
    "dataMinMax"
   ]
  },
  {
   "cell_type": "code",
   "execution_count": 8,
   "metadata": {},
   "outputs": [
    {
     "output_type": "execute_result",
     "data": {
      "text/plain": "          Age      Fare\n0   -0.595670 -0.502163\n1    0.634089  0.786404\n2   -0.288230 -0.488580\n3    0.403509  0.420494\n4    0.403509 -0.486064\n..        ...       ...\n886 -0.211370 -0.386454\n887 -0.826250 -0.044356\n888  0.067338 -0.176164\n889 -0.288230 -0.044356\n890  0.172929 -0.492101\n\n[891 rows x 2 columns]",
      "text/html": "<div>\n<style scoped>\n    .dataframe tbody tr th:only-of-type {\n        vertical-align: middle;\n    }\n\n    .dataframe tbody tr th {\n        vertical-align: top;\n    }\n\n    .dataframe thead th {\n        text-align: right;\n    }\n</style>\n<table border=\"1\" class=\"dataframe\">\n  <thead>\n    <tr style=\"text-align: right;\">\n      <th></th>\n      <th>Age</th>\n      <th>Fare</th>\n    </tr>\n  </thead>\n  <tbody>\n    <tr>\n      <th>0</th>\n      <td>-0.595670</td>\n      <td>-0.502163</td>\n    </tr>\n    <tr>\n      <th>1</th>\n      <td>0.634089</td>\n      <td>0.786404</td>\n    </tr>\n    <tr>\n      <th>2</th>\n      <td>-0.288230</td>\n      <td>-0.488580</td>\n    </tr>\n    <tr>\n      <th>3</th>\n      <td>0.403509</td>\n      <td>0.420494</td>\n    </tr>\n    <tr>\n      <th>4</th>\n      <td>0.403509</td>\n      <td>-0.486064</td>\n    </tr>\n    <tr>\n      <th>...</th>\n      <td>...</td>\n      <td>...</td>\n    </tr>\n    <tr>\n      <th>886</th>\n      <td>-0.211370</td>\n      <td>-0.386454</td>\n    </tr>\n    <tr>\n      <th>887</th>\n      <td>-0.826250</td>\n      <td>-0.044356</td>\n    </tr>\n    <tr>\n      <th>888</th>\n      <td>0.067338</td>\n      <td>-0.176164</td>\n    </tr>\n    <tr>\n      <th>889</th>\n      <td>-0.288230</td>\n      <td>-0.044356</td>\n    </tr>\n    <tr>\n      <th>890</th>\n      <td>0.172929</td>\n      <td>-0.492101</td>\n    </tr>\n  </tbody>\n</table>\n<p>891 rows × 2 columns</p>\n</div>"
     },
     "metadata": {},
     "execution_count": 8
    }
   ],
   "source": [
    "dataZScore = newDataset[['Age','Fare']]\n",
    "\n",
    "dataZScore['Age'] = \\\n",
    "    (newDataset['Age'] - newDataset['Age'].mean()) \\\n",
    "    / newDataset['Age'].std()\n",
    "\n",
    "dataZScore['Fare'] = \\\n",
    "    (newDataset['Fare'] - newDataset['Fare'].mean()) \\\n",
    "    / newDataset['Fare'].std()\n",
    "\n",
    "dataZScore"
   ]
  },
  {
   "cell_type": "code",
   "execution_count": 9,
   "metadata": {},
   "outputs": [
    {
     "output_type": "execute_result",
     "data": {
      "text/plain": "          Age      Fare\n0   -0.289330 -0.245935\n1    0.306832  0.374117\n2   -0.143126 -0.239544\n3    0.199061  0.207203\n4    0.199061 -0.238358\n..        ...       ...\n886 -0.105293 -0.190857\n887 -0.391123 -0.022174\n888  0.033656 -0.087855\n889 -0.143126 -0.022174\n890  0.086250 -0.241203\n\n[891 rows x 2 columns]",
      "text/html": "<div>\n<style scoped>\n    .dataframe tbody tr th:only-of-type {\n        vertical-align: middle;\n    }\n\n    .dataframe tbody tr th {\n        vertical-align: top;\n    }\n\n    .dataframe thead th {\n        text-align: right;\n    }\n</style>\n<table border=\"1\" class=\"dataframe\">\n  <thead>\n    <tr style=\"text-align: right;\">\n      <th></th>\n      <th>Age</th>\n      <th>Fare</th>\n    </tr>\n  </thead>\n  <tbody>\n    <tr>\n      <th>0</th>\n      <td>-0.289330</td>\n      <td>-0.245935</td>\n    </tr>\n    <tr>\n      <th>1</th>\n      <td>0.306832</td>\n      <td>0.374117</td>\n    </tr>\n    <tr>\n      <th>2</th>\n      <td>-0.143126</td>\n      <td>-0.239544</td>\n    </tr>\n    <tr>\n      <th>3</th>\n      <td>0.199061</td>\n      <td>0.207203</td>\n    </tr>\n    <tr>\n      <th>4</th>\n      <td>0.199061</td>\n      <td>-0.238358</td>\n    </tr>\n    <tr>\n      <th>...</th>\n      <td>...</td>\n      <td>...</td>\n    </tr>\n    <tr>\n      <th>886</th>\n      <td>-0.105293</td>\n      <td>-0.190857</td>\n    </tr>\n    <tr>\n      <th>887</th>\n      <td>-0.391123</td>\n      <td>-0.022174</td>\n    </tr>\n    <tr>\n      <th>888</th>\n      <td>0.033656</td>\n      <td>-0.087855</td>\n    </tr>\n    <tr>\n      <th>889</th>\n      <td>-0.143126</td>\n      <td>-0.022174</td>\n    </tr>\n    <tr>\n      <th>890</th>\n      <td>0.086250</td>\n      <td>-0.241203</td>\n    </tr>\n  </tbody>\n</table>\n<p>891 rows × 2 columns</p>\n</div>"
     },
     "metadata": {},
     "execution_count": 9
    }
   ],
   "source": [
    "dataSigmoidal = newDataset[['Age','Fare']]\n",
    "\n",
    "dataSigmoidal['Age'] = \\\n",
    "    (1 - np.exp(-1*dataZScore['Age'])) \\\n",
    "    / (1 + np.exp(-1*dataZScore['Age']))\n",
    "\n",
    "dataSigmoidal['Fare'] = \\\n",
    "    (1 - np.exp(-1*dataZScore['Fare'])) \\\n",
    "    / (1 + np.exp(-1*dataZScore['Fare']))\n",
    "\n",
    "dataSigmoidal"
   ]
  }
 ],
 "metadata": {
  "kernelspec": {
   "display_name": "Python 3.7.3 64-bit ('DataMining': venv)",
   "language": "python",
   "name": "python37364bitdataminingvenv040b2d7edb43458bb09fb3ef07d16849"
  },
  "language_info": {
   "codemirror_mode": {
    "name": "ipython",
    "version": 3
   },
   "file_extension": ".py",
   "mimetype": "text/x-python",
   "name": "python",
   "nbconvert_exporter": "python",
   "pygments_lexer": "ipython3",
   "version": "3.7.3-final"
  }
 },
 "nbformat": 4,
 "nbformat_minor": 4
}