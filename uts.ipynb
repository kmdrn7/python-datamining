{
 "cells": [
  {
   "cell_type": "code",
   "execution_count": 142,
   "metadata": {},
   "outputs": [
    {
     "output_type": "execute_result",
     "data": {
      "text/plain": "     PassengerId  Survived  Pclass  \\\n0              1         0       3   \n1              2         1       1   \n2              3         1       3   \n3              4         1       1   \n4              5         0       3   \n..           ...       ...     ...   \n886          887         0       2   \n887          888         1       1   \n888          889         0       3   \n889          890         1       1   \n890          891         0       3   \n\n                                                  Name  Sex   Age  SibSp  \\\n0                              Braund, Mr. Owen Harris    1  22.0      1   \n1    Cumings, Mrs. John Bradley (Florence Briggs Th...    0  38.0      1   \n2                               Heikkinen, Miss. Laina    0  26.0      0   \n3         Futrelle, Mrs. Jacques Heath (Lily May Peel)    0  35.0      1   \n4                             Allen, Mr. William Henry    1  35.0      0   \n..                                                 ...  ...   ...    ...   \n886                              Montvila, Rev. Juozas    1  27.0      0   \n887                       Graham, Miss. Margaret Edith    0  19.0      0   \n888           Johnston, Miss. Catherine Helen \"Carrie\"    0   NaN      1   \n889                              Behr, Mr. Karl Howell    1  26.0      0   \n890                                Dooley, Mr. Patrick    1  32.0      0   \n\n     Parch            Ticket     Fare Cabin Embarked  \n0        0         A/5 21171   7.2500   NaN        S  \n1        0          PC 17599  71.2833   C85        C  \n2        0  STON/O2. 3101282   7.9250   NaN        S  \n3        0            113803  53.1000  C123        S  \n4        0            373450   8.0500   NaN        S  \n..     ...               ...      ...   ...      ...  \n886      0            211536  13.0000   NaN        S  \n887      0            112053  30.0000   B42        S  \n888      2        W./C. 6607  23.4500   NaN        S  \n889      0            111369  30.0000  C148        C  \n890      0            370376   7.7500   NaN        Q  \n\n[891 rows x 12 columns]",
      "text/html": "<div>\n<style scoped>\n    .dataframe tbody tr th:only-of-type {\n        vertical-align: middle;\n    }\n\n    .dataframe tbody tr th {\n        vertical-align: top;\n    }\n\n    .dataframe thead th {\n        text-align: right;\n    }\n</style>\n<table border=\"1\" class=\"dataframe\">\n  <thead>\n    <tr style=\"text-align: right;\">\n      <th></th>\n      <th>PassengerId</th>\n      <th>Survived</th>\n      <th>Pclass</th>\n      <th>Name</th>\n      <th>Sex</th>\n      <th>Age</th>\n      <th>SibSp</th>\n      <th>Parch</th>\n      <th>Ticket</th>\n      <th>Fare</th>\n      <th>Cabin</th>\n      <th>Embarked</th>\n    </tr>\n  </thead>\n  <tbody>\n    <tr>\n      <th>0</th>\n      <td>1</td>\n      <td>0</td>\n      <td>3</td>\n      <td>Braund, Mr. Owen Harris</td>\n      <td>1</td>\n      <td>22.0</td>\n      <td>1</td>\n      <td>0</td>\n      <td>A/5 21171</td>\n      <td>7.2500</td>\n      <td>NaN</td>\n      <td>S</td>\n    </tr>\n    <tr>\n      <th>1</th>\n      <td>2</td>\n      <td>1</td>\n      <td>1</td>\n      <td>Cumings, Mrs. John Bradley (Florence Briggs Th...</td>\n      <td>0</td>\n      <td>38.0</td>\n      <td>1</td>\n      <td>0</td>\n      <td>PC 17599</td>\n      <td>71.2833</td>\n      <td>C85</td>\n      <td>C</td>\n    </tr>\n    <tr>\n      <th>2</th>\n      <td>3</td>\n      <td>1</td>\n      <td>3</td>\n      <td>Heikkinen, Miss. Laina</td>\n      <td>0</td>\n      <td>26.0</td>\n      <td>0</td>\n      <td>0</td>\n      <td>STON/O2. 3101282</td>\n      <td>7.9250</td>\n      <td>NaN</td>\n      <td>S</td>\n    </tr>\n    <tr>\n      <th>3</th>\n      <td>4</td>\n      <td>1</td>\n      <td>1</td>\n      <td>Futrelle, Mrs. Jacques Heath (Lily May Peel)</td>\n      <td>0</td>\n      <td>35.0</td>\n      <td>1</td>\n      <td>0</td>\n      <td>113803</td>\n      <td>53.1000</td>\n      <td>C123</td>\n      <td>S</td>\n    </tr>\n    <tr>\n      <th>4</th>\n      <td>5</td>\n      <td>0</td>\n      <td>3</td>\n      <td>Allen, Mr. William Henry</td>\n      <td>1</td>\n      <td>35.0</td>\n      <td>0</td>\n      <td>0</td>\n      <td>373450</td>\n      <td>8.0500</td>\n      <td>NaN</td>\n      <td>S</td>\n    </tr>\n    <tr>\n      <th>...</th>\n      <td>...</td>\n      <td>...</td>\n      <td>...</td>\n      <td>...</td>\n      <td>...</td>\n      <td>...</td>\n      <td>...</td>\n      <td>...</td>\n      <td>...</td>\n      <td>...</td>\n      <td>...</td>\n      <td>...</td>\n    </tr>\n    <tr>\n      <th>886</th>\n      <td>887</td>\n      <td>0</td>\n      <td>2</td>\n      <td>Montvila, Rev. Juozas</td>\n      <td>1</td>\n      <td>27.0</td>\n      <td>0</td>\n      <td>0</td>\n      <td>211536</td>\n      <td>13.0000</td>\n      <td>NaN</td>\n      <td>S</td>\n    </tr>\n    <tr>\n      <th>887</th>\n      <td>888</td>\n      <td>1</td>\n      <td>1</td>\n      <td>Graham, Miss. Margaret Edith</td>\n      <td>0</td>\n      <td>19.0</td>\n      <td>0</td>\n      <td>0</td>\n      <td>112053</td>\n      <td>30.0000</td>\n      <td>B42</td>\n      <td>S</td>\n    </tr>\n    <tr>\n      <th>888</th>\n      <td>889</td>\n      <td>0</td>\n      <td>3</td>\n      <td>Johnston, Miss. Catherine Helen \"Carrie\"</td>\n      <td>0</td>\n      <td>NaN</td>\n      <td>1</td>\n      <td>2</td>\n      <td>W./C. 6607</td>\n      <td>23.4500</td>\n      <td>NaN</td>\n      <td>S</td>\n    </tr>\n    <tr>\n      <th>889</th>\n      <td>890</td>\n      <td>1</td>\n      <td>1</td>\n      <td>Behr, Mr. Karl Howell</td>\n      <td>1</td>\n      <td>26.0</td>\n      <td>0</td>\n      <td>0</td>\n      <td>111369</td>\n      <td>30.0000</td>\n      <td>C148</td>\n      <td>C</td>\n    </tr>\n    <tr>\n      <th>890</th>\n      <td>891</td>\n      <td>0</td>\n      <td>3</td>\n      <td>Dooley, Mr. Patrick</td>\n      <td>1</td>\n      <td>32.0</td>\n      <td>0</td>\n      <td>0</td>\n      <td>370376</td>\n      <td>7.7500</td>\n      <td>NaN</td>\n      <td>Q</td>\n    </tr>\n  </tbody>\n</table>\n<p>891 rows × 12 columns</p>\n</div>"
     },
     "metadata": {},
     "execution_count": 142
    }
   ],
   "source": [
    "import pandas as pd\n",
    "import numpy as np\n",
    "import tabulate as tab\n",
    "import numbers\n",
    "\n",
    "dataset = pd.read_csv('titanic.csv')\n",
    "dataset[\"Sex\"] = dataset[\"Sex\"].astype('category').cat.codes\n",
    "dataset"
   ]
  },
  {
   "cell_type": "code",
   "execution_count": 143,
   "metadata": {},
   "outputs": [
    {
     "output_type": "execute_result",
     "data": {
      "text/plain": "     Sex   Age  Pclass     Fare  Survived\n0      1  22.0       3   7.2500         0\n1      0  38.0       1  71.2833         1\n2      0  26.0       3   7.9250         1\n3      0  35.0       1  53.1000         1\n4      1  35.0       3   8.0500         0\n..   ...   ...     ...      ...       ...\n886    1  27.0       2  13.0000         0\n887    0  19.0       1  30.0000         1\n888    0   NaN       3  23.4500         0\n889    1  26.0       1  30.0000         1\n890    1  32.0       3   7.7500         0\n\n[891 rows x 5 columns]",
      "text/html": "<div>\n<style scoped>\n    .dataframe tbody tr th:only-of-type {\n        vertical-align: middle;\n    }\n\n    .dataframe tbody tr th {\n        vertical-align: top;\n    }\n\n    .dataframe thead th {\n        text-align: right;\n    }\n</style>\n<table border=\"1\" class=\"dataframe\">\n  <thead>\n    <tr style=\"text-align: right;\">\n      <th></th>\n      <th>Sex</th>\n      <th>Age</th>\n      <th>Pclass</th>\n      <th>Fare</th>\n      <th>Survived</th>\n    </tr>\n  </thead>\n  <tbody>\n    <tr>\n      <th>0</th>\n      <td>1</td>\n      <td>22.0</td>\n      <td>3</td>\n      <td>7.2500</td>\n      <td>0</td>\n    </tr>\n    <tr>\n      <th>1</th>\n      <td>0</td>\n      <td>38.0</td>\n      <td>1</td>\n      <td>71.2833</td>\n      <td>1</td>\n    </tr>\n    <tr>\n      <th>2</th>\n      <td>0</td>\n      <td>26.0</td>\n      <td>3</td>\n      <td>7.9250</td>\n      <td>1</td>\n    </tr>\n    <tr>\n      <th>3</th>\n      <td>0</td>\n      <td>35.0</td>\n      <td>1</td>\n      <td>53.1000</td>\n      <td>1</td>\n    </tr>\n    <tr>\n      <th>4</th>\n      <td>1</td>\n      <td>35.0</td>\n      <td>3</td>\n      <td>8.0500</td>\n      <td>0</td>\n    </tr>\n    <tr>\n      <th>...</th>\n      <td>...</td>\n      <td>...</td>\n      <td>...</td>\n      <td>...</td>\n      <td>...</td>\n    </tr>\n    <tr>\n      <th>886</th>\n      <td>1</td>\n      <td>27.0</td>\n      <td>2</td>\n      <td>13.0000</td>\n      <td>0</td>\n    </tr>\n    <tr>\n      <th>887</th>\n      <td>0</td>\n      <td>19.0</td>\n      <td>1</td>\n      <td>30.0000</td>\n      <td>1</td>\n    </tr>\n    <tr>\n      <th>888</th>\n      <td>0</td>\n      <td>NaN</td>\n      <td>3</td>\n      <td>23.4500</td>\n      <td>0</td>\n    </tr>\n    <tr>\n      <th>889</th>\n      <td>1</td>\n      <td>26.0</td>\n      <td>1</td>\n      <td>30.0000</td>\n      <td>1</td>\n    </tr>\n    <tr>\n      <th>890</th>\n      <td>1</td>\n      <td>32.0</td>\n      <td>3</td>\n      <td>7.7500</td>\n      <td>0</td>\n    </tr>\n  </tbody>\n</table>\n<p>891 rows × 5 columns</p>\n</div>"
     },
     "metadata": {},
     "execution_count": 143
    }
   ],
   "source": [
    "data = dataset[[\"Sex\",\"Age\",\"Pclass\",\"Fare\",\"Survived\"]]\n",
    "data"
   ]
  },
  {
   "cell_type": "code",
   "execution_count": 144,
   "metadata": {},
   "outputs": [
    {
     "output_type": "execute_result",
     "data": {
      "text/plain": "     Sex  Pclass     Fare  Survived\n0      1     3.0   7.2500       0.0\n1      0     1.0  71.2833       1.0\n2      0     3.0   7.9250       1.0\n3      0     1.0  53.1000       1.0\n4      1     3.0   8.0500       0.0\n..   ...     ...      ...       ...\n885    0     3.0  29.1250       0.0\n886    1     2.0  13.0000       0.0\n887    0     1.0  30.0000       1.0\n889    1     1.0  30.0000       1.0\n890    1     3.0   7.7500       0.0\n\n[714 rows x 4 columns]",
      "text/html": "<div>\n<style scoped>\n    .dataframe tbody tr th:only-of-type {\n        vertical-align: middle;\n    }\n\n    .dataframe tbody tr th {\n        vertical-align: top;\n    }\n\n    .dataframe thead th {\n        text-align: right;\n    }\n</style>\n<table border=\"1\" class=\"dataframe\">\n  <thead>\n    <tr style=\"text-align: right;\">\n      <th></th>\n      <th>Sex</th>\n      <th>Pclass</th>\n      <th>Fare</th>\n      <th>Survived</th>\n    </tr>\n  </thead>\n  <tbody>\n    <tr>\n      <th>0</th>\n      <td>1</td>\n      <td>3.0</td>\n      <td>7.2500</td>\n      <td>0.0</td>\n    </tr>\n    <tr>\n      <th>1</th>\n      <td>0</td>\n      <td>1.0</td>\n      <td>71.2833</td>\n      <td>1.0</td>\n    </tr>\n    <tr>\n      <th>2</th>\n      <td>0</td>\n      <td>3.0</td>\n      <td>7.9250</td>\n      <td>1.0</td>\n    </tr>\n    <tr>\n      <th>3</th>\n      <td>0</td>\n      <td>1.0</td>\n      <td>53.1000</td>\n      <td>1.0</td>\n    </tr>\n    <tr>\n      <th>4</th>\n      <td>1</td>\n      <td>3.0</td>\n      <td>8.0500</td>\n      <td>0.0</td>\n    </tr>\n    <tr>\n      <th>...</th>\n      <td>...</td>\n      <td>...</td>\n      <td>...</td>\n      <td>...</td>\n    </tr>\n    <tr>\n      <th>885</th>\n      <td>0</td>\n      <td>3.0</td>\n      <td>29.1250</td>\n      <td>0.0</td>\n    </tr>\n    <tr>\n      <th>886</th>\n      <td>1</td>\n      <td>2.0</td>\n      <td>13.0000</td>\n      <td>0.0</td>\n    </tr>\n    <tr>\n      <th>887</th>\n      <td>0</td>\n      <td>1.0</td>\n      <td>30.0000</td>\n      <td>1.0</td>\n    </tr>\n    <tr>\n      <th>889</th>\n      <td>1</td>\n      <td>1.0</td>\n      <td>30.0000</td>\n      <td>1.0</td>\n    </tr>\n    <tr>\n      <th>890</th>\n      <td>1</td>\n      <td>3.0</td>\n      <td>7.7500</td>\n      <td>0.0</td>\n    </tr>\n  </tbody>\n</table>\n<p>714 rows × 4 columns</p>\n</div>"
     },
     "metadata": {},
     "execution_count": 144
    }
   ],
   "source": [
    "train_data = data[[\"Sex\",\"Pclass\",\"Fare\",\"Survived\"]].where(data[\"Age\"].notnull())\n",
    "train_data = train_data.dropna()\n",
    "train_data[\"Sex\"] = train_data[\"Sex\"].astype(int)\n",
    "train_data"
   ]
  },
  {
   "cell_type": "code",
   "execution_count": 145,
   "metadata": {},
   "outputs": [
    {
     "output_type": "execute_result",
     "data": {
      "text/plain": "      Age\n0    22.0\n1    38.0\n2    26.0\n3    35.0\n4    35.0\n..    ...\n885  39.0\n886  27.0\n887  19.0\n889  26.0\n890  32.0\n\n[714 rows x 1 columns]",
      "text/html": "<div>\n<style scoped>\n    .dataframe tbody tr th:only-of-type {\n        vertical-align: middle;\n    }\n\n    .dataframe tbody tr th {\n        vertical-align: top;\n    }\n\n    .dataframe thead th {\n        text-align: right;\n    }\n</style>\n<table border=\"1\" class=\"dataframe\">\n  <thead>\n    <tr style=\"text-align: right;\">\n      <th></th>\n      <th>Age</th>\n    </tr>\n  </thead>\n  <tbody>\n    <tr>\n      <th>0</th>\n      <td>22.0</td>\n    </tr>\n    <tr>\n      <th>1</th>\n      <td>38.0</td>\n    </tr>\n    <tr>\n      <th>2</th>\n      <td>26.0</td>\n    </tr>\n    <tr>\n      <th>3</th>\n      <td>35.0</td>\n    </tr>\n    <tr>\n      <th>4</th>\n      <td>35.0</td>\n    </tr>\n    <tr>\n      <th>...</th>\n      <td>...</td>\n    </tr>\n    <tr>\n      <th>885</th>\n      <td>39.0</td>\n    </tr>\n    <tr>\n      <th>886</th>\n      <td>27.0</td>\n    </tr>\n    <tr>\n      <th>887</th>\n      <td>19.0</td>\n    </tr>\n    <tr>\n      <th>889</th>\n      <td>26.0</td>\n    </tr>\n    <tr>\n      <th>890</th>\n      <td>32.0</td>\n    </tr>\n  </tbody>\n</table>\n<p>714 rows × 1 columns</p>\n</div>"
     },
     "metadata": {},
     "execution_count": 145
    }
   ],
   "source": [
    "train_label = data[[\"Age\"]].where(data[\"Age\"].notnull())\n",
    "train_label.dropna(inplace=True)\n",
    "train_label"
   ]
  },
  {
   "cell_type": "code",
   "execution_count": 146,
   "metadata": {},
   "outputs": [
    {
     "output_type": "execute_result",
     "data": {
      "text/plain": "     Sex  Pclass     Fare  Survived\n5      1     3.0   8.4583       0.0\n17     1     2.0  13.0000       1.0\n19     0     3.0   7.2250       1.0\n26     1     3.0   7.2250       0.0\n28     0     3.0   7.8792       1.0\n..   ...     ...      ...       ...\n859    1     3.0   7.2292       0.0\n863    0     3.0  69.5500       0.0\n868    1     3.0   9.5000       0.0\n878    1     3.0   7.8958       0.0\n888    0     3.0  23.4500       0.0\n\n[177 rows x 4 columns]",
      "text/html": "<div>\n<style scoped>\n    .dataframe tbody tr th:only-of-type {\n        vertical-align: middle;\n    }\n\n    .dataframe tbody tr th {\n        vertical-align: top;\n    }\n\n    .dataframe thead th {\n        text-align: right;\n    }\n</style>\n<table border=\"1\" class=\"dataframe\">\n  <thead>\n    <tr style=\"text-align: right;\">\n      <th></th>\n      <th>Sex</th>\n      <th>Pclass</th>\n      <th>Fare</th>\n      <th>Survived</th>\n    </tr>\n  </thead>\n  <tbody>\n    <tr>\n      <th>5</th>\n      <td>1</td>\n      <td>3.0</td>\n      <td>8.4583</td>\n      <td>0.0</td>\n    </tr>\n    <tr>\n      <th>17</th>\n      <td>1</td>\n      <td>2.0</td>\n      <td>13.0000</td>\n      <td>1.0</td>\n    </tr>\n    <tr>\n      <th>19</th>\n      <td>0</td>\n      <td>3.0</td>\n      <td>7.2250</td>\n      <td>1.0</td>\n    </tr>\n    <tr>\n      <th>26</th>\n      <td>1</td>\n      <td>3.0</td>\n      <td>7.2250</td>\n      <td>0.0</td>\n    </tr>\n    <tr>\n      <th>28</th>\n      <td>0</td>\n      <td>3.0</td>\n      <td>7.8792</td>\n      <td>1.0</td>\n    </tr>\n    <tr>\n      <th>...</th>\n      <td>...</td>\n      <td>...</td>\n      <td>...</td>\n      <td>...</td>\n    </tr>\n    <tr>\n      <th>859</th>\n      <td>1</td>\n      <td>3.0</td>\n      <td>7.2292</td>\n      <td>0.0</td>\n    </tr>\n    <tr>\n      <th>863</th>\n      <td>0</td>\n      <td>3.0</td>\n      <td>69.5500</td>\n      <td>0.0</td>\n    </tr>\n    <tr>\n      <th>868</th>\n      <td>1</td>\n      <td>3.0</td>\n      <td>9.5000</td>\n      <td>0.0</td>\n    </tr>\n    <tr>\n      <th>878</th>\n      <td>1</td>\n      <td>3.0</td>\n      <td>7.8958</td>\n      <td>0.0</td>\n    </tr>\n    <tr>\n      <th>888</th>\n      <td>0</td>\n      <td>3.0</td>\n      <td>23.4500</td>\n      <td>0.0</td>\n    </tr>\n  </tbody>\n</table>\n<p>177 rows × 4 columns</p>\n</div>"
     },
     "metadata": {},
     "execution_count": 146
    }
   ],
   "source": [
    "test_data = data[[\"Sex\",\"Pclass\",\"Fare\",\"Survived\"]].where(data[\"Age\"].isnull())\n",
    "test_data.dropna(inplace=True)\n",
    "test_data[\"Sex\"] = test_data[\"Sex\"].astype(int)\n",
    "test_data"
   ]
  },
  {
   "cell_type": "code",
   "execution_count": 147,
   "metadata": {},
   "outputs": [
    {
     "output_type": "execute_result",
     "data": {
      "text/plain": "     Sex  Pclass      Fare  Survived\n0      1     1.0  0.014151       0.0\n1      0     0.0  0.139136       1.0\n2      0     1.0  0.015469       1.0\n3      0     0.0  0.103644       1.0\n4      1     1.0  0.015713       0.0\n..   ...     ...       ...       ...\n885    0     1.0  0.056848       0.0\n886    1     0.5  0.025374       0.0\n887    0     0.0  0.058556       1.0\n889    1     0.0  0.058556       1.0\n890    1     1.0  0.015127       0.0\n\n[714 rows x 4 columns]",
      "text/html": "<div>\n<style scoped>\n    .dataframe tbody tr th:only-of-type {\n        vertical-align: middle;\n    }\n\n    .dataframe tbody tr th {\n        vertical-align: top;\n    }\n\n    .dataframe thead th {\n        text-align: right;\n    }\n</style>\n<table border=\"1\" class=\"dataframe\">\n  <thead>\n    <tr style=\"text-align: right;\">\n      <th></th>\n      <th>Sex</th>\n      <th>Pclass</th>\n      <th>Fare</th>\n      <th>Survived</th>\n    </tr>\n  </thead>\n  <tbody>\n    <tr>\n      <th>0</th>\n      <td>1</td>\n      <td>1.0</td>\n      <td>0.014151</td>\n      <td>0.0</td>\n    </tr>\n    <tr>\n      <th>1</th>\n      <td>0</td>\n      <td>0.0</td>\n      <td>0.139136</td>\n      <td>1.0</td>\n    </tr>\n    <tr>\n      <th>2</th>\n      <td>0</td>\n      <td>1.0</td>\n      <td>0.015469</td>\n      <td>1.0</td>\n    </tr>\n    <tr>\n      <th>3</th>\n      <td>0</td>\n      <td>0.0</td>\n      <td>0.103644</td>\n      <td>1.0</td>\n    </tr>\n    <tr>\n      <th>4</th>\n      <td>1</td>\n      <td>1.0</td>\n      <td>0.015713</td>\n      <td>0.0</td>\n    </tr>\n    <tr>\n      <th>...</th>\n      <td>...</td>\n      <td>...</td>\n      <td>...</td>\n      <td>...</td>\n    </tr>\n    <tr>\n      <th>885</th>\n      <td>0</td>\n      <td>1.0</td>\n      <td>0.056848</td>\n      <td>0.0</td>\n    </tr>\n    <tr>\n      <th>886</th>\n      <td>1</td>\n      <td>0.5</td>\n      <td>0.025374</td>\n      <td>0.0</td>\n    </tr>\n    <tr>\n      <th>887</th>\n      <td>0</td>\n      <td>0.0</td>\n      <td>0.058556</td>\n      <td>1.0</td>\n    </tr>\n    <tr>\n      <th>889</th>\n      <td>1</td>\n      <td>0.0</td>\n      <td>0.058556</td>\n      <td>1.0</td>\n    </tr>\n    <tr>\n      <th>890</th>\n      <td>1</td>\n      <td>1.0</td>\n      <td>0.015127</td>\n      <td>0.0</td>\n    </tr>\n  </tbody>\n</table>\n<p>714 rows × 4 columns</p>\n</div>"
     },
     "metadata": {},
     "execution_count": 147
    }
   ],
   "source": [
    "newMin, newMax = 0, 1\n",
    "train_minmax = (train_data-train_data.min()) * (newMax-newMin)/(train_data.max()-train_data.min()) + newMin\n",
    "minFare = train_minmax[\"Fare\"].min()\n",
    "maxFare = train_minmax[\"Fare\"].max()\n",
    "minPclass = train_minmax[\"Pclass\"].min()\n",
    "maxPclass = train_minmax[\"Pclass\"].max()\n",
    "minSurvived = train_minmax[\"Survived\"].min()\n",
    "maxSurvived = train_minmax[\"Survived\"].max()\n",
    "train_minmax[\"Sex\"] = train_minmax[\"Sex\"].astype(int)\n",
    "train_minmax"
   ]
  },
  {
   "cell_type": "code",
   "execution_count": 148,
   "metadata": {},
   "outputs": [
    {
     "output_type": "execute_result",
     "data": {
      "text/plain": "     Sex  Pclass      Fare  Survived\n5      1     1.0  0.016510       0.0\n17     1     0.5  0.025374       1.0\n19     0     1.0  0.014102       1.0\n26     1     1.0  0.014102       0.0\n28     0     1.0  0.015379       1.0\n..   ...     ...       ...       ...\n859    1     1.0  0.014110       0.0\n863    0     1.0  0.135753       0.0\n868    1     1.0  0.018543       0.0\n878    1     1.0  0.015412       0.0\n888    0     1.0  0.045771       0.0\n\n[177 rows x 4 columns]",
      "text/html": "<div>\n<style scoped>\n    .dataframe tbody tr th:only-of-type {\n        vertical-align: middle;\n    }\n\n    .dataframe tbody tr th {\n        vertical-align: top;\n    }\n\n    .dataframe thead th {\n        text-align: right;\n    }\n</style>\n<table border=\"1\" class=\"dataframe\">\n  <thead>\n    <tr style=\"text-align: right;\">\n      <th></th>\n      <th>Sex</th>\n      <th>Pclass</th>\n      <th>Fare</th>\n      <th>Survived</th>\n    </tr>\n  </thead>\n  <tbody>\n    <tr>\n      <th>5</th>\n      <td>1</td>\n      <td>1.0</td>\n      <td>0.016510</td>\n      <td>0.0</td>\n    </tr>\n    <tr>\n      <th>17</th>\n      <td>1</td>\n      <td>0.5</td>\n      <td>0.025374</td>\n      <td>1.0</td>\n    </tr>\n    <tr>\n      <th>19</th>\n      <td>0</td>\n      <td>1.0</td>\n      <td>0.014102</td>\n      <td>1.0</td>\n    </tr>\n    <tr>\n      <th>26</th>\n      <td>1</td>\n      <td>1.0</td>\n      <td>0.014102</td>\n      <td>0.0</td>\n    </tr>\n    <tr>\n      <th>28</th>\n      <td>0</td>\n      <td>1.0</td>\n      <td>0.015379</td>\n      <td>1.0</td>\n    </tr>\n    <tr>\n      <th>...</th>\n      <td>...</td>\n      <td>...</td>\n      <td>...</td>\n      <td>...</td>\n    </tr>\n    <tr>\n      <th>859</th>\n      <td>1</td>\n      <td>1.0</td>\n      <td>0.014110</td>\n      <td>0.0</td>\n    </tr>\n    <tr>\n      <th>863</th>\n      <td>0</td>\n      <td>1.0</td>\n      <td>0.135753</td>\n      <td>0.0</td>\n    </tr>\n    <tr>\n      <th>868</th>\n      <td>1</td>\n      <td>1.0</td>\n      <td>0.018543</td>\n      <td>0.0</td>\n    </tr>\n    <tr>\n      <th>878</th>\n      <td>1</td>\n      <td>1.0</td>\n      <td>0.015412</td>\n      <td>0.0</td>\n    </tr>\n    <tr>\n      <th>888</th>\n      <td>0</td>\n      <td>1.0</td>\n      <td>0.045771</td>\n      <td>0.0</td>\n    </tr>\n  </tbody>\n</table>\n<p>177 rows × 4 columns</p>\n</div>"
     },
     "metadata": {},
     "execution_count": 148
    }
   ],
   "source": [
    "test_minmax = (test_data-train_data.min()) * (newMax-newMin)/(train_data.max()-train_data.min()) + newMin\n",
    "test_minmax[\"Sex\"] = test_minmax[\"Sex\"].astype(int)\n",
    "test_minmax"
   ]
  },
  {
   "cell_type": "code",
   "execution_count": 149,
   "metadata": {},
   "outputs": [
    {
     "output_type": "execute_result",
     "data": {
      "text/plain": "array([[31.66666667],\n       [35.66666667],\n       [16.66666667],\n       [36.83333333],\n       [21.33333333],\n       [26.66666667],\n       [46.        ],\n       [20.        ],\n       [22.        ],\n       [26.66666667],\n       [33.5       ],\n       [34.66666667],\n       [20.        ],\n       [18.66666667],\n       [41.33333333],\n       [38.5       ],\n       [10.66666667],\n       [26.66666667],\n       [33.5       ],\n       [20.        ],\n       [33.5       ],\n       [33.5       ],\n       [26.66666667],\n       [24.33333333],\n       [23.33333333],\n       [33.5       ],\n       [38.        ],\n       [23.33333333],\n       [29.33333333],\n       [24.33333333],\n       [28.33333333],\n       [13.33333333],\n       [32.        ],\n       [55.66666667],\n       [33.        ],\n       [33.33333333],\n       [41.33333333],\n       [52.        ],\n       [18.        ],\n       [38.        ],\n       [20.        ],\n       [13.33333333],\n       [38.        ],\n       [26.66666667],\n       [28.33333333],\n       [32.16666667],\n       [25.83333333],\n       [18.        ],\n       [24.33333333],\n       [27.66666667],\n       [38.        ],\n       [32.16666667],\n       [46.66666667],\n       [20.        ],\n       [42.66666667],\n       [55.66666667],\n       [38.5       ],\n       [37.        ],\n       [20.        ],\n       [12.        ],\n       [25.        ],\n       [33.5       ],\n       [29.        ],\n       [13.33333333],\n       [23.33333333],\n       [38.66666667],\n       [26.66666667],\n       [19.33333333],\n       [54.33333333],\n       [36.83333333],\n       [21.33333333],\n       [21.33333333],\n       [34.66666667],\n       [16.66666667],\n       [20.        ],\n       [39.66666667],\n       [26.66666667],\n       [32.33333333],\n       [28.33333333],\n       [26.66666667],\n       [31.        ],\n       [42.66666667],\n       [25.33333333],\n       [26.66666667],\n       [24.33333333],\n       [38.        ],\n       [19.33333333],\n       [31.66666667],\n       [22.33333333],\n       [33.5       ],\n       [45.        ],\n       [38.        ],\n       [33.5       ],\n       [42.66666667],\n       [32.33333333],\n       [24.33333333],\n       [40.        ],\n       [42.66666667],\n       [28.33333333],\n       [22.33333333],\n       [31.16666667],\n       [31.66666667],\n       [32.16666667],\n       [37.        ],\n       [33.5       ],\n       [33.        ],\n       [36.83333333],\n       [21.83333333],\n       [23.33333333],\n       [21.83333333],\n       [23.33333333],\n       [28.5       ],\n       [21.89      ],\n       [21.33333333],\n       [23.33333333],\n       [38.        ],\n       [33.5       ],\n       [25.33333333],\n       [21.83333333],\n       [20.        ],\n       [25.5       ],\n       [28.33333333],\n       [33.5       ],\n       [32.16666667],\n       [18.        ],\n       [36.83333333],\n       [26.66666667],\n       [37.        ],\n       [26.33333333],\n       [18.        ],\n       [38.        ],\n       [32.33333333],\n       [39.        ],\n       [34.16666667],\n       [30.        ],\n       [33.33333333],\n       [26.66666667],\n       [21.33333333],\n       [26.66666667],\n       [24.        ],\n       [45.        ],\n       [42.66666667],\n       [25.33333333],\n       [30.        ],\n       [18.        ],\n       [10.66666667],\n       [54.33333333],\n       [34.66666667],\n       [18.        ],\n       [42.66666667],\n       [26.66666667],\n       [26.66666667],\n       [44.33333333],\n       [28.5       ],\n       [42.66666667],\n       [33.        ],\n       [36.83333333],\n       [38.        ],\n       [32.33333333],\n       [33.        ],\n       [38.        ],\n       [33.33333333],\n       [46.66666667],\n       [39.        ],\n       [36.33333333],\n       [13.33333333],\n       [25.        ],\n       [21.83333333],\n       [33.5       ],\n       [44.33333333],\n       [13.33333333],\n       [29.        ],\n       [21.83333333],\n       [33.33333333],\n       [21.33333333],\n       [26.66666667],\n       [14.33333333]])"
     },
     "metadata": {},
     "execution_count": 149
    }
   ],
   "source": [
    "from sklearn.neighbors import KNeighborsRegressor, KNeighborsClassifier\n",
    "from sklearn.metrics import classification_report, accuracy_score\n",
    "\n",
    "classifier = KNeighborsRegressor(n_neighbors=3)\n",
    "classifier.fit(train_minmax, train_label)\n",
    "ypred = classifier.predict(test_minmax)\n",
    "ypred"
   ]
  },
  {
   "cell_type": "code",
   "execution_count": 150,
   "metadata": {},
   "outputs": [
    {
     "output_type": "execute_result",
     "data": {
      "text/plain": "     Sex        Age  Pclass     Fare  Survived\n0      1  22.000000       3   7.2500         0\n1      0  38.000000       1  71.2833         1\n2      0  26.000000       3   7.9250         1\n3      0  35.000000       1  53.1000         1\n4      1  35.000000       3   8.0500         0\n..   ...        ...     ...      ...       ...\n886    1  27.000000       2  13.0000         0\n887    0  19.000000       1  30.0000         1\n888    0  14.333333       3  23.4500         0\n889    1  26.000000       1  30.0000         1\n890    1  32.000000       3   7.7500         0\n\n[891 rows x 5 columns]",
      "text/html": "<div>\n<style scoped>\n    .dataframe tbody tr th:only-of-type {\n        vertical-align: middle;\n    }\n\n    .dataframe tbody tr th {\n        vertical-align: top;\n    }\n\n    .dataframe thead th {\n        text-align: right;\n    }\n</style>\n<table border=\"1\" class=\"dataframe\">\n  <thead>\n    <tr style=\"text-align: right;\">\n      <th></th>\n      <th>Sex</th>\n      <th>Age</th>\n      <th>Pclass</th>\n      <th>Fare</th>\n      <th>Survived</th>\n    </tr>\n  </thead>\n  <tbody>\n    <tr>\n      <th>0</th>\n      <td>1</td>\n      <td>22.000000</td>\n      <td>3</td>\n      <td>7.2500</td>\n      <td>0</td>\n    </tr>\n    <tr>\n      <th>1</th>\n      <td>0</td>\n      <td>38.000000</td>\n      <td>1</td>\n      <td>71.2833</td>\n      <td>1</td>\n    </tr>\n    <tr>\n      <th>2</th>\n      <td>0</td>\n      <td>26.000000</td>\n      <td>3</td>\n      <td>7.9250</td>\n      <td>1</td>\n    </tr>\n    <tr>\n      <th>3</th>\n      <td>0</td>\n      <td>35.000000</td>\n      <td>1</td>\n      <td>53.1000</td>\n      <td>1</td>\n    </tr>\n    <tr>\n      <th>4</th>\n      <td>1</td>\n      <td>35.000000</td>\n      <td>3</td>\n      <td>8.0500</td>\n      <td>0</td>\n    </tr>\n    <tr>\n      <th>...</th>\n      <td>...</td>\n      <td>...</td>\n      <td>...</td>\n      <td>...</td>\n      <td>...</td>\n    </tr>\n    <tr>\n      <th>886</th>\n      <td>1</td>\n      <td>27.000000</td>\n      <td>2</td>\n      <td>13.0000</td>\n      <td>0</td>\n    </tr>\n    <tr>\n      <th>887</th>\n      <td>0</td>\n      <td>19.000000</td>\n      <td>1</td>\n      <td>30.0000</td>\n      <td>1</td>\n    </tr>\n    <tr>\n      <th>888</th>\n      <td>0</td>\n      <td>14.333333</td>\n      <td>3</td>\n      <td>23.4500</td>\n      <td>0</td>\n    </tr>\n    <tr>\n      <th>889</th>\n      <td>1</td>\n      <td>26.000000</td>\n      <td>1</td>\n      <td>30.0000</td>\n      <td>1</td>\n    </tr>\n    <tr>\n      <th>890</th>\n      <td>1</td>\n      <td>32.000000</td>\n      <td>3</td>\n      <td>7.7500</td>\n      <td>0</td>\n    </tr>\n  </tbody>\n</table>\n<p>891 rows × 5 columns</p>\n</div>"
     },
     "metadata": {},
     "execution_count": 150
    }
   ],
   "source": [
    "colIdx = 0\n",
    "for idx,row in data.iterrows():\n",
    "    if (np.isnan(row[\"Age\"])):\n",
    "        data[\"Age\"][idx] = ypred[colIdx]\n",
    "        colIdx += 1\n",
    "data"
   ]
  },
  {
   "cell_type": "code",
   "execution_count": 151,
   "metadata": {},
   "outputs": [
    {
     "output_type": "execute_result",
     "data": {
      "text/plain": "     PassengerId  Pclass                                          Name  Sex  \\\n0            892       3                              Kelly, Mr. James    1   \n1            893       3              Wilkes, Mrs. James (Ellen Needs)    0   \n2            894       2                     Myles, Mr. Thomas Francis    1   \n3            895       3                              Wirz, Mr. Albert    1   \n4            896       3  Hirvonen, Mrs. Alexander (Helga E Lindqvist)    0   \n..           ...     ...                                           ...  ...   \n413         1305       3                            Spector, Mr. Woolf    1   \n414         1306       1                  Oliva y Ocana, Dona. Fermina    0   \n415         1307       3                  Saether, Mr. Simon Sivertsen    1   \n416         1308       3                           Ware, Mr. Frederick    1   \n417         1309       3                      Peter, Master. Michael J    1   \n\n      Age  SibSp  Parch              Ticket      Fare Cabin Embarked  \n0    34.5      0      0              330911    7.8292   NaN        Q  \n1    47.0      1      0              363272    7.0000   NaN        S  \n2    62.0      0      0              240276    9.6875   NaN        Q  \n3    27.0      0      0              315154    8.6625   NaN        S  \n4    22.0      1      1             3101298   12.2875   NaN        S  \n..    ...    ...    ...                 ...       ...   ...      ...  \n413   NaN      0      0           A.5. 3236    8.0500   NaN        S  \n414  39.0      0      0            PC 17758  108.9000  C105        C  \n415  38.5      0      0  SOTON/O.Q. 3101262    7.2500   NaN        S  \n416   NaN      0      0              359309    8.0500   NaN        S  \n417   NaN      1      1                2668   22.3583   NaN        C  \n\n[418 rows x 11 columns]",
      "text/html": "<div>\n<style scoped>\n    .dataframe tbody tr th:only-of-type {\n        vertical-align: middle;\n    }\n\n    .dataframe tbody tr th {\n        vertical-align: top;\n    }\n\n    .dataframe thead th {\n        text-align: right;\n    }\n</style>\n<table border=\"1\" class=\"dataframe\">\n  <thead>\n    <tr style=\"text-align: right;\">\n      <th></th>\n      <th>PassengerId</th>\n      <th>Pclass</th>\n      <th>Name</th>\n      <th>Sex</th>\n      <th>Age</th>\n      <th>SibSp</th>\n      <th>Parch</th>\n      <th>Ticket</th>\n      <th>Fare</th>\n      <th>Cabin</th>\n      <th>Embarked</th>\n    </tr>\n  </thead>\n  <tbody>\n    <tr>\n      <th>0</th>\n      <td>892</td>\n      <td>3</td>\n      <td>Kelly, Mr. James</td>\n      <td>1</td>\n      <td>34.5</td>\n      <td>0</td>\n      <td>0</td>\n      <td>330911</td>\n      <td>7.8292</td>\n      <td>NaN</td>\n      <td>Q</td>\n    </tr>\n    <tr>\n      <th>1</th>\n      <td>893</td>\n      <td>3</td>\n      <td>Wilkes, Mrs. James (Ellen Needs)</td>\n      <td>0</td>\n      <td>47.0</td>\n      <td>1</td>\n      <td>0</td>\n      <td>363272</td>\n      <td>7.0000</td>\n      <td>NaN</td>\n      <td>S</td>\n    </tr>\n    <tr>\n      <th>2</th>\n      <td>894</td>\n      <td>2</td>\n      <td>Myles, Mr. Thomas Francis</td>\n      <td>1</td>\n      <td>62.0</td>\n      <td>0</td>\n      <td>0</td>\n      <td>240276</td>\n      <td>9.6875</td>\n      <td>NaN</td>\n      <td>Q</td>\n    </tr>\n    <tr>\n      <th>3</th>\n      <td>895</td>\n      <td>3</td>\n      <td>Wirz, Mr. Albert</td>\n      <td>1</td>\n      <td>27.0</td>\n      <td>0</td>\n      <td>0</td>\n      <td>315154</td>\n      <td>8.6625</td>\n      <td>NaN</td>\n      <td>S</td>\n    </tr>\n    <tr>\n      <th>4</th>\n      <td>896</td>\n      <td>3</td>\n      <td>Hirvonen, Mrs. Alexander (Helga E Lindqvist)</td>\n      <td>0</td>\n      <td>22.0</td>\n      <td>1</td>\n      <td>1</td>\n      <td>3101298</td>\n      <td>12.2875</td>\n      <td>NaN</td>\n      <td>S</td>\n    </tr>\n    <tr>\n      <th>...</th>\n      <td>...</td>\n      <td>...</td>\n      <td>...</td>\n      <td>...</td>\n      <td>...</td>\n      <td>...</td>\n      <td>...</td>\n      <td>...</td>\n      <td>...</td>\n      <td>...</td>\n      <td>...</td>\n    </tr>\n    <tr>\n      <th>413</th>\n      <td>1305</td>\n      <td>3</td>\n      <td>Spector, Mr. Woolf</td>\n      <td>1</td>\n      <td>NaN</td>\n      <td>0</td>\n      <td>0</td>\n      <td>A.5. 3236</td>\n      <td>8.0500</td>\n      <td>NaN</td>\n      <td>S</td>\n    </tr>\n    <tr>\n      <th>414</th>\n      <td>1306</td>\n      <td>1</td>\n      <td>Oliva y Ocana, Dona. Fermina</td>\n      <td>0</td>\n      <td>39.0</td>\n      <td>0</td>\n      <td>0</td>\n      <td>PC 17758</td>\n      <td>108.9000</td>\n      <td>C105</td>\n      <td>C</td>\n    </tr>\n    <tr>\n      <th>415</th>\n      <td>1307</td>\n      <td>3</td>\n      <td>Saether, Mr. Simon Sivertsen</td>\n      <td>1</td>\n      <td>38.5</td>\n      <td>0</td>\n      <td>0</td>\n      <td>SOTON/O.Q. 3101262</td>\n      <td>7.2500</td>\n      <td>NaN</td>\n      <td>S</td>\n    </tr>\n    <tr>\n      <th>416</th>\n      <td>1308</td>\n      <td>3</td>\n      <td>Ware, Mr. Frederick</td>\n      <td>1</td>\n      <td>NaN</td>\n      <td>0</td>\n      <td>0</td>\n      <td>359309</td>\n      <td>8.0500</td>\n      <td>NaN</td>\n      <td>S</td>\n    </tr>\n    <tr>\n      <th>417</th>\n      <td>1309</td>\n      <td>3</td>\n      <td>Peter, Master. Michael J</td>\n      <td>1</td>\n      <td>NaN</td>\n      <td>1</td>\n      <td>1</td>\n      <td>2668</td>\n      <td>22.3583</td>\n      <td>NaN</td>\n      <td>C</td>\n    </tr>\n  </tbody>\n</table>\n<p>418 rows × 11 columns</p>\n</div>"
     },
     "metadata": {},
     "execution_count": 151
    }
   ],
   "source": [
    "test_dataset = pd.read_csv('titanic_test.csv')\n",
    "test_dataset[\"Sex\"] = test_dataset[\"Sex\"].astype('category').cat.codes\n",
    "test_dataset"
   ]
  },
  {
   "cell_type": "code",
   "execution_count": 152,
   "metadata": {},
   "outputs": [
    {
     "output_type": "execute_result",
     "data": {
      "text/plain": "     Sex        Age  Pclass     Fare\n0      1  22.000000       3   7.2500\n1      0  38.000000       1  71.2833\n2      0  26.000000       3   7.9250\n3      0  35.000000       1  53.1000\n4      1  35.000000       3   8.0500\n..   ...        ...     ...      ...\n886    1  27.000000       2  13.0000\n887    0  19.000000       1  30.0000\n888    0  14.333333       3  23.4500\n889    1  26.000000       1  30.0000\n890    1  32.000000       3   7.7500\n\n[891 rows x 4 columns]",
      "text/html": "<div>\n<style scoped>\n    .dataframe tbody tr th:only-of-type {\n        vertical-align: middle;\n    }\n\n    .dataframe tbody tr th {\n        vertical-align: top;\n    }\n\n    .dataframe thead th {\n        text-align: right;\n    }\n</style>\n<table border=\"1\" class=\"dataframe\">\n  <thead>\n    <tr style=\"text-align: right;\">\n      <th></th>\n      <th>Sex</th>\n      <th>Age</th>\n      <th>Pclass</th>\n      <th>Fare</th>\n    </tr>\n  </thead>\n  <tbody>\n    <tr>\n      <th>0</th>\n      <td>1</td>\n      <td>22.000000</td>\n      <td>3</td>\n      <td>7.2500</td>\n    </tr>\n    <tr>\n      <th>1</th>\n      <td>0</td>\n      <td>38.000000</td>\n      <td>1</td>\n      <td>71.2833</td>\n    </tr>\n    <tr>\n      <th>2</th>\n      <td>0</td>\n      <td>26.000000</td>\n      <td>3</td>\n      <td>7.9250</td>\n    </tr>\n    <tr>\n      <th>3</th>\n      <td>0</td>\n      <td>35.000000</td>\n      <td>1</td>\n      <td>53.1000</td>\n    </tr>\n    <tr>\n      <th>4</th>\n      <td>1</td>\n      <td>35.000000</td>\n      <td>3</td>\n      <td>8.0500</td>\n    </tr>\n    <tr>\n      <th>...</th>\n      <td>...</td>\n      <td>...</td>\n      <td>...</td>\n      <td>...</td>\n    </tr>\n    <tr>\n      <th>886</th>\n      <td>1</td>\n      <td>27.000000</td>\n      <td>2</td>\n      <td>13.0000</td>\n    </tr>\n    <tr>\n      <th>887</th>\n      <td>0</td>\n      <td>19.000000</td>\n      <td>1</td>\n      <td>30.0000</td>\n    </tr>\n    <tr>\n      <th>888</th>\n      <td>0</td>\n      <td>14.333333</td>\n      <td>3</td>\n      <td>23.4500</td>\n    </tr>\n    <tr>\n      <th>889</th>\n      <td>1</td>\n      <td>26.000000</td>\n      <td>1</td>\n      <td>30.0000</td>\n    </tr>\n    <tr>\n      <th>890</th>\n      <td>1</td>\n      <td>32.000000</td>\n      <td>3</td>\n      <td>7.7500</td>\n    </tr>\n  </tbody>\n</table>\n<p>891 rows × 4 columns</p>\n</div>"
     },
     "metadata": {},
     "execution_count": 152
    }
   ],
   "source": [
    "train_data = data[[\"Sex\",\"Age\",\"Pclass\",\"Fare\"]]\n",
    "train_data"
   ]
  },
  {
   "cell_type": "code",
   "execution_count": 153,
   "metadata": {},
   "outputs": [
    {
     "output_type": "execute_result",
     "data": {
      "text/plain": "     Survived\n0           0\n1           1\n2           1\n3           1\n4           0\n..        ...\n886         0\n887         1\n888         0\n889         1\n890         0\n\n[891 rows x 1 columns]",
      "text/html": "<div>\n<style scoped>\n    .dataframe tbody tr th:only-of-type {\n        vertical-align: middle;\n    }\n\n    .dataframe tbody tr th {\n        vertical-align: top;\n    }\n\n    .dataframe thead th {\n        text-align: right;\n    }\n</style>\n<table border=\"1\" class=\"dataframe\">\n  <thead>\n    <tr style=\"text-align: right;\">\n      <th></th>\n      <th>Survived</th>\n    </tr>\n  </thead>\n  <tbody>\n    <tr>\n      <th>0</th>\n      <td>0</td>\n    </tr>\n    <tr>\n      <th>1</th>\n      <td>1</td>\n    </tr>\n    <tr>\n      <th>2</th>\n      <td>1</td>\n    </tr>\n    <tr>\n      <th>3</th>\n      <td>1</td>\n    </tr>\n    <tr>\n      <th>4</th>\n      <td>0</td>\n    </tr>\n    <tr>\n      <th>...</th>\n      <td>...</td>\n    </tr>\n    <tr>\n      <th>886</th>\n      <td>0</td>\n    </tr>\n    <tr>\n      <th>887</th>\n      <td>1</td>\n    </tr>\n    <tr>\n      <th>888</th>\n      <td>0</td>\n    </tr>\n    <tr>\n      <th>889</th>\n      <td>1</td>\n    </tr>\n    <tr>\n      <th>890</th>\n      <td>0</td>\n    </tr>\n  </tbody>\n</table>\n<p>891 rows × 1 columns</p>\n</div>"
     },
     "metadata": {},
     "execution_count": 153
    }
   ],
   "source": [
    "train_label = data[[\"Survived\"]]\n",
    "train_label"
   ]
  },
  {
   "cell_type": "code",
   "execution_count": 154,
   "metadata": {},
   "outputs": [
    {
     "output_type": "execute_result",
     "data": {
      "text/plain": "     Sex   Age  Pclass      Fare\n0      1  34.5       3    7.8292\n1      0  47.0       3    7.0000\n2      1  62.0       2    9.6875\n3      1  27.0       3    8.6625\n4      0  22.0       3   12.2875\n..   ...   ...     ...       ...\n409    0   3.0       3   13.7750\n411    0  37.0       1   90.0000\n412    0  28.0       3    7.7750\n414    0  39.0       1  108.9000\n415    1  38.5       3    7.2500\n\n[331 rows x 4 columns]",
      "text/html": "<div>\n<style scoped>\n    .dataframe tbody tr th:only-of-type {\n        vertical-align: middle;\n    }\n\n    .dataframe tbody tr th {\n        vertical-align: top;\n    }\n\n    .dataframe thead th {\n        text-align: right;\n    }\n</style>\n<table border=\"1\" class=\"dataframe\">\n  <thead>\n    <tr style=\"text-align: right;\">\n      <th></th>\n      <th>Sex</th>\n      <th>Age</th>\n      <th>Pclass</th>\n      <th>Fare</th>\n    </tr>\n  </thead>\n  <tbody>\n    <tr>\n      <th>0</th>\n      <td>1</td>\n      <td>34.5</td>\n      <td>3</td>\n      <td>7.8292</td>\n    </tr>\n    <tr>\n      <th>1</th>\n      <td>0</td>\n      <td>47.0</td>\n      <td>3</td>\n      <td>7.0000</td>\n    </tr>\n    <tr>\n      <th>2</th>\n      <td>1</td>\n      <td>62.0</td>\n      <td>2</td>\n      <td>9.6875</td>\n    </tr>\n    <tr>\n      <th>3</th>\n      <td>1</td>\n      <td>27.0</td>\n      <td>3</td>\n      <td>8.6625</td>\n    </tr>\n    <tr>\n      <th>4</th>\n      <td>0</td>\n      <td>22.0</td>\n      <td>3</td>\n      <td>12.2875</td>\n    </tr>\n    <tr>\n      <th>...</th>\n      <td>...</td>\n      <td>...</td>\n      <td>...</td>\n      <td>...</td>\n    </tr>\n    <tr>\n      <th>409</th>\n      <td>0</td>\n      <td>3.0</td>\n      <td>3</td>\n      <td>13.7750</td>\n    </tr>\n    <tr>\n      <th>411</th>\n      <td>0</td>\n      <td>37.0</td>\n      <td>1</td>\n      <td>90.0000</td>\n    </tr>\n    <tr>\n      <th>412</th>\n      <td>0</td>\n      <td>28.0</td>\n      <td>3</td>\n      <td>7.7750</td>\n    </tr>\n    <tr>\n      <th>414</th>\n      <td>0</td>\n      <td>39.0</td>\n      <td>1</td>\n      <td>108.9000</td>\n    </tr>\n    <tr>\n      <th>415</th>\n      <td>1</td>\n      <td>38.5</td>\n      <td>3</td>\n      <td>7.2500</td>\n    </tr>\n  </tbody>\n</table>\n<p>331 rows × 4 columns</p>\n</div>"
     },
     "metadata": {},
     "execution_count": 154
    }
   ],
   "source": [
    "test_data = test_dataset[[\"Sex\",\"Age\",\"Pclass\",\"Fare\"]]\n",
    "deletedIdx = []\n",
    "for i in range(0, len(test_data)):\n",
    "    if test_data[\"Age\"][i] >= 0 and test_data[\"Fare\"][i] >= 0:\n",
    "        pass\n",
    "    else:\n",
    "        deletedIdx.append(i)\n",
    "test_data = test_data.dropna(subset=['Age',\"Fare\"])\n",
    "test_data"
   ]
  },
  {
   "cell_type": "code",
   "execution_count": 155,
   "metadata": {},
   "outputs": [
    {
     "output_type": "execute_result",
     "data": {
      "text/plain": "0      0\n1      1\n2      0\n3      0\n4      1\n      ..\n409    1\n411    1\n412    1\n414    1\n415    0\nName: Survived, Length: 331, dtype: int64"
     },
     "metadata": {},
     "execution_count": 155
    }
   ],
   "source": [
    "test_label = pd.read_csv('titanic_testlabel.csv')[\"Survived\"]\n",
    "test_label = test_label.drop(deletedIdx)\n",
    "test_label"
   ]
  },
  {
   "cell_type": "code",
   "execution_count": 156,
   "metadata": {},
   "outputs": [
    {
     "output_type": "execute_result",
     "data": {
      "text/plain": "     Sex       Age  Pclass      Fare\n0      1  0.271174     1.0  0.014151\n1      0  0.472229     0.0  0.139136\n2      0  0.321438     1.0  0.015469\n3      0  0.434531     0.0  0.103644\n4      1  0.434531     1.0  0.015713\n..   ...       ...     ...       ...\n886    1  0.334004     0.5  0.025374\n887    0  0.233476     0.0  0.058556\n888    0  0.174835     1.0  0.045771\n889    1  0.321438     0.0  0.058556\n890    1  0.396833     1.0  0.015127\n\n[891 rows x 4 columns]",
      "text/html": "<div>\n<style scoped>\n    .dataframe tbody tr th:only-of-type {\n        vertical-align: middle;\n    }\n\n    .dataframe tbody tr th {\n        vertical-align: top;\n    }\n\n    .dataframe thead th {\n        text-align: right;\n    }\n</style>\n<table border=\"1\" class=\"dataframe\">\n  <thead>\n    <tr style=\"text-align: right;\">\n      <th></th>\n      <th>Sex</th>\n      <th>Age</th>\n      <th>Pclass</th>\n      <th>Fare</th>\n    </tr>\n  </thead>\n  <tbody>\n    <tr>\n      <th>0</th>\n      <td>1</td>\n      <td>0.271174</td>\n      <td>1.0</td>\n      <td>0.014151</td>\n    </tr>\n    <tr>\n      <th>1</th>\n      <td>0</td>\n      <td>0.472229</td>\n      <td>0.0</td>\n      <td>0.139136</td>\n    </tr>\n    <tr>\n      <th>2</th>\n      <td>0</td>\n      <td>0.321438</td>\n      <td>1.0</td>\n      <td>0.015469</td>\n    </tr>\n    <tr>\n      <th>3</th>\n      <td>0</td>\n      <td>0.434531</td>\n      <td>0.0</td>\n      <td>0.103644</td>\n    </tr>\n    <tr>\n      <th>4</th>\n      <td>1</td>\n      <td>0.434531</td>\n      <td>1.0</td>\n      <td>0.015713</td>\n    </tr>\n    <tr>\n      <th>...</th>\n      <td>...</td>\n      <td>...</td>\n      <td>...</td>\n      <td>...</td>\n    </tr>\n    <tr>\n      <th>886</th>\n      <td>1</td>\n      <td>0.334004</td>\n      <td>0.5</td>\n      <td>0.025374</td>\n    </tr>\n    <tr>\n      <th>887</th>\n      <td>0</td>\n      <td>0.233476</td>\n      <td>0.0</td>\n      <td>0.058556</td>\n    </tr>\n    <tr>\n      <th>888</th>\n      <td>0</td>\n      <td>0.174835</td>\n      <td>1.0</td>\n      <td>0.045771</td>\n    </tr>\n    <tr>\n      <th>889</th>\n      <td>1</td>\n      <td>0.321438</td>\n      <td>0.0</td>\n      <td>0.058556</td>\n    </tr>\n    <tr>\n      <th>890</th>\n      <td>1</td>\n      <td>0.396833</td>\n      <td>1.0</td>\n      <td>0.015127</td>\n    </tr>\n  </tbody>\n</table>\n<p>891 rows × 4 columns</p>\n</div>"
     },
     "metadata": {},
     "execution_count": 156
    }
   ],
   "source": [
    "newMin, newMax = 0, 1\n",
    "train_minmax = (train_data-train_data.min()) * (newMax-newMin)/(train_data.max()-train_data.min()) + newMin\n",
    "train_minmax[\"Sex\"] = train_minmax[\"Sex\"].astype(int)\n",
    "minAge = train_minmax[\"Age\"].min()\n",
    "maxAge = train_minmax[\"Age\"].max()\n",
    "minPclass = train_minmax[\"Pclass\"].min()\n",
    "maxPclass = train_minmax[\"Pclass\"].max()\n",
    "minFare = train_minmax[\"Fare\"].min()\n",
    "maxFare = train_minmax[\"Fare\"].max()\n",
    "train_minmax"
   ]
  },
  {
   "cell_type": "code",
   "execution_count": 157,
   "metadata": {},
   "outputs": [
    {
     "output_type": "execute_result",
     "data": {
      "text/plain": "     Sex       Age  Pclass      Fare\n0      1  0.428248     1.0  0.015282\n1      0  0.585323     1.0  0.013663\n2      1  0.773813     0.5  0.018909\n3      1  0.334004     1.0  0.016908\n4      0  0.271174     1.0  0.023984\n..   ...       ...     ...       ...\n409    0  0.032420     1.0  0.026887\n411    0  0.459663     0.0  0.175668\n412    0  0.346569     1.0  0.015176\n414    0  0.484795     0.0  0.212559\n415    1  0.478512     1.0  0.014151\n\n[331 rows x 4 columns]",
      "text/html": "<div>\n<style scoped>\n    .dataframe tbody tr th:only-of-type {\n        vertical-align: middle;\n    }\n\n    .dataframe tbody tr th {\n        vertical-align: top;\n    }\n\n    .dataframe thead th {\n        text-align: right;\n    }\n</style>\n<table border=\"1\" class=\"dataframe\">\n  <thead>\n    <tr style=\"text-align: right;\">\n      <th></th>\n      <th>Sex</th>\n      <th>Age</th>\n      <th>Pclass</th>\n      <th>Fare</th>\n    </tr>\n  </thead>\n  <tbody>\n    <tr>\n      <th>0</th>\n      <td>1</td>\n      <td>0.428248</td>\n      <td>1.0</td>\n      <td>0.015282</td>\n    </tr>\n    <tr>\n      <th>1</th>\n      <td>0</td>\n      <td>0.585323</td>\n      <td>1.0</td>\n      <td>0.013663</td>\n    </tr>\n    <tr>\n      <th>2</th>\n      <td>1</td>\n      <td>0.773813</td>\n      <td>0.5</td>\n      <td>0.018909</td>\n    </tr>\n    <tr>\n      <th>3</th>\n      <td>1</td>\n      <td>0.334004</td>\n      <td>1.0</td>\n      <td>0.016908</td>\n    </tr>\n    <tr>\n      <th>4</th>\n      <td>0</td>\n      <td>0.271174</td>\n      <td>1.0</td>\n      <td>0.023984</td>\n    </tr>\n    <tr>\n      <th>...</th>\n      <td>...</td>\n      <td>...</td>\n      <td>...</td>\n      <td>...</td>\n    </tr>\n    <tr>\n      <th>409</th>\n      <td>0</td>\n      <td>0.032420</td>\n      <td>1.0</td>\n      <td>0.026887</td>\n    </tr>\n    <tr>\n      <th>411</th>\n      <td>0</td>\n      <td>0.459663</td>\n      <td>0.0</td>\n      <td>0.175668</td>\n    </tr>\n    <tr>\n      <th>412</th>\n      <td>0</td>\n      <td>0.346569</td>\n      <td>1.0</td>\n      <td>0.015176</td>\n    </tr>\n    <tr>\n      <th>414</th>\n      <td>0</td>\n      <td>0.484795</td>\n      <td>0.0</td>\n      <td>0.212559</td>\n    </tr>\n    <tr>\n      <th>415</th>\n      <td>1</td>\n      <td>0.478512</td>\n      <td>1.0</td>\n      <td>0.014151</td>\n    </tr>\n  </tbody>\n</table>\n<p>331 rows × 4 columns</p>\n</div>"
     },
     "metadata": {},
     "execution_count": 157
    }
   ],
   "source": [
    "test_minmax = (test_data-train_data.min()) * (newMax-newMin)/(train_data.max()-train_data.min()) + newMin\n",
    "test_minmax[\"Sex\"] = test_minmax[\"Sex\"].astype(int)\n",
    "test_minmax"
   ]
  },
  {
   "cell_type": "code",
   "execution_count": 158,
   "metadata": {},
   "outputs": [],
   "source": [
    "train_minmax[\"Sex\"] = train_minmax[\"Sex\"].astype(int)\n",
    "test_minmax[\"Sex\"] = test_minmax[\"Sex\"].astype(int)"
   ]
  },
  {
   "cell_type": "code",
   "execution_count": 162,
   "metadata": {},
   "outputs": [
    {
     "output_type": "execute_result",
     "data": {
      "text/plain": "array([0, 0, 0, 1, 0, 0, 0, 0, 1, 0, 0, 1, 0, 1, 1, 0, 0, 1, 0, 0, 1, 0,\n       1, 0, 1, 1, 1, 0, 0, 1, 0, 0, 0, 0, 0, 0, 1, 1, 0, 0, 1, 1, 1, 0,\n       1, 1, 0, 0, 0, 1, 0, 0, 0, 1, 0, 1, 0, 0, 1, 0, 0, 0, 1, 1, 0, 1,\n       0, 0, 1, 0, 1, 1, 1, 1, 0, 1, 1, 1, 1, 0, 1, 0, 1, 0, 0, 1, 0, 0,\n       0, 0, 1, 1, 1, 0, 1, 0, 1, 1, 1, 0, 1, 0, 0, 0, 0, 0, 0, 0, 0, 0,\n       1, 0, 0, 1, 0, 0, 1, 0, 0, 0, 1, 1, 0, 0, 1, 1, 1, 0, 1, 1, 0, 0,\n       1, 0, 1, 1, 0, 0, 1, 1, 0, 1, 1, 0, 0, 1, 1, 0, 1, 0, 0, 0, 1, 0,\n       1, 0, 1, 1, 0, 1, 0, 1, 0, 1, 0, 1, 0, 0, 0, 1, 0, 0, 0, 1, 1, 0,\n       1, 0, 1, 0, 0, 0, 0, 1, 0, 0, 0, 0, 0, 1, 1, 1, 1, 0, 0, 1, 0, 1,\n       1, 0, 0, 0, 0, 0, 1, 0, 0, 0, 1, 1, 0, 0, 0, 1, 1, 0, 0, 0, 0, 0,\n       1, 0, 0, 0, 0, 0, 0, 0, 0, 1, 0, 0, 0, 0, 0, 1, 0, 1, 0, 0, 0, 1,\n       1, 1, 1, 0, 0, 1, 0, 0, 0, 0, 1, 1, 0, 1, 0, 0, 0, 1, 0, 1, 1, 0,\n       0, 0, 0, 0, 0, 1, 1, 0, 0, 0, 1, 1, 0, 0, 0, 1, 1, 1, 1, 0, 1, 1,\n       1, 1, 1, 1, 0, 0, 1, 1, 0, 1, 1, 1, 0, 0, 0, 0, 1, 1, 0, 0, 0, 0,\n       0, 1, 1, 0, 0, 1, 0, 1, 0, 0, 1, 0, 1, 0, 1, 0, 0, 0, 1, 1, 0, 1,\n       0])"
     },
     "metadata": {},
     "execution_count": 162
    }
   ],
   "source": [
    "classifier = KNeighborsClassifier(n_neighbors=3)\n",
    "classifier.fit(train_minmax, train_label[\"Survived\"].values)\n",
    "ypred = classifier.predict(test_minmax)\n",
    "ypred"
   ]
  },
  {
   "cell_type": "code",
   "execution_count": 163,
   "metadata": {},
   "outputs": [
    {
     "output_type": "stream",
     "name": "stdout",
     "text": "Accuracy: 0.8459214501510574\nError: 0.15407854984894265\n"
    }
   ],
   "source": [
    "score = classifier.score(test_minmax, test_label)\n",
    "print(\"Accuracy: \" + str(score))\n",
    "print(\"Error: \" + str(1-score))"
   ]
  },
  {
   "cell_type": "code",
   "execution_count": 164,
   "metadata": {},
   "outputs": [
    {
     "output_type": "stream",
     "name": "stdout",
     "text": "Error ratio: 15.407854984894264 %\n"
    }
   ],
   "source": [
    "print(\"Error ratio: \" + str((1-score)*100) + \" %\")"
   ]
  }
 ],
 "metadata": {
  "language_info": {
   "codemirror_mode": {
    "name": "ipython",
    "version": 3
   },
   "file_extension": ".py",
   "mimetype": "text/x-python",
   "name": "python",
   "nbconvert_exporter": "python",
   "pygments_lexer": "ipython3",
   "version": "3.7.3-final"
  },
  "orig_nbformat": 2,
  "kernelspec": {
   "name": "python37364bitdataminingvenv040b2d7edb43458bb09fb3ef07d16849",
   "display_name": "Python 3.7.3 64-bit ('DataMining': venv)"
  }
 },
 "nbformat": 4,
 "nbformat_minor": 2
}