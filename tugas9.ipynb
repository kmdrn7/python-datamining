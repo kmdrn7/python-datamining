{
 "cells": [
  {
   "cell_type": "code",
   "execution_count": 1,
   "metadata": {},
   "outputs": [
    {
     "output_type": "execute_result",
     "data": {
      "text/plain": "       InvoiceNo  StockCode  Qty      InvoiceDate  CustomerID  \\\n0         537626      22725  830  12/7/2010 14:57       12347   \n1         537626      22729  948  12/7/2010 14:57       12347   \n2         537626      22195  695  12/7/2010 14:57       12347   \n3         542237      22725  636  1/26/2011 14:30       12347   \n4         542237      22729  536  1/26/2011 14:30       12347   \n...          ...        ...  ...              ...         ...   \n10541     543911      21700  455  2/14/2011 12:46       17829   \n10542     543911      22111  578  2/14/2011 12:46       17829   \n10543     543911      22112  163  2/14/2011 12:46       17829   \n10544     564428      23296  545  8/25/2011 11:27       17844   \n10545     564428      23294  643  8/25/2011 11:27       17844   \n\n                    Country  \n0                   Iceland  \n1                   Iceland  \n2                   Iceland  \n3                   Iceland  \n4                   Iceland  \n...                     ...  \n10541  United Arab Emirates  \n10542  United Arab Emirates  \n10543  United Arab Emirates  \n10544                Canada  \n10545                Canada  \n\n[10546 rows x 6 columns]",
      "text/html": "<div>\n<style scoped>\n    .dataframe tbody tr th:only-of-type {\n        vertical-align: middle;\n    }\n\n    .dataframe tbody tr th {\n        vertical-align: top;\n    }\n\n    .dataframe thead th {\n        text-align: right;\n    }\n</style>\n<table border=\"1\" class=\"dataframe\">\n  <thead>\n    <tr style=\"text-align: right;\">\n      <th></th>\n      <th>InvoiceNo</th>\n      <th>StockCode</th>\n      <th>Qty</th>\n      <th>InvoiceDate</th>\n      <th>CustomerID</th>\n      <th>Country</th>\n    </tr>\n  </thead>\n  <tbody>\n    <tr>\n      <th>0</th>\n      <td>537626</td>\n      <td>22725</td>\n      <td>830</td>\n      <td>12/7/2010 14:57</td>\n      <td>12347</td>\n      <td>Iceland</td>\n    </tr>\n    <tr>\n      <th>1</th>\n      <td>537626</td>\n      <td>22729</td>\n      <td>948</td>\n      <td>12/7/2010 14:57</td>\n      <td>12347</td>\n      <td>Iceland</td>\n    </tr>\n    <tr>\n      <th>2</th>\n      <td>537626</td>\n      <td>22195</td>\n      <td>695</td>\n      <td>12/7/2010 14:57</td>\n      <td>12347</td>\n      <td>Iceland</td>\n    </tr>\n    <tr>\n      <th>3</th>\n      <td>542237</td>\n      <td>22725</td>\n      <td>636</td>\n      <td>1/26/2011 14:30</td>\n      <td>12347</td>\n      <td>Iceland</td>\n    </tr>\n    <tr>\n      <th>4</th>\n      <td>542237</td>\n      <td>22729</td>\n      <td>536</td>\n      <td>1/26/2011 14:30</td>\n      <td>12347</td>\n      <td>Iceland</td>\n    </tr>\n    <tr>\n      <th>...</th>\n      <td>...</td>\n      <td>...</td>\n      <td>...</td>\n      <td>...</td>\n      <td>...</td>\n      <td>...</td>\n    </tr>\n    <tr>\n      <th>10541</th>\n      <td>543911</td>\n      <td>21700</td>\n      <td>455</td>\n      <td>2/14/2011 12:46</td>\n      <td>17829</td>\n      <td>United Arab Emirates</td>\n    </tr>\n    <tr>\n      <th>10542</th>\n      <td>543911</td>\n      <td>22111</td>\n      <td>578</td>\n      <td>2/14/2011 12:46</td>\n      <td>17829</td>\n      <td>United Arab Emirates</td>\n    </tr>\n    <tr>\n      <th>10543</th>\n      <td>543911</td>\n      <td>22112</td>\n      <td>163</td>\n      <td>2/14/2011 12:46</td>\n      <td>17829</td>\n      <td>United Arab Emirates</td>\n    </tr>\n    <tr>\n      <th>10544</th>\n      <td>564428</td>\n      <td>23296</td>\n      <td>545</td>\n      <td>8/25/2011 11:27</td>\n      <td>17844</td>\n      <td>Canada</td>\n    </tr>\n    <tr>\n      <th>10545</th>\n      <td>564428</td>\n      <td>23294</td>\n      <td>643</td>\n      <td>8/25/2011 11:27</td>\n      <td>17844</td>\n      <td>Canada</td>\n    </tr>\n  </tbody>\n</table>\n<p>10546 rows × 6 columns</p>\n</div>"
     },
     "metadata": {},
     "execution_count": 1
    }
   ],
   "source": [
    "import pandas as pd\n",
    "import numpy as np\n",
    "\n",
    "dataset = pd.read_csv('transaction.csv')\n",
    "dataset"
   ]
  },
  {
   "cell_type": "code",
   "execution_count": 2,
   "metadata": {},
   "outputs": [
    {
     "output_type": "execute_result",
     "data": {
      "text/plain": "Germany                 2269\nFrance                  2109\nEIRE                    1620\nNetherlands              634\nSpain                    539\nBelgium                  486\nSwitzerland              434\nPortugal                 367\nAustralia                356\nNorway                   239\nItaly                    190\nChannel Islands          184\nFinland                  152\nCyprus                   113\nSweden                   109\nDenmark                   98\nJapan                     92\nAustria                   88\nPoland                    80\nIsrael                    61\nUSA                       47\nSingapore                 45\nUnspecified               44\nCanada                    36\nIceland                   35\nGreece                    33\nUnited Arab Emirates      23\nMalta                     15\nRSA                       14\nLithuania                  8\nBrazil                     8\nLebanon                    5\nEuropean Community         5\nCzech Republic             4\nBahrain                    3\nSaudi Arabia               1\nName: Country, dtype: int64"
     },
     "metadata": {},
     "execution_count": 2
    }
   ],
   "source": [
    "country = dataset[\"Country\"].unique()\n",
    "dataset[\"Country\"].value_counts()"
   ]
  },
  {
   "cell_type": "code",
   "execution_count": 3,
   "metadata": {},
   "outputs": [
    {
     "output_type": "execute_result",
     "data": {
      "text/plain": "                 Country TransactionCount\n0                Iceland                6\n1                Finland               26\n2                  Italy               31\n3                 Norway               28\n4                  Spain               72\n5                Bahrain                1\n6               Portugal               43\n7            Switzerland               41\n8                Austria               12\n9                 Cyprus               16\n10               Belgium               84\n11           Unspecified                8\n12               Denmark               18\n13             Australia               44\n14                France              344\n15               Germany              377\n16                   RSA                1\n17                Greece                5\n18                Sweden               26\n19                Israel                4\n20                   USA                5\n21          Saudi Arabia                1\n22                Poland               17\n23  United Arab Emirates                2\n24             Singapore                4\n25                 Japan               14\n26           Netherlands               76\n27               Lebanon                1\n28                Brazil                1\n29        Czech Republic                2\n30                  EIRE              224\n31       Channel Islands               21\n32    European Community                3\n33             Lithuania                2\n34                 Malta                2\n35                Canada                3",
      "text/html": "<div>\n<style scoped>\n    .dataframe tbody tr th:only-of-type {\n        vertical-align: middle;\n    }\n\n    .dataframe tbody tr th {\n        vertical-align: top;\n    }\n\n    .dataframe thead th {\n        text-align: right;\n    }\n</style>\n<table border=\"1\" class=\"dataframe\">\n  <thead>\n    <tr style=\"text-align: right;\">\n      <th></th>\n      <th>Country</th>\n      <th>TransactionCount</th>\n    </tr>\n  </thead>\n  <tbody>\n    <tr>\n      <th>0</th>\n      <td>Iceland</td>\n      <td>6</td>\n    </tr>\n    <tr>\n      <th>1</th>\n      <td>Finland</td>\n      <td>26</td>\n    </tr>\n    <tr>\n      <th>2</th>\n      <td>Italy</td>\n      <td>31</td>\n    </tr>\n    <tr>\n      <th>3</th>\n      <td>Norway</td>\n      <td>28</td>\n    </tr>\n    <tr>\n      <th>4</th>\n      <td>Spain</td>\n      <td>72</td>\n    </tr>\n    <tr>\n      <th>5</th>\n      <td>Bahrain</td>\n      <td>1</td>\n    </tr>\n    <tr>\n      <th>6</th>\n      <td>Portugal</td>\n      <td>43</td>\n    </tr>\n    <tr>\n      <th>7</th>\n      <td>Switzerland</td>\n      <td>41</td>\n    </tr>\n    <tr>\n      <th>8</th>\n      <td>Austria</td>\n      <td>12</td>\n    </tr>\n    <tr>\n      <th>9</th>\n      <td>Cyprus</td>\n      <td>16</td>\n    </tr>\n    <tr>\n      <th>10</th>\n      <td>Belgium</td>\n      <td>84</td>\n    </tr>\n    <tr>\n      <th>11</th>\n      <td>Unspecified</td>\n      <td>8</td>\n    </tr>\n    <tr>\n      <th>12</th>\n      <td>Denmark</td>\n      <td>18</td>\n    </tr>\n    <tr>\n      <th>13</th>\n      <td>Australia</td>\n      <td>44</td>\n    </tr>\n    <tr>\n      <th>14</th>\n      <td>France</td>\n      <td>344</td>\n    </tr>\n    <tr>\n      <th>15</th>\n      <td>Germany</td>\n      <td>377</td>\n    </tr>\n    <tr>\n      <th>16</th>\n      <td>RSA</td>\n      <td>1</td>\n    </tr>\n    <tr>\n      <th>17</th>\n      <td>Greece</td>\n      <td>5</td>\n    </tr>\n    <tr>\n      <th>18</th>\n      <td>Sweden</td>\n      <td>26</td>\n    </tr>\n    <tr>\n      <th>19</th>\n      <td>Israel</td>\n      <td>4</td>\n    </tr>\n    <tr>\n      <th>20</th>\n      <td>USA</td>\n      <td>5</td>\n    </tr>\n    <tr>\n      <th>21</th>\n      <td>Saudi Arabia</td>\n      <td>1</td>\n    </tr>\n    <tr>\n      <th>22</th>\n      <td>Poland</td>\n      <td>17</td>\n    </tr>\n    <tr>\n      <th>23</th>\n      <td>United Arab Emirates</td>\n      <td>2</td>\n    </tr>\n    <tr>\n      <th>24</th>\n      <td>Singapore</td>\n      <td>4</td>\n    </tr>\n    <tr>\n      <th>25</th>\n      <td>Japan</td>\n      <td>14</td>\n    </tr>\n    <tr>\n      <th>26</th>\n      <td>Netherlands</td>\n      <td>76</td>\n    </tr>\n    <tr>\n      <th>27</th>\n      <td>Lebanon</td>\n      <td>1</td>\n    </tr>\n    <tr>\n      <th>28</th>\n      <td>Brazil</td>\n      <td>1</td>\n    </tr>\n    <tr>\n      <th>29</th>\n      <td>Czech Republic</td>\n      <td>2</td>\n    </tr>\n    <tr>\n      <th>30</th>\n      <td>EIRE</td>\n      <td>224</td>\n    </tr>\n    <tr>\n      <th>31</th>\n      <td>Channel Islands</td>\n      <td>21</td>\n    </tr>\n    <tr>\n      <th>32</th>\n      <td>European Community</td>\n      <td>3</td>\n    </tr>\n    <tr>\n      <th>33</th>\n      <td>Lithuania</td>\n      <td>2</td>\n    </tr>\n    <tr>\n      <th>34</th>\n      <td>Malta</td>\n      <td>2</td>\n    </tr>\n    <tr>\n      <th>35</th>\n      <td>Canada</td>\n      <td>3</td>\n    </tr>\n  </tbody>\n</table>\n</div>"
     },
     "metadata": {},
     "execution_count": 3
    }
   ],
   "source": [
    "transaksi = pd.DataFrame(columns=[\"Country\",\"TransactionCount\"])\n",
    "transaksi[\"Country\"] = country\n",
    "itr = 0\n",
    "for ctr in transaksi[\"Country\"]:\n",
    "    inv = dataset[dataset[\"Country\"] == ctr][\"InvoiceNo\"].unique()\n",
    "    transaksi.iloc[itr][\"TransactionCount\"] = len(inv)\n",
    "    itr += 1\n",
    "transaksi"
   ]
  },
  {
   "cell_type": "code",
   "execution_count": 11,
   "metadata": {},
   "outputs": [
    {
     "output_type": "execute_result",
     "data": {
      "text/plain": "array([[ 18.78787879],\n       [360.5       ],\n       [224.        ]])"
     },
     "metadata": {},
     "execution_count": 11
    }
   ],
   "source": [
    "from sklearn.cluster import AgglomerativeClustering\n",
    "from sklearn.neighbors import NearestCentroid\n",
    "\n",
    "X = transaksi[[\"TransactionCount\"]]\n",
    "\n",
    "cluster = AgglomerativeClustering(n_clusters=3, affinity=\"euclidean\", linkage=\"average\")\n",
    "ypred = cluster.fit_predict(X)\n",
    "ypred\n",
    "\n",
    "nCtr = NearestCentroid()\n",
    "nCtr.fit(X, ypred)\n",
    "\n",
    "centroids = nCtr.centroids_\n",
    "centroids"
   ]
  },
  {
   "cell_type": "code",
   "execution_count": 5,
   "metadata": {},
   "outputs": [
    {
     "output_type": "execute_result",
     "data": {
      "text/plain": "            X\n0   18.787879\n2  224.000000\n1  360.500000",
      "text/html": "<div>\n<style scoped>\n    .dataframe tbody tr th:only-of-type {\n        vertical-align: middle;\n    }\n\n    .dataframe tbody tr th {\n        vertical-align: top;\n    }\n\n    .dataframe thead th {\n        text-align: right;\n    }\n</style>\n<table border=\"1\" class=\"dataframe\">\n  <thead>\n    <tr style=\"text-align: right;\">\n      <th></th>\n      <th>X</th>\n    </tr>\n  </thead>\n  <tbody>\n    <tr>\n      <th>0</th>\n      <td>18.787879</td>\n    </tr>\n    <tr>\n      <th>2</th>\n      <td>224.000000</td>\n    </tr>\n    <tr>\n      <th>1</th>\n      <td>360.500000</td>\n    </tr>\n  </tbody>\n</table>\n</div>"
     },
     "metadata": {},
     "execution_count": 5
    }
   ],
   "source": [
    "ctr = pd.DataFrame(columns=[\"X\"], data=centroids)\n",
    "ctr.sort_values(by=[\"X\"], inplace=True)\n",
    "ctr"
   ]
  },
  {
   "cell_type": "code",
   "execution_count": 6,
   "metadata": {},
   "outputs": [
    {
     "output_type": "execute_result",
     "data": {
      "text/html": "\n<div id=\"altair-viz-56faca0a2f0341799d660a0fa36e9c47\"></div>\n<script type=\"text/javascript\">\n  (function(spec, embedOpt){\n    let outputDiv = document.currentScript.previousElementSibling;\n    if (outputDiv.id !== \"altair-viz-56faca0a2f0341799d660a0fa36e9c47\") {\n      outputDiv = document.getElementById(\"altair-viz-56faca0a2f0341799d660a0fa36e9c47\");\n    }\n    const paths = {\n      \"vega\": \"https://cdn.jsdelivr.net/npm//vega@5?noext\",\n      \"vega-lib\": \"https://cdn.jsdelivr.net/npm//vega-lib?noext\",\n      \"vega-lite\": \"https://cdn.jsdelivr.net/npm//vega-lite@4.8.1?noext\",\n      \"vega-embed\": \"https://cdn.jsdelivr.net/npm//vega-embed@6?noext\",\n    };\n\n    function loadScript(lib) {\n      return new Promise(function(resolve, reject) {\n        var s = document.createElement('script');\n        s.src = paths[lib];\n        s.async = true;\n        s.onload = () => resolve(paths[lib]);\n        s.onerror = () => reject(`Error loading script: ${paths[lib]}`);\n        document.getElementsByTagName(\"head\")[0].appendChild(s);\n      });\n    }\n\n    function showError(err) {\n      outputDiv.innerHTML = `<div class=\"error\" style=\"color:red;\">${err}</div>`;\n      throw err;\n    }\n\n    function displayChart(vegaEmbed) {\n      vegaEmbed(outputDiv, spec, embedOpt)\n        .catch(err => showError(`Javascript Error: ${err.message}<br>This usually means there's a typo in your chart specification. See the javascript console for the full traceback.`));\n    }\n\n    if(typeof define === \"function\" && define.amd) {\n      requirejs.config({paths});\n      require([\"vega-embed\"], displayChart, err => showError(`Error loading script: ${err.message}`));\n    } else if (typeof vegaEmbed === \"function\") {\n      displayChart(vegaEmbed);\n    } else {\n      loadScript(\"vega\")\n        .then(() => loadScript(\"vega-lite\"))\n        .then(() => loadScript(\"vega-embed\"))\n        .catch(showError)\n        .then(() => displayChart(vegaEmbed));\n    }\n  })({\"config\": {\"view\": {\"continuousWidth\": 400, \"continuousHeight\": 300}}, \"data\": {\"name\": \"data-04061daa32ab9aa4fe6cdc87fa957952\"}, \"mark\": \"point\", \"encoding\": {\"color\": {\"type\": \"nominal\", \"field\": \"Class\", \"legend\": {\"title\": \"Transaction Cluster\"}}, \"x\": {\"type\": \"nominal\", \"field\": \"Country\"}, \"y\": {\"type\": \"quantitative\", \"field\": \"TransactionCount\"}}, \"$schema\": \"https://vega.github.io/schema/vega-lite/v4.8.1.json\", \"datasets\": {\"data-04061daa32ab9aa4fe6cdc87fa957952\": [{\"Country\": \"Iceland\", \"TransactionCount\": 6, \"Class\": \"Low\"}, {\"Country\": \"Finland\", \"TransactionCount\": 26, \"Class\": \"Low\"}, {\"Country\": \"Italy\", \"TransactionCount\": 31, \"Class\": \"Low\"}, {\"Country\": \"Norway\", \"TransactionCount\": 28, \"Class\": \"Low\"}, {\"Country\": \"Spain\", \"TransactionCount\": 72, \"Class\": \"Low\"}, {\"Country\": \"Bahrain\", \"TransactionCount\": 1, \"Class\": \"Low\"}, {\"Country\": \"Portugal\", \"TransactionCount\": 43, \"Class\": \"Low\"}, {\"Country\": \"Switzerland\", \"TransactionCount\": 41, \"Class\": \"Low\"}, {\"Country\": \"Austria\", \"TransactionCount\": 12, \"Class\": \"Low\"}, {\"Country\": \"Cyprus\", \"TransactionCount\": 16, \"Class\": \"Low\"}, {\"Country\": \"Belgium\", \"TransactionCount\": 84, \"Class\": \"Low\"}, {\"Country\": \"Unspecified\", \"TransactionCount\": 8, \"Class\": \"Low\"}, {\"Country\": \"Denmark\", \"TransactionCount\": 18, \"Class\": \"Low\"}, {\"Country\": \"Australia\", \"TransactionCount\": 44, \"Class\": \"Low\"}, {\"Country\": \"France\", \"TransactionCount\": 344, \"Class\": \"High\"}, {\"Country\": \"Germany\", \"TransactionCount\": 377, \"Class\": \"High\"}, {\"Country\": \"RSA\", \"TransactionCount\": 1, \"Class\": \"Low\"}, {\"Country\": \"Greece\", \"TransactionCount\": 5, \"Class\": \"Low\"}, {\"Country\": \"Sweden\", \"TransactionCount\": 26, \"Class\": \"Low\"}, {\"Country\": \"Israel\", \"TransactionCount\": 4, \"Class\": \"Low\"}, {\"Country\": \"USA\", \"TransactionCount\": 5, \"Class\": \"Low\"}, {\"Country\": \"Saudi Arabia\", \"TransactionCount\": 1, \"Class\": \"Low\"}, {\"Country\": \"Poland\", \"TransactionCount\": 17, \"Class\": \"Low\"}, {\"Country\": \"United Arab Emirates\", \"TransactionCount\": 2, \"Class\": \"Low\"}, {\"Country\": \"Singapore\", \"TransactionCount\": 4, \"Class\": \"Low\"}, {\"Country\": \"Japan\", \"TransactionCount\": 14, \"Class\": \"Low\"}, {\"Country\": \"Netherlands\", \"TransactionCount\": 76, \"Class\": \"Low\"}, {\"Country\": \"Lebanon\", \"TransactionCount\": 1, \"Class\": \"Low\"}, {\"Country\": \"Brazil\", \"TransactionCount\": 1, \"Class\": \"Low\"}, {\"Country\": \"Czech Republic\", \"TransactionCount\": 2, \"Class\": \"Low\"}, {\"Country\": \"EIRE\", \"TransactionCount\": 224, \"Class\": \"Medium\"}, {\"Country\": \"Channel Islands\", \"TransactionCount\": 21, \"Class\": \"Low\"}, {\"Country\": \"European Community\", \"TransactionCount\": 3, \"Class\": \"Low\"}, {\"Country\": \"Lithuania\", \"TransactionCount\": 2, \"Class\": \"Low\"}, {\"Country\": \"Malta\", \"TransactionCount\": 2, \"Class\": \"Low\"}, {\"Country\": \"Canada\", \"TransactionCount\": 3, \"Class\": \"Low\"}]}}, {\"mode\": \"vega-lite\"});\n</script>",
      "text/plain": "alt.Chart(...)"
     },
     "metadata": {},
     "execution_count": 6
    }
   ],
   "source": [
    "import altair as alt\n",
    "\n",
    "label = pd.DataFrame(columns=[\"Cluster\"], data=ypred)\n",
    "label = label.replace({0: \"Low\",1: \"High\",2: \"Medium\"})\n",
    "transaksi['Class'] = label\n",
    "\n",
    "alt.Chart(transaksi).mark_point().encode(\n",
    "    x=\"Country\", y=\"TransactionCount\",\n",
    "    color=alt.Color(\"Class\",\n",
    "        legend=alt.Legend(title=\"Transaction Cluster\")\n",
    "    )\n",
    ")"
   ]
  }
 ],
 "metadata": {
  "language_info": {
   "codemirror_mode": {
    "name": "ipython",
    "version": 3
   },
   "file_extension": ".py",
   "mimetype": "text/x-python",
   "name": "python",
   "nbconvert_exporter": "python",
   "pygments_lexer": "ipython3",
   "version": "3.8.2-final"
  },
  "orig_nbformat": 2,
  "kernelspec": {
   "name": "python37364bitdataminingvenv040b2d7edb43458bb09fb3ef07d16849",
   "display_name": "Python 3.7.3 64-bit ('DataMining': venv)"
  }
 },
 "nbformat": 4,
 "nbformat_minor": 2
}