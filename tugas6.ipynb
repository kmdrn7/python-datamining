{
 "cells": [
  {
   "cell_type": "code",
   "execution_count": 1,
   "metadata": {},
   "outputs": [
    {
     "output_type": "execute_result",
     "data": {
      "text/plain": "     PassengerId  Survived  Pclass  \\\n0              1         0       3   \n1              2         1       1   \n2              3         1       3   \n3              4         1       1   \n4              5         0       3   \n..           ...       ...     ...   \n886          887         0       2   \n887          888         1       1   \n888          889         0       3   \n889          890         1       1   \n890          891         0       3   \n\n                                                  Name     Sex   Age  SibSp  \\\n0                              Braund, Mr. Owen Harris    male  22.0      1   \n1    Cumings, Mrs. John Bradley (Florence Briggs Th...  female  38.0      1   \n2                               Heikkinen, Miss. Laina  female  26.0      0   \n3         Futrelle, Mrs. Jacques Heath (Lily May Peel)  female  35.0      1   \n4                             Allen, Mr. William Henry    male  35.0      0   \n..                                                 ...     ...   ...    ...   \n886                              Montvila, Rev. Juozas    male  27.0      0   \n887                       Graham, Miss. Margaret Edith  female  19.0      0   \n888           Johnston, Miss. Catherine Helen \"Carrie\"  female   NaN      1   \n889                              Behr, Mr. Karl Howell    male  26.0      0   \n890                                Dooley, Mr. Patrick    male  32.0      0   \n\n     Parch            Ticket     Fare Cabin Embarked  \n0        0         A/5 21171   7.2500   NaN        S  \n1        0          PC 17599  71.2833   C85        C  \n2        0  STON/O2. 3101282   7.9250   NaN        S  \n3        0            113803  53.1000  C123        S  \n4        0            373450   8.0500   NaN        S  \n..     ...               ...      ...   ...      ...  \n886      0            211536  13.0000   NaN        S  \n887      0            112053  30.0000   B42        S  \n888      2        W./C. 6607  23.4500   NaN        S  \n889      0            111369  30.0000  C148        C  \n890      0            370376   7.7500   NaN        Q  \n\n[891 rows x 12 columns]",
      "text/html": "<div>\n<style scoped>\n    .dataframe tbody tr th:only-of-type {\n        vertical-align: middle;\n    }\n\n    .dataframe tbody tr th {\n        vertical-align: top;\n    }\n\n    .dataframe thead th {\n        text-align: right;\n    }\n</style>\n<table border=\"1\" class=\"dataframe\">\n  <thead>\n    <tr style=\"text-align: right;\">\n      <th></th>\n      <th>PassengerId</th>\n      <th>Survived</th>\n      <th>Pclass</th>\n      <th>Name</th>\n      <th>Sex</th>\n      <th>Age</th>\n      <th>SibSp</th>\n      <th>Parch</th>\n      <th>Ticket</th>\n      <th>Fare</th>\n      <th>Cabin</th>\n      <th>Embarked</th>\n    </tr>\n  </thead>\n  <tbody>\n    <tr>\n      <th>0</th>\n      <td>1</td>\n      <td>0</td>\n      <td>3</td>\n      <td>Braund, Mr. Owen Harris</td>\n      <td>male</td>\n      <td>22.0</td>\n      <td>1</td>\n      <td>0</td>\n      <td>A/5 21171</td>\n      <td>7.2500</td>\n      <td>NaN</td>\n      <td>S</td>\n    </tr>\n    <tr>\n      <th>1</th>\n      <td>2</td>\n      <td>1</td>\n      <td>1</td>\n      <td>Cumings, Mrs. John Bradley (Florence Briggs Th...</td>\n      <td>female</td>\n      <td>38.0</td>\n      <td>1</td>\n      <td>0</td>\n      <td>PC 17599</td>\n      <td>71.2833</td>\n      <td>C85</td>\n      <td>C</td>\n    </tr>\n    <tr>\n      <th>2</th>\n      <td>3</td>\n      <td>1</td>\n      <td>3</td>\n      <td>Heikkinen, Miss. Laina</td>\n      <td>female</td>\n      <td>26.0</td>\n      <td>0</td>\n      <td>0</td>\n      <td>STON/O2. 3101282</td>\n      <td>7.9250</td>\n      <td>NaN</td>\n      <td>S</td>\n    </tr>\n    <tr>\n      <th>3</th>\n      <td>4</td>\n      <td>1</td>\n      <td>1</td>\n      <td>Futrelle, Mrs. Jacques Heath (Lily May Peel)</td>\n      <td>female</td>\n      <td>35.0</td>\n      <td>1</td>\n      <td>0</td>\n      <td>113803</td>\n      <td>53.1000</td>\n      <td>C123</td>\n      <td>S</td>\n    </tr>\n    <tr>\n      <th>4</th>\n      <td>5</td>\n      <td>0</td>\n      <td>3</td>\n      <td>Allen, Mr. William Henry</td>\n      <td>male</td>\n      <td>35.0</td>\n      <td>0</td>\n      <td>0</td>\n      <td>373450</td>\n      <td>8.0500</td>\n      <td>NaN</td>\n      <td>S</td>\n    </tr>\n    <tr>\n      <th>...</th>\n      <td>...</td>\n      <td>...</td>\n      <td>...</td>\n      <td>...</td>\n      <td>...</td>\n      <td>...</td>\n      <td>...</td>\n      <td>...</td>\n      <td>...</td>\n      <td>...</td>\n      <td>...</td>\n      <td>...</td>\n    </tr>\n    <tr>\n      <th>886</th>\n      <td>887</td>\n      <td>0</td>\n      <td>2</td>\n      <td>Montvila, Rev. Juozas</td>\n      <td>male</td>\n      <td>27.0</td>\n      <td>0</td>\n      <td>0</td>\n      <td>211536</td>\n      <td>13.0000</td>\n      <td>NaN</td>\n      <td>S</td>\n    </tr>\n    <tr>\n      <th>887</th>\n      <td>888</td>\n      <td>1</td>\n      <td>1</td>\n      <td>Graham, Miss. Margaret Edith</td>\n      <td>female</td>\n      <td>19.0</td>\n      <td>0</td>\n      <td>0</td>\n      <td>112053</td>\n      <td>30.0000</td>\n      <td>B42</td>\n      <td>S</td>\n    </tr>\n    <tr>\n      <th>888</th>\n      <td>889</td>\n      <td>0</td>\n      <td>3</td>\n      <td>Johnston, Miss. Catherine Helen \"Carrie\"</td>\n      <td>female</td>\n      <td>NaN</td>\n      <td>1</td>\n      <td>2</td>\n      <td>W./C. 6607</td>\n      <td>23.4500</td>\n      <td>NaN</td>\n      <td>S</td>\n    </tr>\n    <tr>\n      <th>889</th>\n      <td>890</td>\n      <td>1</td>\n      <td>1</td>\n      <td>Behr, Mr. Karl Howell</td>\n      <td>male</td>\n      <td>26.0</td>\n      <td>0</td>\n      <td>0</td>\n      <td>111369</td>\n      <td>30.0000</td>\n      <td>C148</td>\n      <td>C</td>\n    </tr>\n    <tr>\n      <th>890</th>\n      <td>891</td>\n      <td>0</td>\n      <td>3</td>\n      <td>Dooley, Mr. Patrick</td>\n      <td>male</td>\n      <td>32.0</td>\n      <td>0</td>\n      <td>0</td>\n      <td>370376</td>\n      <td>7.7500</td>\n      <td>NaN</td>\n      <td>Q</td>\n    </tr>\n  </tbody>\n</table>\n<p>891 rows × 12 columns</p>\n</div>"
     },
     "metadata": {},
     "execution_count": 1
    }
   ],
   "source": [
    "import pandas as pd\n",
    "import numpy as np\n",
    "import tabulate as tab\n",
    "import numbers\n",
    "\n",
    "dataset = pd.read_csv('titanic.csv')\n",
    "dataset"
   ]
  },
  {
   "cell_type": "code",
   "execution_count": 2,
   "metadata": {},
   "outputs": [
    {
     "output_type": "execute_result",
     "data": {
      "text/plain": "     PassengerId  Pclass                                          Name  Sex  \\\n0            892       3                              Kelly, Mr. James    1   \n1            893       3              Wilkes, Mrs. James (Ellen Needs)    0   \n2            894       2                     Myles, Mr. Thomas Francis    1   \n3            895       3                              Wirz, Mr. Albert    1   \n4            896       3  Hirvonen, Mrs. Alexander (Helga E Lindqvist)    0   \n..           ...     ...                                           ...  ...   \n413         1305       3                            Spector, Mr. Woolf    1   \n414         1306       1                  Oliva y Ocana, Dona. Fermina    0   \n415         1307       3                  Saether, Mr. Simon Sivertsen    1   \n416         1308       3                           Ware, Mr. Frederick    1   \n417         1309       3                      Peter, Master. Michael J    1   \n\n      Age  SibSp  Parch              Ticket      Fare Cabin Embarked  \n0    34.5      0      0              330911    7.8292   NaN        Q  \n1    47.0      1      0              363272    7.0000   NaN        S  \n2    62.0      0      0              240276    9.6875   NaN        Q  \n3    27.0      0      0              315154    8.6625   NaN        S  \n4    22.0      1      1             3101298   12.2875   NaN        S  \n..    ...    ...    ...                 ...       ...   ...      ...  \n413   NaN      0      0           A.5. 3236    8.0500   NaN        S  \n414  39.0      0      0            PC 17758  108.9000  C105        C  \n415  38.5      0      0  SOTON/O.Q. 3101262    7.2500   NaN        S  \n416   NaN      0      0              359309    8.0500   NaN        S  \n417   NaN      1      1                2668   22.3583   NaN        C  \n\n[418 rows x 11 columns]",
      "text/html": "<div>\n<style scoped>\n    .dataframe tbody tr th:only-of-type {\n        vertical-align: middle;\n    }\n\n    .dataframe tbody tr th {\n        vertical-align: top;\n    }\n\n    .dataframe thead th {\n        text-align: right;\n    }\n</style>\n<table border=\"1\" class=\"dataframe\">\n  <thead>\n    <tr style=\"text-align: right;\">\n      <th></th>\n      <th>PassengerId</th>\n      <th>Pclass</th>\n      <th>Name</th>\n      <th>Sex</th>\n      <th>Age</th>\n      <th>SibSp</th>\n      <th>Parch</th>\n      <th>Ticket</th>\n      <th>Fare</th>\n      <th>Cabin</th>\n      <th>Embarked</th>\n    </tr>\n  </thead>\n  <tbody>\n    <tr>\n      <th>0</th>\n      <td>892</td>\n      <td>3</td>\n      <td>Kelly, Mr. James</td>\n      <td>1</td>\n      <td>34.5</td>\n      <td>0</td>\n      <td>0</td>\n      <td>330911</td>\n      <td>7.8292</td>\n      <td>NaN</td>\n      <td>Q</td>\n    </tr>\n    <tr>\n      <th>1</th>\n      <td>893</td>\n      <td>3</td>\n      <td>Wilkes, Mrs. James (Ellen Needs)</td>\n      <td>0</td>\n      <td>47.0</td>\n      <td>1</td>\n      <td>0</td>\n      <td>363272</td>\n      <td>7.0000</td>\n      <td>NaN</td>\n      <td>S</td>\n    </tr>\n    <tr>\n      <th>2</th>\n      <td>894</td>\n      <td>2</td>\n      <td>Myles, Mr. Thomas Francis</td>\n      <td>1</td>\n      <td>62.0</td>\n      <td>0</td>\n      <td>0</td>\n      <td>240276</td>\n      <td>9.6875</td>\n      <td>NaN</td>\n      <td>Q</td>\n    </tr>\n    <tr>\n      <th>3</th>\n      <td>895</td>\n      <td>3</td>\n      <td>Wirz, Mr. Albert</td>\n      <td>1</td>\n      <td>27.0</td>\n      <td>0</td>\n      <td>0</td>\n      <td>315154</td>\n      <td>8.6625</td>\n      <td>NaN</td>\n      <td>S</td>\n    </tr>\n    <tr>\n      <th>4</th>\n      <td>896</td>\n      <td>3</td>\n      <td>Hirvonen, Mrs. Alexander (Helga E Lindqvist)</td>\n      <td>0</td>\n      <td>22.0</td>\n      <td>1</td>\n      <td>1</td>\n      <td>3101298</td>\n      <td>12.2875</td>\n      <td>NaN</td>\n      <td>S</td>\n    </tr>\n    <tr>\n      <th>...</th>\n      <td>...</td>\n      <td>...</td>\n      <td>...</td>\n      <td>...</td>\n      <td>...</td>\n      <td>...</td>\n      <td>...</td>\n      <td>...</td>\n      <td>...</td>\n      <td>...</td>\n      <td>...</td>\n    </tr>\n    <tr>\n      <th>413</th>\n      <td>1305</td>\n      <td>3</td>\n      <td>Spector, Mr. Woolf</td>\n      <td>1</td>\n      <td>NaN</td>\n      <td>0</td>\n      <td>0</td>\n      <td>A.5. 3236</td>\n      <td>8.0500</td>\n      <td>NaN</td>\n      <td>S</td>\n    </tr>\n    <tr>\n      <th>414</th>\n      <td>1306</td>\n      <td>1</td>\n      <td>Oliva y Ocana, Dona. Fermina</td>\n      <td>0</td>\n      <td>39.0</td>\n      <td>0</td>\n      <td>0</td>\n      <td>PC 17758</td>\n      <td>108.9000</td>\n      <td>C105</td>\n      <td>C</td>\n    </tr>\n    <tr>\n      <th>415</th>\n      <td>1307</td>\n      <td>3</td>\n      <td>Saether, Mr. Simon Sivertsen</td>\n      <td>1</td>\n      <td>38.5</td>\n      <td>0</td>\n      <td>0</td>\n      <td>SOTON/O.Q. 3101262</td>\n      <td>7.2500</td>\n      <td>NaN</td>\n      <td>S</td>\n    </tr>\n    <tr>\n      <th>416</th>\n      <td>1308</td>\n      <td>3</td>\n      <td>Ware, Mr. Frederick</td>\n      <td>1</td>\n      <td>NaN</td>\n      <td>0</td>\n      <td>0</td>\n      <td>359309</td>\n      <td>8.0500</td>\n      <td>NaN</td>\n      <td>S</td>\n    </tr>\n    <tr>\n      <th>417</th>\n      <td>1309</td>\n      <td>3</td>\n      <td>Peter, Master. Michael J</td>\n      <td>1</td>\n      <td>NaN</td>\n      <td>1</td>\n      <td>1</td>\n      <td>2668</td>\n      <td>22.3583</td>\n      <td>NaN</td>\n      <td>C</td>\n    </tr>\n  </tbody>\n</table>\n<p>418 rows × 11 columns</p>\n</div>"
     },
     "metadata": {},
     "execution_count": 2
    }
   ],
   "source": [
    "test_dataset = pd.read_csv('titanic_test.csv')\n",
    "test_dataset[\"Sex\"] = test_dataset[\"Sex\"].astype('category').cat.codes\n",
    "test_dataset"
   ]
  },
  {
   "cell_type": "code",
   "execution_count": 3,
   "metadata": {},
   "outputs": [
    {
     "output_type": "execute_result",
     "data": {
      "text/plain": "     Sex        Age  Pclass     Fare\n0      1  22.000000       3   7.2500\n1      0  38.000000       1  71.2833\n2      0  26.000000       3   7.9250\n3      0  35.000000       1  53.1000\n4      1  35.000000       3   8.0500\n..   ...        ...     ...      ...\n886    1  27.000000       2  13.0000\n887    0  19.000000       1  30.0000\n888    0  30.626179       3  23.4500\n889    1  26.000000       1  30.0000\n890    1  32.000000       3   7.7500\n\n[891 rows x 4 columns]",
      "text/html": "<div>\n<style scoped>\n    .dataframe tbody tr th:only-of-type {\n        vertical-align: middle;\n    }\n\n    .dataframe tbody tr th {\n        vertical-align: top;\n    }\n\n    .dataframe thead th {\n        text-align: right;\n    }\n</style>\n<table border=\"1\" class=\"dataframe\">\n  <thead>\n    <tr style=\"text-align: right;\">\n      <th></th>\n      <th>Sex</th>\n      <th>Age</th>\n      <th>Pclass</th>\n      <th>Fare</th>\n    </tr>\n  </thead>\n  <tbody>\n    <tr>\n      <th>0</th>\n      <td>1</td>\n      <td>22.000000</td>\n      <td>3</td>\n      <td>7.2500</td>\n    </tr>\n    <tr>\n      <th>1</th>\n      <td>0</td>\n      <td>38.000000</td>\n      <td>1</td>\n      <td>71.2833</td>\n    </tr>\n    <tr>\n      <th>2</th>\n      <td>0</td>\n      <td>26.000000</td>\n      <td>3</td>\n      <td>7.9250</td>\n    </tr>\n    <tr>\n      <th>3</th>\n      <td>0</td>\n      <td>35.000000</td>\n      <td>1</td>\n      <td>53.1000</td>\n    </tr>\n    <tr>\n      <th>4</th>\n      <td>1</td>\n      <td>35.000000</td>\n      <td>3</td>\n      <td>8.0500</td>\n    </tr>\n    <tr>\n      <th>...</th>\n      <td>...</td>\n      <td>...</td>\n      <td>...</td>\n      <td>...</td>\n    </tr>\n    <tr>\n      <th>886</th>\n      <td>1</td>\n      <td>27.000000</td>\n      <td>2</td>\n      <td>13.0000</td>\n    </tr>\n    <tr>\n      <th>887</th>\n      <td>0</td>\n      <td>19.000000</td>\n      <td>1</td>\n      <td>30.0000</td>\n    </tr>\n    <tr>\n      <th>888</th>\n      <td>0</td>\n      <td>30.626179</td>\n      <td>3</td>\n      <td>23.4500</td>\n    </tr>\n    <tr>\n      <th>889</th>\n      <td>1</td>\n      <td>26.000000</td>\n      <td>1</td>\n      <td>30.0000</td>\n    </tr>\n    <tr>\n      <th>890</th>\n      <td>1</td>\n      <td>32.000000</td>\n      <td>3</td>\n      <td>7.7500</td>\n    </tr>\n  </tbody>\n</table>\n<p>891 rows × 4 columns</p>\n</div>"
     },
     "metadata": {},
     "execution_count": 3
    }
   ],
   "source": [
    "train_data = dataset[[\"Sex\",\"Age\",\"Pclass\",\"Fare\"]]\n",
    "train_data[\"Age\"].fillna(\n",
    "    dataset.groupby([\"Survived\"])[\"Age\"].transform(\"mean\"),\n",
    "    inplace=True\n",
    ")\n",
    "train_data[\"Sex\"] = train_data[\"Sex\"].astype('category').cat.codes\n",
    "train_data"
   ]
  },
  {
   "cell_type": "code",
   "execution_count": 4,
   "metadata": {},
   "outputs": [
    {
     "output_type": "execute_result",
     "data": {
      "text/plain": "     Survived\n0           0\n1           1\n2           1\n3           1\n4           0\n..        ...\n886         0\n887         1\n888         0\n889         1\n890         0\n\n[891 rows x 1 columns]",
      "text/html": "<div>\n<style scoped>\n    .dataframe tbody tr th:only-of-type {\n        vertical-align: middle;\n    }\n\n    .dataframe tbody tr th {\n        vertical-align: top;\n    }\n\n    .dataframe thead th {\n        text-align: right;\n    }\n</style>\n<table border=\"1\" class=\"dataframe\">\n  <thead>\n    <tr style=\"text-align: right;\">\n      <th></th>\n      <th>Survived</th>\n    </tr>\n  </thead>\n  <tbody>\n    <tr>\n      <th>0</th>\n      <td>0</td>\n    </tr>\n    <tr>\n      <th>1</th>\n      <td>1</td>\n    </tr>\n    <tr>\n      <th>2</th>\n      <td>1</td>\n    </tr>\n    <tr>\n      <th>3</th>\n      <td>1</td>\n    </tr>\n    <tr>\n      <th>4</th>\n      <td>0</td>\n    </tr>\n    <tr>\n      <th>...</th>\n      <td>...</td>\n    </tr>\n    <tr>\n      <th>886</th>\n      <td>0</td>\n    </tr>\n    <tr>\n      <th>887</th>\n      <td>1</td>\n    </tr>\n    <tr>\n      <th>888</th>\n      <td>0</td>\n    </tr>\n    <tr>\n      <th>889</th>\n      <td>1</td>\n    </tr>\n    <tr>\n      <th>890</th>\n      <td>0</td>\n    </tr>\n  </tbody>\n</table>\n<p>891 rows × 1 columns</p>\n</div>"
     },
     "metadata": {},
     "execution_count": 4
    }
   ],
   "source": [
    "train_label = dataset[[\"Survived\"]]\n",
    "train_label"
   ]
  },
  {
   "cell_type": "code",
   "execution_count": 5,
   "metadata": {},
   "outputs": [
    {
     "output_type": "execute_result",
     "data": {
      "text/plain": "     Sex   Age  Pclass      Fare\n0      1  34.5       3    7.8292\n1      0  47.0       3    7.0000\n2      1  62.0       2    9.6875\n3      1  27.0       3    8.6625\n4      0  22.0       3   12.2875\n..   ...   ...     ...       ...\n409    0   3.0       3   13.7750\n411    0  37.0       1   90.0000\n412    0  28.0       3    7.7750\n414    0  39.0       1  108.9000\n415    1  38.5       3    7.2500\n\n[331 rows x 4 columns]",
      "text/html": "<div>\n<style scoped>\n    .dataframe tbody tr th:only-of-type {\n        vertical-align: middle;\n    }\n\n    .dataframe tbody tr th {\n        vertical-align: top;\n    }\n\n    .dataframe thead th {\n        text-align: right;\n    }\n</style>\n<table border=\"1\" class=\"dataframe\">\n  <thead>\n    <tr style=\"text-align: right;\">\n      <th></th>\n      <th>Sex</th>\n      <th>Age</th>\n      <th>Pclass</th>\n      <th>Fare</th>\n    </tr>\n  </thead>\n  <tbody>\n    <tr>\n      <th>0</th>\n      <td>1</td>\n      <td>34.5</td>\n      <td>3</td>\n      <td>7.8292</td>\n    </tr>\n    <tr>\n      <th>1</th>\n      <td>0</td>\n      <td>47.0</td>\n      <td>3</td>\n      <td>7.0000</td>\n    </tr>\n    <tr>\n      <th>2</th>\n      <td>1</td>\n      <td>62.0</td>\n      <td>2</td>\n      <td>9.6875</td>\n    </tr>\n    <tr>\n      <th>3</th>\n      <td>1</td>\n      <td>27.0</td>\n      <td>3</td>\n      <td>8.6625</td>\n    </tr>\n    <tr>\n      <th>4</th>\n      <td>0</td>\n      <td>22.0</td>\n      <td>3</td>\n      <td>12.2875</td>\n    </tr>\n    <tr>\n      <th>...</th>\n      <td>...</td>\n      <td>...</td>\n      <td>...</td>\n      <td>...</td>\n    </tr>\n    <tr>\n      <th>409</th>\n      <td>0</td>\n      <td>3.0</td>\n      <td>3</td>\n      <td>13.7750</td>\n    </tr>\n    <tr>\n      <th>411</th>\n      <td>0</td>\n      <td>37.0</td>\n      <td>1</td>\n      <td>90.0000</td>\n    </tr>\n    <tr>\n      <th>412</th>\n      <td>0</td>\n      <td>28.0</td>\n      <td>3</td>\n      <td>7.7750</td>\n    </tr>\n    <tr>\n      <th>414</th>\n      <td>0</td>\n      <td>39.0</td>\n      <td>1</td>\n      <td>108.9000</td>\n    </tr>\n    <tr>\n      <th>415</th>\n      <td>1</td>\n      <td>38.5</td>\n      <td>3</td>\n      <td>7.2500</td>\n    </tr>\n  </tbody>\n</table>\n<p>331 rows × 4 columns</p>\n</div>"
     },
     "metadata": {},
     "execution_count": 5
    }
   ],
   "source": [
    "test_data = test_dataset[[\"Sex\",\"Age\",\"Pclass\",\"Fare\"]]\n",
    "deletedIdx = []\n",
    "for i in range(0, len(test_data)):\n",
    "    if test_data[\"Age\"][i] >= 0 and test_data[\"Fare\"][i] >= 0:\n",
    "        pass\n",
    "    else:\n",
    "        deletedIdx.append(i)\n",
    "test_data = test_data.dropna(subset=['Age',\"Fare\"])\n",
    "test_data"
   ]
  },
  {
   "cell_type": "code",
   "execution_count": 6,
   "metadata": {},
   "outputs": [
    {
     "output_type": "execute_result",
     "data": {
      "text/plain": "0      0\n1      1\n2      0\n3      0\n4      1\n      ..\n409    1\n411    1\n412    1\n414    1\n415    0\nName: Survived, Length: 331, dtype: int64"
     },
     "metadata": {},
     "execution_count": 6
    }
   ],
   "source": [
    "test_label = pd.read_csv('titanic_testlabel.csv')[\"Survived\"]\n",
    "test_label = test_label.drop(deletedIdx)\n",
    "test_label"
   ]
  },
  {
   "cell_type": "code",
   "execution_count": 7,
   "metadata": {},
   "outputs": [
    {
     "output_type": "stream",
     "name": "stdout",
     "text": "Sex  Age  Pclass  Fare\n0      1    1       3     0\n1      0    1       1     2\n2      0    1       3     0\n3      0    1       1     1\n4      1    1       3     0\n..   ...  ...     ...   ...\n886    1    1       2     0\n887    0    1       1     1\n888    0    1       3     1\n889    1    1       1     1\n890    1    1       3     0\n\n[891 rows x 4 columns]\n\n     Sex  Age  Pclass  Fare\n0      1    1       3     0\n1      0    2       3     0\n2      1    3       2     0\n3      1    1       3     0\n4      0    1       3     0\n..   ...  ...     ...   ...\n409    0    0       3     0\n411    0    1       1     2\n412    0    1       3     0\n414    0    1       1     3\n415    1    1       3     0\n\n[331 rows x 4 columns]\n"
    }
   ],
   "source": [
    "train_data[\"Age\"] = pd.cut(train_data[\"Age\"], bins=[-1,14.9,39.9,59.0,999], labels=[\"Anak_Anak\",\"Dewasa\",\"Paruh_Baya\",\"Tua\"])\n",
    "train_data[\"Age\"] = train_data[\"Age\"].astype('category').cat.codes\n",
    "train_data[\"Fare\"] = pd.cut(train_data[\"Fare\"], bins=[-1,20,60.9,90.9,999], labels=[\"Low\",\"Mid\",\"High\",\"Very_High\"])\n",
    "train_data[\"Fare\"] = train_data[\"Fare\"].astype('category').cat.codes\n",
    "\n",
    "test_data[\"Age\"] = pd.cut(test_data[\"Age\"], bins=[-1,14.9,39.9,59.0,999], labels=[\"Anak_Anak\",\"Dewasa\",\"Paruh_Baya\",\"Tua\"])\n",
    "test_data[\"Age\"] = test_data[\"Age\"].astype('category').cat.codes\n",
    "test_data[\"Fare\"] = pd.cut(test_data[\"Fare\"], bins=[-1,20,60.9,90.9,999], labels=[\"Low\",\"Mid\",\"High\",\"Very_High\"])\n",
    "test_data[\"Fare\"] = test_data[\"Fare\"].astype('category').cat.codes\n",
    "\n",
    "print(train_data)\n",
    "print()\n",
    "print(test_data)"
   ]
  },
  {
   "cell_type": "code",
   "execution_count": 8,
   "metadata": {},
   "outputs": [
    {
     "output_type": "stream",
     "name": "stdout",
     "text": "Accuracy: 0.9577039274924471\nError: 0.04229607250755285\n"
    }
   ],
   "source": [
    "from sklearn.tree import DecisionTreeClassifier\n",
    "\n",
    "classifier = DecisionTreeClassifier(criterion=\"entropy\", max_depth=4)\n",
    "classifier = classifier.fit(train_data, train_label)\n",
    "pred = classifier.predict(test_data)\n",
    "score = classifier.score(test_data, test_label)\n",
    "print(\"Accuracy: \" + str(score))\n",
    "print(\"Error: \" + str(1-score))"
   ]
  },
  {
   "cell_type": "code",
   "execution_count": 9,
   "metadata": {},
   "outputs": [
    {
     "output_type": "error",
     "ename": "ModuleNotFoundError",
     "evalue": "No module named 'sklearn.externals.six'",
     "traceback": [
      "\u001b[0;31m---------------------------------------------------------------------------\u001b[0m",
      "\u001b[0;31mModuleNotFoundError\u001b[0m                       Traceback (most recent call last)",
      "\u001b[0;32m<ipython-input-9-9d8ea618dc2e>\u001b[0m in \u001b[0;36m<module>\u001b[0;34m\u001b[0m\n\u001b[1;32m      1\u001b[0m \u001b[0;32mfrom\u001b[0m \u001b[0msklearn\u001b[0m\u001b[0;34m.\u001b[0m\u001b[0mtree\u001b[0m \u001b[0;32mimport\u001b[0m \u001b[0mexport_graphviz\u001b[0m\u001b[0;34m\u001b[0m\u001b[0;34m\u001b[0m\u001b[0m\n\u001b[0;32m----> 2\u001b[0;31m \u001b[0;32mfrom\u001b[0m \u001b[0msklearn\u001b[0m\u001b[0;34m.\u001b[0m\u001b[0mexternals\u001b[0m\u001b[0;34m.\u001b[0m\u001b[0msix\u001b[0m \u001b[0;32mimport\u001b[0m \u001b[0mStringIO\u001b[0m\u001b[0;34m\u001b[0m\u001b[0;34m\u001b[0m\u001b[0m\n\u001b[0m\u001b[1;32m      3\u001b[0m \u001b[0;32mfrom\u001b[0m \u001b[0mIPython\u001b[0m\u001b[0;34m.\u001b[0m\u001b[0mdisplay\u001b[0m \u001b[0;32mimport\u001b[0m \u001b[0mImage\u001b[0m\u001b[0;34m\u001b[0m\u001b[0;34m\u001b[0m\u001b[0m\n\u001b[1;32m      4\u001b[0m \u001b[0;32mimport\u001b[0m \u001b[0mpydotplus\u001b[0m\u001b[0;34m\u001b[0m\u001b[0;34m\u001b[0m\u001b[0m\n\u001b[1;32m      5\u001b[0m \u001b[0;34m\u001b[0m\u001b[0m\n",
      "\u001b[0;31mModuleNotFoundError\u001b[0m: No module named 'sklearn.externals.six'"
     ]
    }
   ],
   "source": [
    "from sklearn.tree import export_graphviz\n",
    "from sklearn.externals.six import StringIO\n",
    "from IPython.display import Image\n",
    "import pydotplus\n",
    "\n",
    "dot_data = StringIO()\n",
    "export_graphviz(classifier,\n",
    "                out_file=dot_data,filled=True,rounded=True,special_characters=True,\n",
    "                feature_names=train_data.columns.values,class_names=[\"0\",\"1\"]\n",
    ")\n",
    "graph = pydotplus.graph_from_dot_data(dot_data.getvalue())\n",
    "graph.write_png('result.png')\n",
    "Image(graph.create_png())"
   ]
  }
 ],
 "metadata": {
  "language_info": {
   "codemirror_mode": {
    "name": "ipython",
    "version": 3
   },
   "file_extension": ".py",
   "mimetype": "text/x-python",
   "name": "python",
   "nbconvert_exporter": "python",
   "pygments_lexer": "ipython3",
   "version": "3.8.2-final"
  },
  "orig_nbformat": 2,
  "kernelspec": {
   "name": "python37364bitdataminingvenv040b2d7edb43458bb09fb3ef07d16849",
   "display_name": "Python 3.7.3 64-bit ('DataMining': venv)"
  }
 },
 "nbformat": 4,
 "nbformat_minor": 2
}