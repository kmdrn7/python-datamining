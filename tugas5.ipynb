{
 "cells": [
  {
   "cell_type": "code",
   "execution_count": 2,
   "metadata": {},
   "outputs": [
    {
     "output_type": "execute_result",
     "data": {
      "text/plain": "     PassengerId  Survived  Pclass  \\\n0              1         0       3   \n1              2         1       1   \n2              3         1       3   \n3              4         1       1   \n4              5         0       3   \n..           ...       ...     ...   \n886          887         0       2   \n887          888         1       1   \n888          889         0       3   \n889          890         1       1   \n890          891         0       3   \n\n                                                  Name     Sex   Age  SibSp  \\\n0                              Braund, Mr. Owen Harris    male  22.0      1   \n1    Cumings, Mrs. John Bradley (Florence Briggs Th...  female  38.0      1   \n2                               Heikkinen, Miss. Laina  female  26.0      0   \n3         Futrelle, Mrs. Jacques Heath (Lily May Peel)  female  35.0      1   \n4                             Allen, Mr. William Henry    male  35.0      0   \n..                                                 ...     ...   ...    ...   \n886                              Montvila, Rev. Juozas    male  27.0      0   \n887                       Graham, Miss. Margaret Edith  female  19.0      0   \n888           Johnston, Miss. Catherine Helen \"Carrie\"  female   NaN      1   \n889                              Behr, Mr. Karl Howell    male  26.0      0   \n890                                Dooley, Mr. Patrick    male  32.0      0   \n\n     Parch            Ticket     Fare Cabin Embarked  \n0        0         A/5 21171   7.2500   NaN        S  \n1        0          PC 17599  71.2833   C85        C  \n2        0  STON/O2. 3101282   7.9250   NaN        S  \n3        0            113803  53.1000  C123        S  \n4        0            373450   8.0500   NaN        S  \n..     ...               ...      ...   ...      ...  \n886      0            211536  13.0000   NaN        S  \n887      0            112053  30.0000   B42        S  \n888      2        W./C. 6607  23.4500   NaN        S  \n889      0            111369  30.0000  C148        C  \n890      0            370376   7.7500   NaN        Q  \n\n[891 rows x 12 columns]",
      "text/html": "<div>\n<style scoped>\n    .dataframe tbody tr th:only-of-type {\n        vertical-align: middle;\n    }\n\n    .dataframe tbody tr th {\n        vertical-align: top;\n    }\n\n    .dataframe thead th {\n        text-align: right;\n    }\n</style>\n<table border=\"1\" class=\"dataframe\">\n  <thead>\n    <tr style=\"text-align: right;\">\n      <th></th>\n      <th>PassengerId</th>\n      <th>Survived</th>\n      <th>Pclass</th>\n      <th>Name</th>\n      <th>Sex</th>\n      <th>Age</th>\n      <th>SibSp</th>\n      <th>Parch</th>\n      <th>Ticket</th>\n      <th>Fare</th>\n      <th>Cabin</th>\n      <th>Embarked</th>\n    </tr>\n  </thead>\n  <tbody>\n    <tr>\n      <th>0</th>\n      <td>1</td>\n      <td>0</td>\n      <td>3</td>\n      <td>Braund, Mr. Owen Harris</td>\n      <td>male</td>\n      <td>22.0</td>\n      <td>1</td>\n      <td>0</td>\n      <td>A/5 21171</td>\n      <td>7.2500</td>\n      <td>NaN</td>\n      <td>S</td>\n    </tr>\n    <tr>\n      <th>1</th>\n      <td>2</td>\n      <td>1</td>\n      <td>1</td>\n      <td>Cumings, Mrs. John Bradley (Florence Briggs Th...</td>\n      <td>female</td>\n      <td>38.0</td>\n      <td>1</td>\n      <td>0</td>\n      <td>PC 17599</td>\n      <td>71.2833</td>\n      <td>C85</td>\n      <td>C</td>\n    </tr>\n    <tr>\n      <th>2</th>\n      <td>3</td>\n      <td>1</td>\n      <td>3</td>\n      <td>Heikkinen, Miss. Laina</td>\n      <td>female</td>\n      <td>26.0</td>\n      <td>0</td>\n      <td>0</td>\n      <td>STON/O2. 3101282</td>\n      <td>7.9250</td>\n      <td>NaN</td>\n      <td>S</td>\n    </tr>\n    <tr>\n      <th>3</th>\n      <td>4</td>\n      <td>1</td>\n      <td>1</td>\n      <td>Futrelle, Mrs. Jacques Heath (Lily May Peel)</td>\n      <td>female</td>\n      <td>35.0</td>\n      <td>1</td>\n      <td>0</td>\n      <td>113803</td>\n      <td>53.1000</td>\n      <td>C123</td>\n      <td>S</td>\n    </tr>\n    <tr>\n      <th>4</th>\n      <td>5</td>\n      <td>0</td>\n      <td>3</td>\n      <td>Allen, Mr. William Henry</td>\n      <td>male</td>\n      <td>35.0</td>\n      <td>0</td>\n      <td>0</td>\n      <td>373450</td>\n      <td>8.0500</td>\n      <td>NaN</td>\n      <td>S</td>\n    </tr>\n    <tr>\n      <th>...</th>\n      <td>...</td>\n      <td>...</td>\n      <td>...</td>\n      <td>...</td>\n      <td>...</td>\n      <td>...</td>\n      <td>...</td>\n      <td>...</td>\n      <td>...</td>\n      <td>...</td>\n      <td>...</td>\n      <td>...</td>\n    </tr>\n    <tr>\n      <th>886</th>\n      <td>887</td>\n      <td>0</td>\n      <td>2</td>\n      <td>Montvila, Rev. Juozas</td>\n      <td>male</td>\n      <td>27.0</td>\n      <td>0</td>\n      <td>0</td>\n      <td>211536</td>\n      <td>13.0000</td>\n      <td>NaN</td>\n      <td>S</td>\n    </tr>\n    <tr>\n      <th>887</th>\n      <td>888</td>\n      <td>1</td>\n      <td>1</td>\n      <td>Graham, Miss. Margaret Edith</td>\n      <td>female</td>\n      <td>19.0</td>\n      <td>0</td>\n      <td>0</td>\n      <td>112053</td>\n      <td>30.0000</td>\n      <td>B42</td>\n      <td>S</td>\n    </tr>\n    <tr>\n      <th>888</th>\n      <td>889</td>\n      <td>0</td>\n      <td>3</td>\n      <td>Johnston, Miss. Catherine Helen \"Carrie\"</td>\n      <td>female</td>\n      <td>NaN</td>\n      <td>1</td>\n      <td>2</td>\n      <td>W./C. 6607</td>\n      <td>23.4500</td>\n      <td>NaN</td>\n      <td>S</td>\n    </tr>\n    <tr>\n      <th>889</th>\n      <td>890</td>\n      <td>1</td>\n      <td>1</td>\n      <td>Behr, Mr. Karl Howell</td>\n      <td>male</td>\n      <td>26.0</td>\n      <td>0</td>\n      <td>0</td>\n      <td>111369</td>\n      <td>30.0000</td>\n      <td>C148</td>\n      <td>C</td>\n    </tr>\n    <tr>\n      <th>890</th>\n      <td>891</td>\n      <td>0</td>\n      <td>3</td>\n      <td>Dooley, Mr. Patrick</td>\n      <td>male</td>\n      <td>32.0</td>\n      <td>0</td>\n      <td>0</td>\n      <td>370376</td>\n      <td>7.7500</td>\n      <td>NaN</td>\n      <td>Q</td>\n    </tr>\n  </tbody>\n</table>\n<p>891 rows × 12 columns</p>\n</div>"
     },
     "metadata": {},
     "execution_count": 2
    }
   ],
   "source": [
    "import pandas as pd\n",
    "import numpy as np\n",
    "import tabulate as tab\n",
    "\n",
    "dataset = pd.read_csv('titanic.csv')\n",
    "dataset"
   ]
  },
  {
   "cell_type": "code",
   "execution_count": 3,
   "metadata": {},
   "outputs": [
    {
     "output_type": "execute_result",
     "data": {
      "text/plain": "     PassengerId  Pclass                                          Name  Sex  \\\n0            892       3                              Kelly, Mr. James    1   \n1            893       3              Wilkes, Mrs. James (Ellen Needs)    0   \n2            894       2                     Myles, Mr. Thomas Francis    1   \n3            895       3                              Wirz, Mr. Albert    1   \n4            896       3  Hirvonen, Mrs. Alexander (Helga E Lindqvist)    0   \n..           ...     ...                                           ...  ...   \n413         1305       3                            Spector, Mr. Woolf    1   \n414         1306       1                  Oliva y Ocana, Dona. Fermina    0   \n415         1307       3                  Saether, Mr. Simon Sivertsen    1   \n416         1308       3                           Ware, Mr. Frederick    1   \n417         1309       3                      Peter, Master. Michael J    1   \n\n      Age  SibSp  Parch              Ticket      Fare Cabin Embarked  \n0    34.5      0      0              330911    7.8292   NaN        Q  \n1    47.0      1      0              363272    7.0000   NaN        S  \n2    62.0      0      0              240276    9.6875   NaN        Q  \n3    27.0      0      0              315154    8.6625   NaN        S  \n4    22.0      1      1             3101298   12.2875   NaN        S  \n..    ...    ...    ...                 ...       ...   ...      ...  \n413   NaN      0      0           A.5. 3236    8.0500   NaN        S  \n414  39.0      0      0            PC 17758  108.9000  C105        C  \n415  38.5      0      0  SOTON/O.Q. 3101262    7.2500   NaN        S  \n416   NaN      0      0              359309    8.0500   NaN        S  \n417   NaN      1      1                2668   22.3583   NaN        C  \n\n[418 rows x 11 columns]",
      "text/html": "<div>\n<style scoped>\n    .dataframe tbody tr th:only-of-type {\n        vertical-align: middle;\n    }\n\n    .dataframe tbody tr th {\n        vertical-align: top;\n    }\n\n    .dataframe thead th {\n        text-align: right;\n    }\n</style>\n<table border=\"1\" class=\"dataframe\">\n  <thead>\n    <tr style=\"text-align: right;\">\n      <th></th>\n      <th>PassengerId</th>\n      <th>Pclass</th>\n      <th>Name</th>\n      <th>Sex</th>\n      <th>Age</th>\n      <th>SibSp</th>\n      <th>Parch</th>\n      <th>Ticket</th>\n      <th>Fare</th>\n      <th>Cabin</th>\n      <th>Embarked</th>\n    </tr>\n  </thead>\n  <tbody>\n    <tr>\n      <th>0</th>\n      <td>892</td>\n      <td>3</td>\n      <td>Kelly, Mr. James</td>\n      <td>1</td>\n      <td>34.5</td>\n      <td>0</td>\n      <td>0</td>\n      <td>330911</td>\n      <td>7.8292</td>\n      <td>NaN</td>\n      <td>Q</td>\n    </tr>\n    <tr>\n      <th>1</th>\n      <td>893</td>\n      <td>3</td>\n      <td>Wilkes, Mrs. James (Ellen Needs)</td>\n      <td>0</td>\n      <td>47.0</td>\n      <td>1</td>\n      <td>0</td>\n      <td>363272</td>\n      <td>7.0000</td>\n      <td>NaN</td>\n      <td>S</td>\n    </tr>\n    <tr>\n      <th>2</th>\n      <td>894</td>\n      <td>2</td>\n      <td>Myles, Mr. Thomas Francis</td>\n      <td>1</td>\n      <td>62.0</td>\n      <td>0</td>\n      <td>0</td>\n      <td>240276</td>\n      <td>9.6875</td>\n      <td>NaN</td>\n      <td>Q</td>\n    </tr>\n    <tr>\n      <th>3</th>\n      <td>895</td>\n      <td>3</td>\n      <td>Wirz, Mr. Albert</td>\n      <td>1</td>\n      <td>27.0</td>\n      <td>0</td>\n      <td>0</td>\n      <td>315154</td>\n      <td>8.6625</td>\n      <td>NaN</td>\n      <td>S</td>\n    </tr>\n    <tr>\n      <th>4</th>\n      <td>896</td>\n      <td>3</td>\n      <td>Hirvonen, Mrs. Alexander (Helga E Lindqvist)</td>\n      <td>0</td>\n      <td>22.0</td>\n      <td>1</td>\n      <td>1</td>\n      <td>3101298</td>\n      <td>12.2875</td>\n      <td>NaN</td>\n      <td>S</td>\n    </tr>\n    <tr>\n      <th>...</th>\n      <td>...</td>\n      <td>...</td>\n      <td>...</td>\n      <td>...</td>\n      <td>...</td>\n      <td>...</td>\n      <td>...</td>\n      <td>...</td>\n      <td>...</td>\n      <td>...</td>\n      <td>...</td>\n    </tr>\n    <tr>\n      <th>413</th>\n      <td>1305</td>\n      <td>3</td>\n      <td>Spector, Mr. Woolf</td>\n      <td>1</td>\n      <td>NaN</td>\n      <td>0</td>\n      <td>0</td>\n      <td>A.5. 3236</td>\n      <td>8.0500</td>\n      <td>NaN</td>\n      <td>S</td>\n    </tr>\n    <tr>\n      <th>414</th>\n      <td>1306</td>\n      <td>1</td>\n      <td>Oliva y Ocana, Dona. Fermina</td>\n      <td>0</td>\n      <td>39.0</td>\n      <td>0</td>\n      <td>0</td>\n      <td>PC 17758</td>\n      <td>108.9000</td>\n      <td>C105</td>\n      <td>C</td>\n    </tr>\n    <tr>\n      <th>415</th>\n      <td>1307</td>\n      <td>3</td>\n      <td>Saether, Mr. Simon Sivertsen</td>\n      <td>1</td>\n      <td>38.5</td>\n      <td>0</td>\n      <td>0</td>\n      <td>SOTON/O.Q. 3101262</td>\n      <td>7.2500</td>\n      <td>NaN</td>\n      <td>S</td>\n    </tr>\n    <tr>\n      <th>416</th>\n      <td>1308</td>\n      <td>3</td>\n      <td>Ware, Mr. Frederick</td>\n      <td>1</td>\n      <td>NaN</td>\n      <td>0</td>\n      <td>0</td>\n      <td>359309</td>\n      <td>8.0500</td>\n      <td>NaN</td>\n      <td>S</td>\n    </tr>\n    <tr>\n      <th>417</th>\n      <td>1309</td>\n      <td>3</td>\n      <td>Peter, Master. Michael J</td>\n      <td>1</td>\n      <td>NaN</td>\n      <td>1</td>\n      <td>1</td>\n      <td>2668</td>\n      <td>22.3583</td>\n      <td>NaN</td>\n      <td>C</td>\n    </tr>\n  </tbody>\n</table>\n<p>418 rows × 11 columns</p>\n</div>"
     },
     "metadata": {},
     "execution_count": 3
    }
   ],
   "source": [
    "test_dataset = pd.read_csv('titanic_test.csv')\n",
    "test_dataset[\"Sex\"] = test_dataset[\"Sex\"].astype('category').cat.codes\n",
    "test_dataset"
   ]
  },
  {
   "cell_type": "code",
   "execution_count": 4,
   "metadata": {},
   "outputs": [
    {
     "output_type": "execute_result",
     "data": {
      "text/plain": "     Sex        Age  Pclass     Fare\n0      1  22.000000       3   7.2500\n1      0  38.000000       1  71.2833\n2      0  26.000000       3   7.9250\n3      0  35.000000       1  53.1000\n4      1  35.000000       3   8.0500\n..   ...        ...     ...      ...\n886    1  27.000000       2  13.0000\n887    0  19.000000       1  30.0000\n888    0  30.626179       3  23.4500\n889    1  26.000000       1  30.0000\n890    1  32.000000       3   7.7500\n\n[891 rows x 4 columns]",
      "text/html": "<div>\n<style scoped>\n    .dataframe tbody tr th:only-of-type {\n        vertical-align: middle;\n    }\n\n    .dataframe tbody tr th {\n        vertical-align: top;\n    }\n\n    .dataframe thead th {\n        text-align: right;\n    }\n</style>\n<table border=\"1\" class=\"dataframe\">\n  <thead>\n    <tr style=\"text-align: right;\">\n      <th></th>\n      <th>Sex</th>\n      <th>Age</th>\n      <th>Pclass</th>\n      <th>Fare</th>\n    </tr>\n  </thead>\n  <tbody>\n    <tr>\n      <th>0</th>\n      <td>1</td>\n      <td>22.000000</td>\n      <td>3</td>\n      <td>7.2500</td>\n    </tr>\n    <tr>\n      <th>1</th>\n      <td>0</td>\n      <td>38.000000</td>\n      <td>1</td>\n      <td>71.2833</td>\n    </tr>\n    <tr>\n      <th>2</th>\n      <td>0</td>\n      <td>26.000000</td>\n      <td>3</td>\n      <td>7.9250</td>\n    </tr>\n    <tr>\n      <th>3</th>\n      <td>0</td>\n      <td>35.000000</td>\n      <td>1</td>\n      <td>53.1000</td>\n    </tr>\n    <tr>\n      <th>4</th>\n      <td>1</td>\n      <td>35.000000</td>\n      <td>3</td>\n      <td>8.0500</td>\n    </tr>\n    <tr>\n      <th>...</th>\n      <td>...</td>\n      <td>...</td>\n      <td>...</td>\n      <td>...</td>\n    </tr>\n    <tr>\n      <th>886</th>\n      <td>1</td>\n      <td>27.000000</td>\n      <td>2</td>\n      <td>13.0000</td>\n    </tr>\n    <tr>\n      <th>887</th>\n      <td>0</td>\n      <td>19.000000</td>\n      <td>1</td>\n      <td>30.0000</td>\n    </tr>\n    <tr>\n      <th>888</th>\n      <td>0</td>\n      <td>30.626179</td>\n      <td>3</td>\n      <td>23.4500</td>\n    </tr>\n    <tr>\n      <th>889</th>\n      <td>1</td>\n      <td>26.000000</td>\n      <td>1</td>\n      <td>30.0000</td>\n    </tr>\n    <tr>\n      <th>890</th>\n      <td>1</td>\n      <td>32.000000</td>\n      <td>3</td>\n      <td>7.7500</td>\n    </tr>\n  </tbody>\n</table>\n<p>891 rows × 4 columns</p>\n</div>"
     },
     "metadata": {},
     "execution_count": 4
    }
   ],
   "source": [
    "train_data = dataset[[\"Sex\",\"Age\",\"Pclass\",\"Fare\"]]\n",
    "train_data[\"Age\"].fillna(\n",
    "    dataset.groupby([\"Survived\"])[\"Age\"].transform(\"mean\"),\n",
    "    inplace=True\n",
    ")\n",
    "train_data[\"Sex\"] = train_data[\"Sex\"].astype('category').cat.codes\n",
    "train_data"
   ]
  },
  {
   "cell_type": "code",
   "execution_count": 5,
   "metadata": {},
   "outputs": [
    {
     "output_type": "execute_result",
     "data": {
      "text/plain": "     Survived\n0           0\n1           1\n2           1\n3           1\n4           0\n..        ...\n886         0\n887         1\n888         0\n889         1\n890         0\n\n[891 rows x 1 columns]",
      "text/html": "<div>\n<style scoped>\n    .dataframe tbody tr th:only-of-type {\n        vertical-align: middle;\n    }\n\n    .dataframe tbody tr th {\n        vertical-align: top;\n    }\n\n    .dataframe thead th {\n        text-align: right;\n    }\n</style>\n<table border=\"1\" class=\"dataframe\">\n  <thead>\n    <tr style=\"text-align: right;\">\n      <th></th>\n      <th>Survived</th>\n    </tr>\n  </thead>\n  <tbody>\n    <tr>\n      <th>0</th>\n      <td>0</td>\n    </tr>\n    <tr>\n      <th>1</th>\n      <td>1</td>\n    </tr>\n    <tr>\n      <th>2</th>\n      <td>1</td>\n    </tr>\n    <tr>\n      <th>3</th>\n      <td>1</td>\n    </tr>\n    <tr>\n      <th>4</th>\n      <td>0</td>\n    </tr>\n    <tr>\n      <th>...</th>\n      <td>...</td>\n    </tr>\n    <tr>\n      <th>886</th>\n      <td>0</td>\n    </tr>\n    <tr>\n      <th>887</th>\n      <td>1</td>\n    </tr>\n    <tr>\n      <th>888</th>\n      <td>0</td>\n    </tr>\n    <tr>\n      <th>889</th>\n      <td>1</td>\n    </tr>\n    <tr>\n      <th>890</th>\n      <td>0</td>\n    </tr>\n  </tbody>\n</table>\n<p>891 rows × 1 columns</p>\n</div>"
     },
     "metadata": {},
     "execution_count": 5
    }
   ],
   "source": [
    "train_label = dataset[[\"Survived\"]]\n",
    "train_label"
   ]
  },
  {
   "cell_type": "code",
   "execution_count": 6,
   "metadata": {},
   "outputs": [
    {
     "output_type": "execute_result",
     "data": {
      "text/plain": "     Sex   Age  Pclass      Fare\n0      1  34.5       3    7.8292\n1      0  47.0       3    7.0000\n2      1  62.0       2    9.6875\n3      1  27.0       3    8.6625\n4      0  22.0       3   12.2875\n..   ...   ...     ...       ...\n409    0   3.0       3   13.7750\n411    0  37.0       1   90.0000\n412    0  28.0       3    7.7750\n414    0  39.0       1  108.9000\n415    1  38.5       3    7.2500\n\n[331 rows x 4 columns]",
      "text/html": "<div>\n<style scoped>\n    .dataframe tbody tr th:only-of-type {\n        vertical-align: middle;\n    }\n\n    .dataframe tbody tr th {\n        vertical-align: top;\n    }\n\n    .dataframe thead th {\n        text-align: right;\n    }\n</style>\n<table border=\"1\" class=\"dataframe\">\n  <thead>\n    <tr style=\"text-align: right;\">\n      <th></th>\n      <th>Sex</th>\n      <th>Age</th>\n      <th>Pclass</th>\n      <th>Fare</th>\n    </tr>\n  </thead>\n  <tbody>\n    <tr>\n      <th>0</th>\n      <td>1</td>\n      <td>34.5</td>\n      <td>3</td>\n      <td>7.8292</td>\n    </tr>\n    <tr>\n      <th>1</th>\n      <td>0</td>\n      <td>47.0</td>\n      <td>3</td>\n      <td>7.0000</td>\n    </tr>\n    <tr>\n      <th>2</th>\n      <td>1</td>\n      <td>62.0</td>\n      <td>2</td>\n      <td>9.6875</td>\n    </tr>\n    <tr>\n      <th>3</th>\n      <td>1</td>\n      <td>27.0</td>\n      <td>3</td>\n      <td>8.6625</td>\n    </tr>\n    <tr>\n      <th>4</th>\n      <td>0</td>\n      <td>22.0</td>\n      <td>3</td>\n      <td>12.2875</td>\n    </tr>\n    <tr>\n      <th>...</th>\n      <td>...</td>\n      <td>...</td>\n      <td>...</td>\n      <td>...</td>\n    </tr>\n    <tr>\n      <th>409</th>\n      <td>0</td>\n      <td>3.0</td>\n      <td>3</td>\n      <td>13.7750</td>\n    </tr>\n    <tr>\n      <th>411</th>\n      <td>0</td>\n      <td>37.0</td>\n      <td>1</td>\n      <td>90.0000</td>\n    </tr>\n    <tr>\n      <th>412</th>\n      <td>0</td>\n      <td>28.0</td>\n      <td>3</td>\n      <td>7.7750</td>\n    </tr>\n    <tr>\n      <th>414</th>\n      <td>0</td>\n      <td>39.0</td>\n      <td>1</td>\n      <td>108.9000</td>\n    </tr>\n    <tr>\n      <th>415</th>\n      <td>1</td>\n      <td>38.5</td>\n      <td>3</td>\n      <td>7.2500</td>\n    </tr>\n  </tbody>\n</table>\n<p>331 rows × 4 columns</p>\n</div>"
     },
     "metadata": {},
     "execution_count": 6
    }
   ],
   "source": [
    "import numbers\n",
    "test_data = test_dataset[[\"Sex\",\"Age\",\"Pclass\",\"Fare\"]]\n",
    "deletedIdx = []\n",
    "for i in range(0, len(test_data)):\n",
    "    if test_data[\"Age\"][i] >= 0 and test_data[\"Fare\"][i] >= 0:\n",
    "        pass\n",
    "    else:\n",
    "        deletedIdx.append(i)\n",
    "test_data = test_data.dropna(subset=['Age',\"Fare\"])\n",
    "test_data"
   ]
  },
  {
   "cell_type": "code",
   "execution_count": 7,
   "metadata": {},
   "outputs": [
    {
     "output_type": "execute_result",
     "data": {
      "text/plain": "0      0\n1      1\n2      0\n3      0\n4      1\n      ..\n409    1\n411    1\n412    1\n414    1\n415    0\nName: Survived, Length: 331, dtype: int64"
     },
     "metadata": {},
     "execution_count": 7
    }
   ],
   "source": [
    "test_label = pd.read_csv('titanic_testlabel.csv')[\"Survived\"]\n",
    "test_label = test_label.drop(deletedIdx)\n",
    "test_label"
   ]
  },
  {
   "cell_type": "code",
   "execution_count": 8,
   "metadata": {},
   "outputs": [
    {
     "output_type": "stream",
     "name": "stdout",
     "text": "Sebelum Normalisasi\n╒════════╤═══════╤═════════╕\n│ Data   │   Min │     Max │\n╞════════╪═══════╪═════════╡\n│ Age    │  0.42 │  80     │\n├────────┼───────┼─────────┤\n│ Fare   │  0    │ 512.329 │\n├────────┼───────┼─────────┤\n│ Sex    │  0    │   1     │\n├────────┼───────┼─────────┤\n│ Pclass │  1    │   3     │\n╘════════╧═══════╧═════════╛\n\n"
    }
   ],
   "source": [
    "print(\"Sebelum Normalisasi\")\n",
    "print(\n",
    "    tab.tabulate([\n",
    "        ['Age', train_data[\"Age\"].min(), train_data[\"Age\"].max()],\n",
    "        ['Fare', train_data[\"Fare\"].min(), train_data[\"Fare\"].max()],\n",
    "        ['Sex', train_data[\"Sex\"].min(), train_data[\"Sex\"].max()],\n",
    "        ['Pclass', train_data[\"Pclass\"].min(), train_data[\"Pclass\"].max()]\n",
    "    ], headers=['Data','Min','Max'], tablefmt='fancy_grid')\n",
    ")\n",
    "print()\n",
    "# ===================================================================="
   ]
  },
  {
   "cell_type": "code",
   "execution_count": 9,
   "metadata": {},
   "outputs": [
    {
     "output_type": "stream",
     "name": "stdout",
     "text": "Sesudah Normalisasi\n╒════════╤══════════╤══════════╕\n│ Data   │      Min │      Max │\n╞════════╪══════════╪══════════╡\n│ Age    │ 0.414722 │  79.9947 │\n├────────┼──────────┼──────────┤\n│ Fare   │ 0        │ 512.329  │\n├────────┼──────────┼──────────┤\n│ Sex    │ 0        │   1      │\n├────────┼──────────┼──────────┤\n│ Pclass │ 0.5      │   2.5    │\n╘════════╧══════════╧══════════╛\n"
    }
   ],
   "source": [
    "minVal = 0\n",
    "maxVal = 1\n",
    "\n",
    "train_data = train_data - train_data.min() * (maxVal-minVal) / (train_data.max()-train_data.min()) + minVal\n",
    "\n",
    "minAge = train_data[\"Age\"].min()\n",
    "maxAge = train_data[\"Age\"].max()\n",
    "minFare = train_data[\"Fare\"].min()\n",
    "maxFare = train_data[\"Fare\"].max()\n",
    "minSex = train_data[\"Sex\"].min()\n",
    "maxSex = train_data[\"Sex\"].max()\n",
    "minPclass = train_data[\"Pclass\"].min()\n",
    "maxPclass = train_data[\"Pclass\"].max()\n",
    "\n",
    "print(\"Sesudah Normalisasi\")\n",
    "print(\n",
    "    tab.tabulate([\n",
    "        ['Age', minAge, maxAge],\n",
    "        ['Fare', minFare, maxFare],\n",
    "        ['Sex', minSex, maxSex],\n",
    "        ['Pclass', minPclass, maxPclass],\n",
    "    ], headers=['Data','Min','Max'], tablefmt='fancy_grid')\n",
    ")"
   ]
  },
  {
   "cell_type": "code",
   "execution_count": 10,
   "metadata": {},
   "outputs": [
    {
     "output_type": "stream",
     "name": "stdout",
     "text": "╒════════╤══════════╤══════════╕\n│ Data   │      Min │      Max │\n╞════════╪══════════╪══════════╡\n│ Age    │ 0.406315 │  76.2363 │\n├────────┼──────────┼──────────┤\n│ Fare   │ 0        │ 512.329  │\n├────────┼──────────┼──────────┤\n│ Sex    │ 0        │   1      │\n├────────┼──────────┼──────────┤\n│ Pclass │ 0.5      │   2.5    │\n╘════════╧══════════╧══════════╛\n"
    }
   ],
   "source": [
    "test_data[\"Age\"] = (\n",
    "    test_data[\"Age\"] -\n",
    "    test_data[\"Age\"].min() * (maxAge-minAge) /\n",
    "    (test_data[\"Age\"].max()-test_data[\"Age\"].min()) + minAge\n",
    ")\n",
    "\n",
    "test_data[\"Fare\"] = (\n",
    "    test_data[\"Fare\"] -\n",
    "    test_data[\"Fare\"].min() * (maxFare-minFare) /\n",
    "    (test_data[\"Fare\"].max()-test_data[\"Fare\"].min()) + minFare\n",
    ")\n",
    "\n",
    "test_data[\"Sex\"] = (\n",
    "    test_data[\"Sex\"] -\n",
    "    test_data[\"Sex\"].min() * (maxSex-minSex) /\n",
    "    (test_data[\"Sex\"].max()-test_data[\"Sex\"].min()) + minSex\n",
    ")\n",
    "\n",
    "test_data[\"Pclass\"] = (\n",
    "    test_data[\"Pclass\"] -\n",
    "    test_data[\"Pclass\"].min() * (maxPclass-minPclass) /\n",
    "    (test_data[\"Pclass\"].max()-test_data[\"Pclass\"].min()) + minPclass\n",
    ")\n",
    "\n",
    "print(\n",
    "    tab.tabulate([\n",
    "        ['Age', str(test_data[\"Age\"].min()), str(test_data[\"Age\"].max())],\n",
    "        ['Fare', str(test_data[\"Fare\"].min()), str(test_data[\"Fare\"].max())],\n",
    "        ['Sex', str(test_data[\"Sex\"].min()), str(test_data[\"Sex\"].max())],\n",
    "        ['Pclass', str(test_data[\"Pclass\"].min()), str(test_data[\"Pclass\"].max())]\n",
    "    ], headers=['Data','Min','Max'], tablefmt='fancy_grid')\n",
    ")"
   ]
  },
  {
   "cell_type": "code",
   "execution_count": 11,
   "metadata": {},
   "outputs": [
    {
     "output_type": "stream",
     "name": "stdout",
     "text": "1-NN\nError ratio : 0.41389728096676737\n              precision    recall  f1-score   support\n\n           0       0.69      0.60      0.64       204\n           1       0.47      0.56      0.51       127\n\n    accuracy                           0.59       331\n   macro avg       0.58      0.58      0.58       331\nweighted avg       0.60      0.59      0.59       331\n=====================================================\n2-NN\nError ratio : 0.3413897280966768\n              precision    recall  f1-score   support\n\n           0       0.68      0.84      0.75       204\n           1       0.59      0.37      0.45       127\n\n    accuracy                           0.66       331\n   macro avg       0.63      0.60      0.60       331\nweighted avg       0.65      0.66      0.64       331\n=====================================================\n3-NN\nError ratio : 0.35649546827794565\n              precision    recall  f1-score   support\n\n           0       0.71      0.70      0.71       204\n           1       0.53      0.55      0.54       127\n\n    accuracy                           0.64       331\n   macro avg       0.62      0.63      0.63       331\nweighted avg       0.65      0.64      0.64       331\n=====================================================\n4-NN\nError ratio : 0.3534743202416919\n              precision    recall  f1-score   support\n\n           0       0.69      0.79      0.73       204\n           1       0.55      0.42      0.48       127\n\n    accuracy                           0.65       331\n   macro avg       0.62      0.60      0.60       331\nweighted avg       0.63      0.65      0.63       331\n=====================================================\n5-NN\nError ratio : 0.36253776435045315\n              precision    recall  f1-score   support\n\n           0       0.71      0.69      0.70       204\n           1       0.53      0.55      0.54       127\n\n    accuracy                           0.64       331\n   macro avg       0.62      0.62      0.62       331\nweighted avg       0.64      0.64      0.64       331\n=====================================================\n6-NN\nError ratio : 0.3534743202416919\n              precision    recall  f1-score   support\n\n           0       0.70      0.76      0.73       204\n           1       0.55      0.46      0.50       127\n\n    accuracy                           0.65       331\n   macro avg       0.62      0.61      0.61       331\nweighted avg       0.64      0.65      0.64       331\n=====================================================\n7-NN\nError ratio : 0.36253776435045315\n              precision    recall  f1-score   support\n\n           0       0.71      0.70      0.70       204\n           1       0.53      0.54      0.53       127\n\n    accuracy                           0.64       331\n   macro avg       0.62      0.62      0.62       331\nweighted avg       0.64      0.64      0.64       331\n=====================================================\n8-NN\nError ratio : 0.36253776435045315\n              precision    recall  f1-score   support\n\n           0       0.69      0.74      0.71       204\n           1       0.53      0.48      0.50       127\n\n    accuracy                           0.64       331\n   macro avg       0.61      0.61      0.61       331\nweighted avg       0.63      0.64      0.63       331\n=====================================================\n9-NN\nError ratio : 0.3655589123867069\n              precision    recall  f1-score   support\n\n           0       0.70      0.71      0.70       204\n           1       0.52      0.52      0.52       127\n\n    accuracy                           0.63       331\n   macro avg       0.61      0.61      0.61       331\nweighted avg       0.63      0.63      0.63       331\n=====================================================\n10-NN\nError ratio : 0.3474320241691843\n              precision    recall  f1-score   support\n\n           0       0.70      0.77      0.73       204\n           1       0.56      0.46      0.51       127\n\n    accuracy                           0.65       331\n   macro avg       0.63      0.62      0.62       331\nweighted avg       0.64      0.65      0.65       331\n=====================================================\n"
    }
   ],
   "source": [
    "from sklearn.neighbors import KNeighborsClassifier\n",
    "from sklearn.metrics import classification_report, accuracy_score\n",
    "\n",
    "error_result = []\n",
    "N = 10\n",
    "\n",
    "for k in range(1, N+1):\n",
    "    classifier = KNeighborsClassifier(n_neighbors=k)\n",
    "    classifier.fit(train_data, train_label)\n",
    "    ypred = classifier.predict(test_data)\n",
    "    accuracy = accuracy_score(test_label, ypred)\n",
    "    error = 1 - accuracy\n",
    "    error_result.append(error)\n",
    "\n",
    "    print(str(k) + \"-NN\")\n",
    "    print(\"Error ratio : \" + str(error))\n",
    "    print(classification_report(test_label, ypred), end=\"\")\n",
    "    print(\"=====================================================\")"
   ]
  },
  {
   "cell_type": "code",
   "execution_count": 14,
   "metadata": {},
   "outputs": [
    {
     "output_type": "execute_result",
     "data": {
      "text/plain": "     Survived\n0           0\n1           1\n2           1\n3           1\n4           0\n..        ...\n886         0\n887         1\n888         0\n889         1\n890         0\n\n[891 rows x 1 columns]",
      "text/html": "<div>\n<style scoped>\n    .dataframe tbody tr th:only-of-type {\n        vertical-align: middle;\n    }\n\n    .dataframe tbody tr th {\n        vertical-align: top;\n    }\n\n    .dataframe thead th {\n        text-align: right;\n    }\n</style>\n<table border=\"1\" class=\"dataframe\">\n  <thead>\n    <tr style=\"text-align: right;\">\n      <th></th>\n      <th>Survived</th>\n    </tr>\n  </thead>\n  <tbody>\n    <tr>\n      <th>0</th>\n      <td>0</td>\n    </tr>\n    <tr>\n      <th>1</th>\n      <td>1</td>\n    </tr>\n    <tr>\n      <th>2</th>\n      <td>1</td>\n    </tr>\n    <tr>\n      <th>3</th>\n      <td>1</td>\n    </tr>\n    <tr>\n      <th>4</th>\n      <td>0</td>\n    </tr>\n    <tr>\n      <th>...</th>\n      <td>...</td>\n    </tr>\n    <tr>\n      <th>886</th>\n      <td>0</td>\n    </tr>\n    <tr>\n      <th>887</th>\n      <td>1</td>\n    </tr>\n    <tr>\n      <th>888</th>\n      <td>0</td>\n    </tr>\n    <tr>\n      <th>889</th>\n      <td>1</td>\n    </tr>\n    <tr>\n      <th>890</th>\n      <td>0</td>\n    </tr>\n  </tbody>\n</table>\n<p>891 rows × 1 columns</p>\n</div>"
     },
     "metadata": {},
     "execution_count": 14
    }
   ],
   "source": [
    "train_label"
   ]
  }
 ],
 "metadata": {
  "language_info": {
   "codemirror_mode": {
    "name": "ipython",
    "version": 3
   },
   "file_extension": ".py",
   "mimetype": "text/x-python",
   "name": "python",
   "nbconvert_exporter": "python",
   "pygments_lexer": "ipython3",
   "version": "3.7.3-final"
  },
  "orig_nbformat": 2,
  "kernelspec": {
   "name": "python37364bitdataminingvenv040b2d7edb43458bb09fb3ef07d16849",
   "display_name": "Python 3.7.3 64-bit ('DataMining': venv)"
  }
 },
 "nbformat": 4,
 "nbformat_minor": 2
}