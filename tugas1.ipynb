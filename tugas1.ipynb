{
 "cells": [
  {
   "cell_type": "code",
   "execution_count": 1,
   "metadata": {},
   "outputs": [
    {
     "ename": "ModuleNotFoundError",
     "evalue": "No module named 'pandas'",
     "output_type": "error",
     "traceback": [
      "\u001b[0;31m---------------------------------------------------------------------------\u001b[0m",
      "\u001b[0;31mModuleNotFoundError\u001b[0m                       Traceback (most recent call last)",
      "\u001b[0;32m<ipython-input-1-c8d2eebbb706>\u001b[0m in \u001b[0;36m<module>\u001b[0;34m\u001b[0m\n\u001b[0;32m----> 1\u001b[0;31m \u001b[0;32mimport\u001b[0m \u001b[0mpandas\u001b[0m \u001b[0;32mas\u001b[0m \u001b[0mpd\u001b[0m\u001b[0;34m\u001b[0m\u001b[0;34m\u001b[0m\u001b[0m\n\u001b[0m\u001b[1;32m      2\u001b[0m \u001b[0;32mimport\u001b[0m \u001b[0mnumpy\u001b[0m \u001b[0;32mas\u001b[0m \u001b[0mnp\u001b[0m\u001b[0;34m\u001b[0m\u001b[0;34m\u001b[0m\u001b[0m\n\u001b[1;32m      3\u001b[0m \u001b[0;34m\u001b[0m\u001b[0m\n\u001b[1;32m      4\u001b[0m \u001b[0mdataset\u001b[0m \u001b[0;34m=\u001b[0m \u001b[0mpd\u001b[0m\u001b[0;34m.\u001b[0m\u001b[0mread_csv\u001b[0m\u001b[0;34m(\u001b[0m\u001b[0;34m\"titanic.csv\"\u001b[0m\u001b[0;34m,\u001b[0m\u001b[0;34m\",\"\u001b[0m\u001b[0;34m)\u001b[0m\u001b[0;34m\u001b[0m\u001b[0;34m\u001b[0m\u001b[0m\n\u001b[1;32m      5\u001b[0m \u001b[0;34m\u001b[0m\u001b[0m\n",
      "\u001b[0;31mModuleNotFoundError\u001b[0m: No module named 'pandas'"
     ]
    }
   ],
   "source": [
    "import pandas as pd\n",
    "import numpy as np\n",
    "\n",
    "dataset = pd.read_csv(\"titanic.csv\",\",\")\n",
    "\n",
    "print(dataset)"
   ]
  },
  {
   "cell_type": "code",
   "execution_count": 2,
   "metadata": {},
   "outputs": [
    {
     "name": "stdout",
     "output_type": "stream",
     "text": [
      "Jumlah Baris =  891\n",
      "Jumlah Kolom =  12\n"
     ]
    }
   ],
   "source": [
    "data_array = np.array(dataset)\n",
    "dimensi = data_array.shape\n",
    "print(\"Jumlah Baris = \",dimensi[0])\n",
    "print(\"Jumlah Kolom = \",dimensi[1])\n",
    " "
   ]
  },
  {
   "cell_type": "code",
   "execution_count": 3,
   "metadata": {},
   "outputs": [
    {
     "name": "stdout",
     "output_type": "stream",
     "text": [
      "577\n"
     ]
    }
   ],
   "source": [
    "dataset.columns\n",
    "data_male=dataset.loc[dataset['Sex']==\"male\"]\n",
    "jumlah = data_male['Sex'].count()\n",
    "print(jumlah)"
   ]
  },
  {
   "cell_type": "code",
   "execution_count": 4,
   "metadata": {},
   "outputs": [
    {
     "name": "stdout",
     "output_type": "stream",
     "text": [
      "                                                  Name     Sex Age  Pclass  \\\n",
      "0                              Braund, Mr. Owen Harris    male  22       3   \n",
      "1    Cumings, Mrs. John Bradley (Florence Briggs Th...  female  38       1   \n",
      "2                               Heikkinen, Miss. Laina  female  26       3   \n",
      "3         Futrelle, Mrs. Jacques Heath (Lily May Peel)  female  35       1   \n",
      "4                             Allen, Mr. William Henry    male  35       3   \n",
      "..                                                 ...     ...  ..     ...   \n",
      "886                              Montvila, Rev. Juozas    male  27       2   \n",
      "887                       Graham, Miss. Margaret Edith  female  19       1   \n",
      "888           Johnston, Miss. Catherine Helen \"Carrie\"  female           3   \n",
      "889                              Behr, Mr. Karl Howell    male  26       1   \n",
      "890                                Dooley, Mr. Patrick    male  32       3   \n",
      "\n",
      "        Fare  \n",
      "0     7.2500  \n",
      "1    71.2833  \n",
      "2     7.9250  \n",
      "3    53.1000  \n",
      "4     8.0500  \n",
      "..       ...  \n",
      "886  13.0000  \n",
      "887  30.0000  \n",
      "888  23.4500  \n",
      "889  30.0000  \n",
      "890   7.7500  \n",
      "\n",
      "[891 rows x 5 columns]\n"
     ]
    }
   ],
   "source": [
    "data = dataset[['Name','Sex','Age','Pclass','Fare']]\n",
    "print(data)"
   ]
  },
  {
   "cell_type": "code",
   "execution_count": 22,
   "metadata": {},
   "outputs": [
    {
     "name": "stdout",
     "output_type": "stream",
     "text": [
      "     Survived\n",
      "0           0\n",
      "1           1\n",
      "2           1\n",
      "3           1\n",
      "4           0\n",
      "..        ...\n",
      "886         0\n",
      "887         1\n",
      "888         0\n",
      "889         1\n",
      "890         0\n",
      "\n",
      "[891 rows x 1 columns]\n"
     ]
    }
   ],
   "source": [
    "classes = dataset[['Survived']]\n",
    "print(classes)"
   ]
  },
  {
   "cell_type": "code",
   "execution_count": 28,
   "metadata": {},
   "outputs": [
    {
     "name": "stdout",
     "output_type": "stream",
     "text": [
      "                                                  Name     Sex   Age  Pclass  \\\n",
      "0                              Braund, Mr. Owen Harris    male  22.0       3   \n",
      "1    Cumings, Mrs. John Bradley (Florence Briggs Th...  female  38.0       1   \n",
      "2                               Heikkinen, Miss. Laina  female  26.0       3   \n",
      "3         Futrelle, Mrs. Jacques Heath (Lily May Peel)  female  35.0       1   \n",
      "4                             Allen, Mr. William Henry    male  35.0       3   \n",
      "..                                                 ...     ...   ...     ...   \n",
      "886                              Montvila, Rev. Juozas    male  27.0       2   \n",
      "887                       Graham, Miss. Margaret Edith  female  19.0       1   \n",
      "888           Johnston, Miss. Catherine Helen \"Carrie\"  female   NaN       3   \n",
      "889                              Behr, Mr. Karl Howell    male  26.0       1   \n",
      "890                                Dooley, Mr. Patrick    male  32.0       3   \n",
      "\n",
      "        Fare  Relatives  \n",
      "0     7.2500          1  \n",
      "1    71.2833          1  \n",
      "2     7.9250          0  \n",
      "3    53.1000          1  \n",
      "4     8.0500          0  \n",
      "..       ...        ...  \n",
      "886  13.0000          0  \n",
      "887  30.0000          0  \n",
      "888  23.4500          3  \n",
      "889  30.0000          0  \n",
      "890   7.7500          0  \n",
      "\n",
      "[891 rows x 6 columns]\n"
     ]
    }
   ],
   "source": [
    "\n",
    "print(data)"
   ]
  },
  {
   "cell_type": "code",
   "execution_count": 44,
   "metadata": {},
   "outputs": [
    {
     "name": "stdout",
     "output_type": "stream",
     "text": [
      "Jumlah Pclass 1 :  216\n",
      "Jumlah Pclass 2 :  184\n",
      "Jumlah Pclass 3 :  491\n"
     ]
    }
   ],
   "source": [
    "countPclass1 = dataset.loc[dataset['Pclass']==1]\n",
    "countPclass2 = dataset.loc[dataset['Pclass']==2]\n",
    "countPclass3 = dataset.loc[dataset['Pclass']==3]\n",
    "\n",
    "sumPclass1 = countPclass1['Pclass'].count()\n",
    "sumPclass2 = countPclass2['Pclass'].count()\n",
    "sumPclass3 = countPclass3['Pclass'].count()\n",
    "\n",
    "print(\"Jumlah Pclass 1 : \",sumPclass1)\n",
    "print(\"Jumlah Pclass 2 : \",sumPclass2)\n",
    "print(\"Jumlah Pclass 3 : \",sumPclass3)"
   ]
  },
  {
   "cell_type": "code",
   "execution_count": 47,
   "metadata": {},
   "outputs": [
    {
     "name": "stdout",
     "output_type": "stream",
     "text": [
      "Male :  577\n",
      "Female :  314\n"
     ]
    }
   ],
   "source": [
    "data_male=dataset.loc[dataset['Sex']==\"male\"]\n",
    "data_female=dataset.loc[dataset['Sex']==\"female\"]\n",
    "\n",
    "sum1 = data_male['Sex'].count()\n",
    "sum2 = data_female['Sex'].count()\n",
    "\n",
    "print(\"Male : \",sum1)\n",
    "print(\"Female : \",sum2)\n"
   ]
  },
  {
   "cell_type": "code",
   "execution_count": 52,
   "metadata": {},
   "outputs": [
    {
     "name": "stdout",
     "output_type": "stream",
     "text": [
      "Jumlah yang meninggal diPclass 1 :  80\n",
      "Jumlah yang hidup diPclass 1     :  136\n"
     ]
    }
   ],
   "source": [
    "deadPclass1 = countPclass1.loc[countPclass1['Survived']==0]\n",
    "survivedPclass1 = countPclass1.loc[countPclass1['Survived']==1]\n",
    "\n",
    "jumlah1 = deadPclass1['Pclass'].count()\n",
    "jumlah2 = survivedPclass1['Pclass'].count()\n",
    "\n",
    "print(\"Jumlah yang meninggal diPclass 1 : \",jumlah1)\n",
    "print(\"Jumlah yang hidup diPclass 1     : \",jumlah2)"
   ]
  },
  {
   "cell_type": "code",
   "execution_count": null,
   "metadata": {},
   "outputs": [],
   "source": []
  }
 ],
 "metadata": {
  "kernelspec": {
   "display_name": "Python 3",
   "language": "python",
   "name": "python3"
  },
  "language_info": {
   "codemirror_mode": {
    "name": "ipython",
    "version": 3
   },
   "file_extension": ".py",
   "mimetype": "text/x-python",
   "name": "python",
   "nbconvert_exporter": "python",
   "pygments_lexer": "ipython3",
   "version": "3.7.3"
  }
 },
 "nbformat": 4,
 "nbformat_minor": 4
}
